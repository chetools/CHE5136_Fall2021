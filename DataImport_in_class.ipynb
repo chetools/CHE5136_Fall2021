{
  "nbformat": 4,
  "nbformat_minor": 0,
  "metadata": {
    "colab": {
      "name": "DataImport_in_class.ipynb",
      "provenance": [],
      "collapsed_sections": [],
      "authorship_tag": "ABX9TyNRA4jLSHAyAEryzr73zkOK",
      "include_colab_link": true
    },
    "kernelspec": {
      "name": "python3",
      "display_name": "Python 3"
    },
    "language_info": {
      "name": "python"
    }
  },
  "cells": [
    {
      "cell_type": "markdown",
      "metadata": {
        "id": "view-in-github",
        "colab_type": "text"
      },
      "source": [
        "<a href=\"https://colab.research.google.com/github/profteachkids/CHE5136_Fall2021/blob/main/DataImport_in_class.ipynb\" target=\"_parent\"><img src=\"https://colab.research.google.com/assets/colab-badge.svg\" alt=\"Open In Colab\"/></a>"
      ]
    },
    {
      "cell_type": "code",
      "metadata": {
        "colab": {
          "base_uri": "https://localhost:8080/"
        },
        "id": "YRHnGaUDIIge",
        "outputId": "13800169-69a3-41a2-e5d0-6e584fbc551d"
      },
      "source": [
        "!pip install dotmap"
      ],
      "execution_count": 1,
      "outputs": [
        {
          "output_type": "stream",
          "name": "stdout",
          "text": [
            "Collecting dotmap\n",
            "  Downloading dotmap-1.3.24-py3-none-any.whl (11 kB)\n",
            "Installing collected packages: dotmap\n",
            "Successfully installed dotmap-1.3.24\n"
          ]
        }
      ]
    },
    {
      "cell_type": "code",
      "metadata": {
        "id": "sUkmrS-B3Fdo"
      },
      "source": [
        "import requests\n",
        "import re\n",
        "import string\n",
        "from dotmap import DotMap\n",
        "import numpy as np"
      ],
      "execution_count": 34,
      "outputs": []
    },
    {
      "cell_type": "code",
      "metadata": {
        "id": "1YWH0ehGGV2k"
      },
      "source": [
        "extract_single_props = {'Molecular Weight' : 'Mw',\n",
        "                        'Critical Temperature' : 'Tc',\n",
        "                        'Critical Pressure' : 'Pc',\n",
        "                        'Critical Volume' : 'Vc',\n",
        "                        'Acentric factor' : 'w',\n",
        "                        'Normal boiling point' : 'Tb',\n",
        "                        'IG heat of formation' : 'HfIG',\n",
        "                        'IG Gibbs of formation' : 'GfIG',\n",
        "                        'Heat of vaporization' : 'HvapNB'}\n",
        "\n",
        "extract_coeff_props={'Vapor Pressure' : 'Pvap',\n",
        "                     'Ideal Gas Heat Capacity':'CpIG',\n",
        "                     'Liquid Heat Capacity' : 'CpL',\n",
        "                     'Solid Heat Capacity' : 'CpS',\n",
        "                     'Heat of Vaporization' : 'Hvap',\n",
        "                     'Liquid Density' : 'rhoL'}"
      ],
      "execution_count": 13,
      "outputs": []
    },
    {
      "cell_type": "code",
      "metadata": {
        "id": "WJyUv5x2_PMt"
      },
      "source": [
        "baseurl = 'https://raw.githubusercontent.com/profteachkids/chetools/main/data/'\n",
        "suffix = 'Props.txt'\n",
        "compounds = ['Water']\n",
        "single_props_pat = re.compile(r'^\\s+([\\w \\/.]+?)\\s+:\\s+([-.0-9e+]+) +([-\\w/.()*]*) *$', re.MULTILINE)\n",
        "coeffs_name_pat = re.compile(r'([\\w ]+)\\s[^\\n]*Equation.*?Coeffs:([-0-9. e+]*)', re.DOTALL)"
      ],
      "execution_count": 10,
      "outputs": []
    },
    {
      "cell_type": "code",
      "metadata": {
        "id": "wtOOgWnbBt9D"
      },
      "source": [
        "text = requests.get(baseurl + 'Methanol' + suffix).text\n",
        "\n",
        "props={}\n",
        "single_props=dict([one_prop[:2] for one_prop in single_props_pat.findall(text)])\n"
      ],
      "execution_count": 47,
      "outputs": []
    },
    {
      "cell_type": "code",
      "metadata": {
        "id": "1l8G-Wb4CRwX"
      },
      "source": [
        "for k,v in extract_single_props.items():\n",
        "    props[v]=float(single_props[k])"
      ],
      "execution_count": 48,
      "outputs": []
    },
    {
      "cell_type": "code",
      "metadata": {
        "id": "0Su5OfqQeTCn"
      },
      "source": [
        "coeffs_name_strings = dict(coeffs_name_pat.findall(text))\n",
        "for fullname, abbrevname in extract_coeff_props.items():\n",
        "    coeff_values = re.split(r'\\s+',coeffs_name_strings[fullname])\n",
        "    for letter, coeff in zip(string.ascii_uppercase,coeff_values[1:]):\n",
        "        props[abbrevname+letter]=float(coeff)\n",
        "\n",
        "props=DotMap(props)"
      ],
      "execution_count": 54,
      "outputs": []
    },
    {
      "cell_type": "code",
      "metadata": {
        "id": "voJKrS3PiRQd"
      },
      "source": [
        "def vapor_pressure(T):\n",
        "    return np.exp(props.PvapA + props.PvapB/T + props.PvapC*np.log(T) + props.PvapD*T**props.PvapE)"
      ],
      "execution_count": 55,
      "outputs": []
    },
    {
      "cell_type": "code",
      "metadata": {
        "colab": {
          "base_uri": "https://localhost:8080/"
        },
        "id": "vr6MCmIzfCj3",
        "outputId": "a639190b-f92e-40cf-beb6-c524511bf982"
      },
      "source": [
        "vapor_pressure(64.7+273.15)"
      ],
      "execution_count": 57,
      "outputs": [
        {
          "output_type": "execute_result",
          "data": {
            "text/plain": [
              "102201.44791476373"
            ]
          },
          "metadata": {},
          "execution_count": 57
        }
      ]
    },
    {
      "cell_type": "code",
      "metadata": {
        "id": "0kiCf3ECIkZt",
        "colab": {
          "base_uri": "https://localhost:8080/",
          "height": 171
        },
        "outputId": "f0dbf3d5-bb21-4717-e61b-fd85d4210fe2"
      },
      "source": [
        "props.PvapA"
      ],
      "execution_count": 53,
      "outputs": [
        {
          "output_type": "error",
          "ename": "AttributeError",
          "evalue": "ignored",
          "traceback": [
            "\u001b[0;31m---------------------------------------------------------------------------\u001b[0m",
            "\u001b[0;31mAttributeError\u001b[0m                            Traceback (most recent call last)",
            "\u001b[0;32m<ipython-input-53-e2413f11509e>\u001b[0m in \u001b[0;36m<module>\u001b[0;34m()\u001b[0m\n\u001b[0;32m----> 1\u001b[0;31m \u001b[0mprops\u001b[0m\u001b[0;34m.\u001b[0m\u001b[0mPvapA\u001b[0m\u001b[0;34m\u001b[0m\u001b[0;34m\u001b[0m\u001b[0m\n\u001b[0m",
            "\u001b[0;31mAttributeError\u001b[0m: 'dict' object has no attribute 'PvapA'"
          ]
        }
      ]
    },
    {
      "cell_type": "code",
      "metadata": {
        "id": "Tll70pL-j_NR"
      },
      "source": [
        ""
      ],
      "execution_count": null,
      "outputs": []
    }
  ]
}