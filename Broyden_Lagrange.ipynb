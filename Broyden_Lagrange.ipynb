{
  "nbformat": 4,
  "nbformat_minor": 0,
  "metadata": {
    "colab": {
      "name": "Broyden_Lagrange.ipynb",
      "provenance": [],
      "collapsed_sections": [],
      "include_colab_link": true
    },
    "kernelspec": {
      "name": "python3",
      "language": "python",
      "display_name": "Python 3"
    }
  },
  "cells": [
    {
      "cell_type": "markdown",
      "metadata": {
        "id": "view-in-github",
        "colab_type": "text"
      },
      "source": [
        "<a href=\"https://colab.research.google.com/github/profteachkids/CHE5136_Fall2021/blob/main/Broyden_Lagrange.ipynb\" target=\"_parent\"><img src=\"https://colab.research.google.com/assets/colab-badge.svg\" alt=\"Open In Colab\"/></a>"
      ]
    },
    {
      "cell_type": "code",
      "metadata": {
        "id": "HcD9HS7wIBx3"
      },
      "source": [
        "import jax\n",
        "import jax.numpy as jnp\n",
        "from jax.config import config\n",
        "config.update(\"jax_enable_x64\", True)\n",
        "eps=1e-12"
      ],
      "execution_count": 7,
      "outputs": []
    },
    {
      "cell_type": "code",
      "metadata": {
        "id": "QEBSGQ5d0tr-"
      },
      "source": [
        "# Limit step size to ensure a decrease in norm\n",
        "\n",
        "def broyden3(func, x, J=None, max_iter=100, verbose=0, xmax=jnp.inf, xmin=-jnp.inf):\n",
        "    Jf = jax.jacobian(func) if J is None else J\n",
        "    J = Jf(x)\n",
        "    Jinv = jnp.linalg.inv(J)\n",
        "    f = func(x)\n",
        "\n",
        "    for i in range(max_iter):\n",
        "\n",
        "        dx = - Jinv @ f\n",
        "        if verbose>0:\n",
        "            print(f\"\\nIter: {i}  dx: {dx}\")\n",
        "\n",
        "        alpha_max_limits = jnp.min(jnp.where(x + dx > xmax, (xmax - x) / (dx), 1))\n",
        "        alpha_min_limits = jnp.min(jnp.where(x + dx < xmin, (xmin - x) / (dx), 1))\n",
        "        alpha = min(alpha_max_limits, alpha_min_limits)\n",
        "\n",
        "        while alpha > 0.01:\n",
        "            dx_try = alpha*dx\n",
        "            xp = x + dx_try\n",
        "            fp = func(xp)\n",
        "            dnorm = jnp.linalg.norm(fp)-jnp.linalg.norm(f)\n",
        "            if verbose>1:\n",
        "                print(f\"Alpha {alpha}   dnorm {dnorm}  dx_try {dx_try}   f {f}    fp {fp}\")\n",
        "            if dnorm > 0:\n",
        "                alpha *= 0.5\n",
        "            else:\n",
        "                break\n",
        "        if alpha <= 0.01:\n",
        "            if verbose>0:\n",
        "                print(\"reevaluate J\")\n",
        "            Jinv = jnp.linalg.inv(Jf(x))\n",
        "            continue\n",
        "\n",
        "        dx=dx_try\n",
        "        f= fp\n",
        "        x= xp\n",
        "        if verbose>0:\n",
        "          print(x, f)\n",
        "        if jnp.linalg.norm(fp) < 1e-12:\n",
        "          break\n",
        "\n",
        "        u = jnp.expand_dims(fp,1)\n",
        "        v = jnp.expand_dims(dx,1)/jnp.linalg.norm(dx)**2\n",
        "        Jinv = Jinv - Jinv @ u @ v.T @ Jinv / (1 + v.T @ Jinv @ u)  #Sherman-Morrison\n",
        "    return x, f"
      ],
      "execution_count": 25,
      "outputs": []
    },
    {
      "cell_type": "code",
      "metadata": {
        "id": "3vTFdVY_wwlf"
      },
      "source": [
        "def func2(x):\n",
        "    return jnp.array([jnp.sin(x[0])  + 0.5 * (x[0] - x[1])**3 - 0.01*jnp.sqrt(x[1]-0.1) - 1.0,\n",
        "            0.5 * (x[1] - x[0])**3 + x[1] + 0.001*jnp.sqrt(1.-x[0])])"
      ],
      "execution_count": 26,
      "outputs": []
    },
    {
      "cell_type": "code",
      "metadata": {
        "id": "_vUcERTqOM3f",
        "colab": {
          "base_uri": "https://localhost:8080/"
        },
        "outputId": "43dcda71-77e9-406a-d785-694221c56eb4"
      },
      "source": [
        "broyden3(func2, 0.95*jnp.ones(2), verbose=2, max_iter=20, xmin=jnp.array([-jnp.inf, 0.1+eps]), xmax = jnp.array([1.-eps, jnp.inf]))"
      ],
      "execution_count": 27,
      "outputs": [
        {
          "output_type": "stream",
          "name": "stdout",
          "text": [
            "\n",
            "Iter: 0  dx: [ 0.32776387 -0.9494907 ]\n",
            "Alpha 0.1525488433460805   dnorm -0.1522769994586285  dx_try [ 0.05       -0.14484371]   f [-0.19580404  0.95022361]    fp [-0.16322784  0.80145776]\n",
            "[1.         0.80515629] [-0.16322784  0.80145776]\n",
            "\n",
            "Iter: 1  dx: [-0.06040385  0.17710007]\n",
            "Alpha 1.0   dnorm 0.18520243065511433  dx_try [-0.06040385  0.17710007]   f [-0.16322784  0.80145776]    fp [-0.20211182  0.98254095]\n",
            "Alpha 0.5   dnorm 0.09447817784862322  dx_try [-0.03020193  0.08855003]   f [-0.16322784  0.80145776]    fp [-0.18391719  0.89365983]\n",
            "Alpha 0.25   dnorm 0.04810126644389001  dx_try [-0.01510096  0.04427502]   f [-0.16322784  0.80145776]    fp [-0.17419768  0.84831118]\n",
            "Alpha 0.125   dnorm 0.024328390472125316  dx_try [-0.00755048  0.02213751]   f [-0.16322784  0.80145776]    fp [-0.16890823  0.82512827]\n",
            "Alpha 0.0625   dnorm 0.012250770451923909  dx_try [-0.00377524  0.01106875]   f [-0.16322784  0.80145776]    fp [-0.1661218  0.8133705]\n",
            "Alpha 0.03125   dnorm 0.006155804409375354  dx_try [-0.00188762  0.00553438]   f [-0.16322784  0.80145776]    fp [-0.16468887  0.80744234]\n",
            "Alpha 0.015625   dnorm 0.003091295713340325  dx_try [-0.00094381  0.00276719]   f [-0.16322784  0.80145776]    fp [-0.16396195  0.804463  ]\n",
            "reevaluate J\n",
            "\n",
            "Iter: 2  dx: [-0.00396171 -2.63263941]\n",
            "Alpha 0.2678514529251927   dnorm -0.48485787460742846  dx_try [-0.00106115 -0.70515629]   f [-0.16322784  0.80145776]    fp [ 0.20410938 -0.26317965]\n",
            "[0.99893885 0.1       ] [ 0.20410938 -0.26317965]\n",
            "\n",
            "Iter: 3  dx: [0.00113593 0.58120031]\n",
            "Alpha 0.9341696363611651   dnorm 0.3034292271174981  dx_try [0.00106115 0.54293968]   f [ 0.20410938 -0.26317965]    fp [-0.14313628  0.6201785 ]\n",
            "Alpha 0.46708481818058256   dnorm -0.08215644652638576  dx_try [0.00053057 0.27146984]   f [ 0.20410938 -0.26317965]    fp [-0.04018975  0.24765655]\n",
            "[0.99946943 0.37146984] [-0.04018975  0.24765655]\n",
            "\n",
            "Iter: 4  dx: [ 0.0001197  -0.08017307]\n",
            "Alpha 1.0   dnorm -0.1363200275813029  dx_try [ 0.0001197  -0.08017307]   f [-0.04018975  0.24765655]    fp [0.01454253 0.11364968]\n",
            "[0.99958912 0.29129677] [0.01454253 0.11364968]\n",
            "\n",
            "Iter: 5  dx: [0.00026716 0.02156392]\n",
            "Alpha 1.0   dnorm 0.036182149075393674  dx_try [0.00026716 0.02156392]   f [0.01454253 0.11364968]    fp [-0.00110213  0.15075445]\n",
            "Alpha 0.5   dnorm 0.017909410593678274  dx_try [0.00013358 0.01078196]   f [0.01454253 0.11364968]    fp [0.00659995 0.13232124]\n",
            "Alpha 0.25   dnorm 0.008889902225109603  dx_try [6.67892421e-05 5.39097913e-03]   f [0.01454253 0.11364968]    fp [0.01054094 0.12301544]\n",
            "Alpha 0.125   dnorm 0.004425684338954572  dx_try [3.33946211e-05 2.69548956e-03]   f [0.01454253 0.11364968]    fp [0.01253413 0.11834008]\n",
            "Alpha 0.0625   dnorm 0.002207591504634815  dx_try [1.66973105e-05 1.34774478e-03]   f [0.01454253 0.11364968]    fp [0.01353642 0.11599676]\n",
            "Alpha 0.03125   dnorm 0.0011024252631503528  dx_try [8.34865527e-06 6.73872391e-04]   f [0.01454253 0.11364968]    fp [0.014039   0.11482369]\n",
            "Alpha 0.015625   dnorm 0.0005508625437436465  dx_try [4.17432763e-06 3.36936196e-04]   f [0.01454253 0.11364968]    fp [0.01429065 0.1142368 ]\n",
            "reevaluate J\n",
            "\n",
            "Iter: 6  dx: [-0.06714751 -0.09462712]\n",
            "Alpha 1.0   dnorm -0.11218214643932015  dx_try [-0.06714751 -0.09462712]   f [0.01454253 0.11364968]    fp [-0.00087305 -0.00222932]\n",
            "[0.93244161 0.19666965] [-0.00087305 -0.00222932]\n",
            "\n",
            "Iter: 7  dx: [0.00188661 0.00207817]\n",
            "Alpha 1.0   dnorm -0.0023332284020675977  dx_try [0.00188661 0.00207817]   f [-0.00087305 -0.00222932]    fp [6.09479982e-05 7.03584954e-07]\n",
            "[0.93432822 0.19874782] [6.09479982e-05 7.03584954e-07]\n",
            "\n",
            "Iter: 8  dx: [-6.18078282e-05 -2.71673602e-05]\n",
            "Alpha 1.0   dnorm -5.705589345473752e-05  dx_try [-6.18078282e-05 -2.71673602e-05]   f [6.09479982e-05 7.03584954e-07]    fp [-3.47076267e-06  1.77028626e-06]\n",
            "[0.93426642 0.19872065] [-3.47076267e-06  1.77028626e-06]\n",
            "\n",
            "Iter: 9  dx: [2.65136889e-06 1.84337427e-07]\n",
            "Alpha 1.0   dnorm -3.7792383541759247e-06  dx_try [2.65136889e-06 1.84337427e-07]   f [-3.47076267e-06  1.77028626e-06]    fp [ 1.04402039e-07 -5.26518030e-08]\n",
            "[0.93426907 0.19872084] [ 1.04402039e-07 -5.26518030e-08]\n",
            "\n",
            "Iter: 10  dx: [-7.76482293e-08 -5.81693889e-09]\n",
            "Alpha 1.0   dnorm -1.1687635081632806e-07  dx_try [-7.76482293e-08 -5.81693889e-09]   f [ 1.04402039e-07 -5.26518030e-08]    fp [ 4.55533389e-11 -2.28623176e-11]\n",
            "[0.93426899 0.19872083] [ 4.55533389e-11 -2.28623176e-11]\n",
            "\n",
            "Iter: 11  dx: [-3.39373319e-11 -2.62206145e-12]\n",
            "Alpha 1.0   dnorm -5.095879421867847e-11  dx_try [-3.39373319e-11 -2.62206145e-12]   f [ 4.55533389e-11 -2.28623176e-11]    fp [ 8.65973959e-15 -4.47477342e-15]\n",
            "[0.93426899 0.19872083] [ 8.65973959e-15 -4.47477342e-15]\n"
          ]
        },
        {
          "output_type": "execute_result",
          "data": {
            "text/plain": [
              "(DeviceArray([0.93426899, 0.19872083], dtype=float64),\n",
              " DeviceArray([ 8.65973959e-15, -4.47477342e-15], dtype=float64))"
            ]
          },
          "metadata": {},
          "execution_count": 27
        }
      ]
    },
    {
      "cell_type": "code",
      "metadata": {
        "id": "JpA7Z_WnONyO",
        "colab": {
          "base_uri": "https://localhost:8080/"
        },
        "outputId": "dddf7b3a-5f04-4050-df73-e91bc6edc86c"
      },
      "source": [
        "# One equality constraint\n",
        "\n",
        "def rosen(x):\n",
        "    return 100*(x[1]-x[0]**2)**2 + (1-x[0])**2\n",
        "\n",
        "def constr(x):\n",
        "    return 2*x[0] + x[1] - 1\n",
        "\n",
        "def L(x):\n",
        "  return rosen(x)-x[2]*constr(x)\n",
        "\n",
        "dL = jax.jit(jax.grad(L))\n",
        "x0 = jnp.array([0.,0., 1.])\n",
        "broyden3(dL, x0)\n"
      ],
      "execution_count": 30,
      "outputs": [
        {
          "output_type": "execute_result",
          "data": {
            "text/plain": [
              "(DeviceArray([ 0.41494432,  0.17011137, -0.41348319], dtype=float64),\n",
              " DeviceArray([ 1.21760241e-14, -4.87804241e-15,  0.00000000e+00], dtype=float64))"
            ]
          },
          "metadata": {},
          "execution_count": 30
        }
      ]
    },
    {
      "cell_type": "code",
      "metadata": {
        "pycharm": {
          "name": "#%%\n"
        },
        "id": "y1irLmvI8rPK",
        "colab": {
          "base_uri": "https://localhost:8080/"
        },
        "outputId": "4e12eb46-4574-49e1-91e8-66cda43d040e"
      },
      "source": [
        "# One inequality constraint x[2] is a slack variable\n",
        "\n",
        "def rosen(x):\n",
        "    return 100*(x[1]-x[0]**2)**2 + (1-x[0])**2\n",
        "\n",
        "def constr(x):\n",
        "    return x[0]**2 + x[1] + x[2]**2 - 1\n",
        "\n",
        "def L(x):\n",
        "  return rosen(x)-x[3]*constr(x)\n",
        "\n",
        "def grads(x):\n",
        "    return jax.jacobian(rosen)(x) + x[3]*jax.jacobian(constr)(x)\n",
        "\n",
        "dL = jax.jit(jax.grad(L)) \n",
        "x0 = jnp.array([0.1,0.1, 10., 1.])\n",
        "x,f=broyden3(dL, x0, max_iter=500)\n",
        "print(x)\n",
        "print(rosen(x))"
      ],
      "execution_count": 33,
      "outputs": [
        {
          "output_type": "stream",
          "name": "stdout",
          "text": [
            "[ 7.07472158e-01  4.99483146e-01 -1.54800687e-18 -2.06741593e-01]\n",
            "0.08567939371082824\n"
          ]
        }
      ]
    },
    {
      "cell_type": "code",
      "metadata": {
        "pycharm": {
          "name": "#%%\n"
        },
        "id": "mAf9LbUX8rPQ"
      },
      "source": [
        "\n",
        "\n"
      ],
      "execution_count": null,
      "outputs": []
    },
    {
      "cell_type": "code",
      "metadata": {
        "id": "oSmmauQ8E36x"
      },
      "source": [
        ""
      ],
      "execution_count": null,
      "outputs": []
    }
  ]
}