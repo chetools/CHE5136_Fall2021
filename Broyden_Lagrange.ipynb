{
  "nbformat": 4,
  "nbformat_minor": 0,
  "metadata": {
    "colab": {
      "name": "Broyden_Lagrange.ipynb",
      "provenance": [],
      "collapsed_sections": [],
      "include_colab_link": true
    },
    "kernelspec": {
      "name": "python3",
      "language": "python",
      "display_name": "Python 3"
    }
  },
  "cells": [
    {
      "cell_type": "markdown",
      "metadata": {
        "id": "view-in-github",
        "colab_type": "text"
      },
      "source": [
        "<a href=\"https://colab.research.google.com/github/profteachkids/CHE5136_Fall2021/blob/main/Broyden_Lagrange.ipynb\" target=\"_parent\"><img src=\"https://colab.research.google.com/assets/colab-badge.svg\" alt=\"Open In Colab\"/></a>"
      ]
    },
    {
      "cell_type": "code",
      "metadata": {
        "id": "HcD9HS7wIBx3"
      },
      "source": [
        "import jax\n",
        "import jax.numpy as jnp\n",
        "from jax.config import config\n",
        "config.update(\"jax_enable_x64\", True)\n",
        "eps=1e-12"
      ],
      "execution_count": 7,
      "outputs": []
    },
    {
      "cell_type": "code",
      "metadata": {
        "id": "QEBSGQ5d0tr-"
      },
      "source": [
        "# Limit step size to ensure a decrease in norm\n",
        "\n",
        "def broyden3(func, x, J=None, tol=1e-10, max_iter=100, verbose=0, xmax=jnp.inf, xmin=-jnp.inf):\n",
        "    Jf = jax.jacobian(func) if J is None else J\n",
        "    J = Jf(x)\n",
        "    Jinv = jnp.linalg.inv(J)\n",
        "    f = func(x)\n",
        "\n",
        "    for i in range(max_iter):\n",
        "\n",
        "        dx = - Jinv @ f\n",
        "        if verbose>0:\n",
        "            print(f\"\\nIter: {i}  dx: {dx}\")\n",
        "\n",
        "        alpha_max_limits = jnp.min(jnp.where(x + dx > xmax, (xmax - x) / (dx), 1))\n",
        "        alpha_min_limits = jnp.min(jnp.where(x + dx < xmin, (xmin - x) / (dx), 1))\n",
        "        alpha = min(alpha_max_limits, alpha_min_limits)\n",
        "\n",
        "        while alpha > 0.01:\n",
        "            dx_try = alpha*dx\n",
        "            xp = x + dx_try\n",
        "            fp = func(xp)\n",
        "            dnorm = jnp.linalg.norm(fp)-jnp.linalg.norm(f)\n",
        "            if verbose>1:\n",
        "                print(f\"Alpha {alpha}   dnorm {dnorm}  dx_try {dx_try}   f {f}    fp {fp}\")\n",
        "            if dnorm > 0:\n",
        "                alpha *= 0.5\n",
        "            else:\n",
        "                break\n",
        "        if alpha <= 0.01:\n",
        "            if verbose>0:\n",
        "                print(\"reevaluate J\")\n",
        "            Jinv = jnp.linalg.inv(Jf(x))\n",
        "            continue\n",
        "\n",
        "        dx=dx_try\n",
        "        f= fp\n",
        "        x= xp\n",
        "        if verbose>0:\n",
        "          print(x, f)\n",
        "        if jnp.all(jnp.abs(f)<tol):\n",
        "          break\n",
        "\n",
        "        u = jnp.expand_dims(fp,1)\n",
        "        v = jnp.expand_dims(dx,1)/jnp.linalg.norm(dx)**2\n",
        "        Jinv = Jinv - Jinv @ u @ v.T @ Jinv / (1 + v.T @ Jinv @ u)  #Sherman-Morrison\n",
        "    return x, f"
      ],
      "execution_count": 47,
      "outputs": []
    },
    {
      "cell_type": "code",
      "metadata": {
        "id": "3vTFdVY_wwlf"
      },
      "source": [
        "def func2(x):\n",
        "    return jnp.array([jnp.sin(x[0])  + 0.5 * (x[0] - x[1])**3 - 0.01*jnp.sqrt(x[1]-0.1) - 1.0,\n",
        "            0.5 * (x[1] - x[0])**3 + x[1] + 0.001*jnp.sqrt(1.-x[0])])"
      ],
      "execution_count": 41,
      "outputs": []
    },
    {
      "cell_type": "code",
      "metadata": {
        "id": "_vUcERTqOM3f"
      },
      "source": [
        "broyden3(func2, 0.95*jnp.ones(2), verbose=2, max_iter=20, xmin=jnp.array([-jnp.inf, 0.1+eps]), xmax = jnp.array([1.-eps, jnp.inf]))"
      ],
      "execution_count": null,
      "outputs": []
    },
    {
      "cell_type": "code",
      "metadata": {
        "id": "pZuTdrdV-Npl"
      },
      "source": [
        "# No constraints\n",
        "def rosen(x):\n",
        "    return 100*(x[1]-x[0]**2)**2 + (1-x[0])**2\n",
        "\n",
        "grad_rosen = jax.grad(rosen)\n",
        "x0 = jnp.array([0.5,0.5])\n",
        "broyden3(grad_rosen, x0, verbose=1, max_iter=500)"
      ],
      "execution_count": null,
      "outputs": []
    },
    {
      "cell_type": "code",
      "metadata": {
        "id": "JpA7Z_WnONyO",
        "colab": {
          "base_uri": "https://localhost:8080/"
        },
        "outputId": "2b526134-ccc0-4e0c-9120-5c2ffe8d7ba2"
      },
      "source": [
        "# One equality constraint\n",
        "\n",
        "def rosen(x):\n",
        "    return 100*(x[1]-x[0]**2)**2 + (1-x[0])**2\n",
        "\n",
        "def constr(x):\n",
        "    return 2*x[0] + x[1] - 1\n",
        "\n",
        "def L(x):\n",
        "  return rosen(x)-x[2]*constr(x)\n",
        "\n",
        "dL = jax.jit(jax.grad(L))\n",
        "x0 = jnp.array([0.,0., 1.])\n",
        "broyden3(dL, x0)\n"
      ],
      "execution_count": 35,
      "outputs": [
        {
          "output_type": "execute_result",
          "data": {
            "text/plain": [
              "(DeviceArray([ 0.41494432,  0.17011137, -0.41348319], dtype=float64),\n",
              " DeviceArray([ 1.21760241e-14, -4.87804241e-15,  0.00000000e+00], dtype=float64))"
            ]
          },
          "metadata": {},
          "execution_count": 35
        }
      ]
    },
    {
      "cell_type": "code",
      "metadata": {
        "pycharm": {
          "name": "#%%\n"
        },
        "id": "y1irLmvI8rPK",
        "colab": {
          "base_uri": "https://localhost:8080/"
        },
        "outputId": "4e12eb46-4574-49e1-91e8-66cda43d040e"
      },
      "source": [
        "# One inequality constraint x[2] is a slack variable\n",
        "\n",
        "def rosen(x):\n",
        "    return 100*(x[1]-x[0]**2)**2 + (1-x[0])**2\n",
        "\n",
        "def constr(x):\n",
        "    return x[0]**2 + x[1] + x[2]**2 - 1\n",
        "\n",
        "def L(x):\n",
        "  return rosen(x)-x[3]*constr(x)\n",
        "\n",
        "def grads(x):\n",
        "    return jax.jacobian(rosen)(x) + x[3]*jax.jacobian(constr)(x)\n",
        "\n",
        "dL = jax.jit(jax.grad(L)) \n",
        "x0 = jnp.array([0.1,0.1, 10., 1.])\n",
        "x,f=broyden3(dL, x0, max_iter=500)\n",
        "print(x)\n",
        "print(rosen(x))"
      ],
      "execution_count": 33,
      "outputs": [
        {
          "output_type": "stream",
          "name": "stdout",
          "text": [
            "[ 7.07472158e-01  4.99483146e-01 -1.54800687e-18 -2.06741593e-01]\n",
            "0.08567939371082824\n"
          ]
        }
      ]
    },
    {
      "cell_type": "code",
      "metadata": {
        "pycharm": {
          "name": "#%%\n"
        },
        "id": "mAf9LbUX8rPQ"
      },
      "source": [
        "\n",
        "\n"
      ],
      "execution_count": null,
      "outputs": []
    },
    {
      "cell_type": "code",
      "metadata": {
        "id": "oSmmauQ8E36x"
      },
      "source": [
        ""
      ],
      "execution_count": null,
      "outputs": []
    }
  ]
}