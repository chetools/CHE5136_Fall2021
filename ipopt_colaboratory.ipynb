{
  "nbformat": 4,
  "nbformat_minor": 0,
  "metadata": {
    "colab": {
      "name": "ipopt_colaboratory.ipynb",
      "provenance": [],
      "authorship_tag": "ABX9TyPdqLXY2Po4J/o2/4Pz0nzw",
      "include_colab_link": true
    },
    "kernelspec": {
      "name": "python3",
      "display_name": "Python 3"
    },
    "language_info": {
      "name": "python"
    }
  },
  "cells": [
    {
      "cell_type": "markdown",
      "metadata": {
        "id": "view-in-github",
        "colab_type": "text"
      },
      "source": [
        "<a href=\"https://colab.research.google.com/github/profteachkids/CHE5136_Fall2021/blob/main/ipopt_colaboratory.ipynb\" target=\"_parent\"><img src=\"https://colab.research.google.com/assets/colab-badge.svg\" alt=\"Open In Colab\"/></a>"
      ]
    },
    {
      "cell_type": "code",
      "source": [
        "!pip install -q condacolab\n",
        "import condacolab\n",
        "condacolab.install()"
      ],
      "metadata": {
        "colab": {
          "base_uri": "https://localhost:8080/"
        },
        "id": "gJefRWFmJVED",
        "outputId": "1c323942-6728-4e68-e07e-82ba028a744e"
      },
      "execution_count": 1,
      "outputs": [
        {
          "output_type": "stream",
          "name": "stdout",
          "text": [
            "⏬ Downloading https://github.com/jaimergp/miniforge/releases/latest/download/Mambaforge-colab-Linux-x86_64.sh...\n",
            "📦 Installing...\n",
            "📌 Adjusting configuration...\n",
            "🩹 Patching environment...\n",
            "⏲ Done in 0:00:40\n",
            "🔁 Restarting kernel...\n"
          ]
        }
      ]
    },
    {
      "cell_type": "code",
      "source": [
        "!conda install -c conda-forge cyipopt"
      ],
      "metadata": {
        "colab": {
          "base_uri": "https://localhost:8080/"
        },
        "id": "J5nVmkt5JlbR",
        "outputId": "3ed7c95e-5718-49c9-b7f3-5d2d215fe573"
      },
      "execution_count": 1,
      "outputs": [
        {
          "output_type": "stream",
          "name": "stdout",
          "text": [
            "Collecting package metadata (current_repodata.json): - \b\b\\ \b\b| \b\b/ \b\b- \b\b\\ \b\b| \b\b/ \b\b- \b\b\\ \b\b| \b\b/ \b\b- \b\b\\ \b\b| \b\b/ \b\b- \b\b\\ \b\b| \b\b/ \b\b- \b\b\\ \b\b| \b\b/ \b\b- \b\b\\ \b\b| \b\b/ \b\b- \b\b\\ \b\b| \b\b/ \b\b- \b\b\\ \b\b| \b\b/ \b\b- \b\b\\ \b\b| \b\b/ \b\b- \b\b\\ \b\b| \b\b/ \b\b- \b\b\\ \b\b| \b\b/ \b\b- \b\b\\ \b\b| \b\b/ \b\b- \b\b\\ \b\b| \b\b/ \b\b- \b\b\\ \b\b| \b\b/ \b\b- \b\b\\ \b\b| \b\b/ \b\b- \b\b\\ \b\b| \b\b/ \b\b- \b\b\\ \b\b| \b\b/ \b\b- \b\b\\ \b\b| \b\b/ \b\b- \b\b\\ \b\b| \b\b/ \b\b- \b\b\\ \b\b| \b\b/ \b\b- \b\b\\ \b\b| \b\b/ \b\b- \b\b\\ \b\b| \b\b/ \b\b- \b\b\\ \b\b| \b\b/ \b\b- \b\b\\ \b\b| \b\b/ \b\b- \b\b\\ \b\b| \b\b/ \b\b- \b\b\\ \b\b| \b\b/ \b\b- \b\b\\ \b\b| \b\b/ \b\b- \b\b\\ \b\b| \b\b/ \b\b- \b\b\\ \b\b| \b\b/ \b\b- \b\b\\ \b\b| \b\bdone\n",
            "Solving environment: - \b\b\\ \b\b| \b\b/ \b\b- \b\b\\ \b\b| \b\b/ \b\b- \b\b\\ \b\b| \b\b/ \b\b- \b\b\\ \b\b| \b\b/ \b\b- \b\b\\ \b\b| \b\b/ \b\b- \b\b\\ \b\b| \b\b/ \b\b- \b\b\\ \b\b| \b\b/ \b\b- \b\b\\ \b\b| \b\b/ \b\b- \b\b\\ \b\b| \b\b/ \b\b- \b\b\\ \b\b| \b\b/ \b\b- \b\b\\ \b\b| \b\b/ \b\b- \b\b\\ \b\b| \b\b/ \b\b- \b\b\\ \b\b| \b\b/ \b\b- \b\b\\ \b\b| \b\b/ \b\b- \b\b\\ \b\b| \b\b/ \b\b- \b\b\\ \b\b| \b\b/ \b\b- \b\b\\ \b\bdone\n",
            "\n",
            "## Package Plan ##\n",
            "\n",
            "  environment location: /usr/local\n",
            "\n",
            "  added / updated specs:\n",
            "    - cyipopt\n",
            "\n",
            "\n",
            "The following packages will be downloaded:\n",
            "\n",
            "    package                    |            build\n",
            "    ---------------------------|-----------------\n",
            "    ampl-mp-3.1.0              |    h2cc385e_1006         1.1 MB  conda-forge\n",
            "    ca-certificates-2022.6.15  |       ha878542_0         149 KB  conda-forge\n",
            "    certifi-2022.6.15          |   py37h89c1867_0         155 KB  conda-forge\n",
            "    conda-4.13.0               |   py37h89c1867_1         989 KB  conda-forge\n",
            "    cyipopt-1.1.0              |   py37hb2fd402_3         135 KB  conda-forge\n",
            "    future-0.18.2              |   py37h89c1867_5         713 KB  conda-forge\n",
            "    ipopt-3.14.8               |       hc8a599a_0         1.1 MB  conda-forge\n",
            "    libblas-3.9.0              |15_linux64_openblas          12 KB  conda-forge\n",
            "    libcblas-3.9.0             |15_linux64_openblas          12 KB  conda-forge\n",
            "    libgcc-ng-12.1.0           |      h8d9b700_16         940 KB  conda-forge\n",
            "    libgfortran-ng-12.1.0      |      h69a702a_16          23 KB  conda-forge\n",
            "    libgfortran5-12.1.0        |      hdcd56e2_16         1.8 MB  conda-forge\n",
            "    libgomp-12.1.0             |      h8d9b700_16         459 KB  conda-forge\n",
            "    liblapack-3.9.0            |15_linux64_openblas          12 KB  conda-forge\n",
            "    libopenblas-0.3.20         |pthreads_h78a6416_1        10.1 MB  conda-forge\n",
            "    libstdcxx-ng-12.1.0        |      ha89aaad_16         4.3 MB  conda-forge\n",
            "    metis-5.1.0                |    h58526e2_1006         4.1 MB  conda-forge\n",
            "    mumps-include-5.2.1        |      ha770c72_11          23 KB  conda-forge\n",
            "    mumps-seq-5.2.1            |      h2104b81_11         3.3 MB  conda-forge\n",
            "    numpy-1.21.6               |   py37h976b520_0         6.1 MB  conda-forge\n",
            "    openssl-1.1.1q             |       h166bdaf_0         2.1 MB  conda-forge\n",
            "    python_abi-3.7             |          2_cp37m           4 KB  conda-forge\n",
            "    scotch-6.0.9               |       h3858553_1         1.3 MB  conda-forge\n",
            "    unixodbc-2.3.10            |       h583eb01_0         296 KB  conda-forge\n",
            "    ------------------------------------------------------------\n",
            "                                           Total:        39.1 MB\n",
            "\n",
            "The following NEW packages will be INSTALLED:\n",
            "\n",
            "  ampl-mp            conda-forge/linux-64::ampl-mp-3.1.0-h2cc385e_1006\n",
            "  cyipopt            conda-forge/linux-64::cyipopt-1.1.0-py37hb2fd402_3\n",
            "  future             conda-forge/linux-64::future-0.18.2-py37h89c1867_5\n",
            "  ipopt              conda-forge/linux-64::ipopt-3.14.8-hc8a599a_0\n",
            "  libblas            conda-forge/linux-64::libblas-3.9.0-15_linux64_openblas\n",
            "  libcblas           conda-forge/linux-64::libcblas-3.9.0-15_linux64_openblas\n",
            "  libgfortran-ng     conda-forge/linux-64::libgfortran-ng-12.1.0-h69a702a_16\n",
            "  libgfortran5       conda-forge/linux-64::libgfortran5-12.1.0-hdcd56e2_16\n",
            "  liblapack          conda-forge/linux-64::liblapack-3.9.0-15_linux64_openblas\n",
            "  libopenblas        conda-forge/linux-64::libopenblas-0.3.20-pthreads_h78a6416_1\n",
            "  metis              conda-forge/linux-64::metis-5.1.0-h58526e2_1006\n",
            "  mumps-include      conda-forge/linux-64::mumps-include-5.2.1-ha770c72_11\n",
            "  mumps-seq          conda-forge/linux-64::mumps-seq-5.2.1-h2104b81_11\n",
            "  numpy              conda-forge/linux-64::numpy-1.21.6-py37h976b520_0\n",
            "  scotch             conda-forge/linux-64::scotch-6.0.9-h3858553_1\n",
            "  unixodbc           conda-forge/linux-64::unixodbc-2.3.10-h583eb01_0\n",
            "\n",
            "The following packages will be UPDATED:\n",
            "\n",
            "  ca-certificates                      2020.12.5-ha878542_0 --> 2022.6.15-ha878542_0\n",
            "  certifi                          2020.12.5-py37h89c1867_1 --> 2022.6.15-py37h89c1867_0\n",
            "  conda                                4.9.2-py37h89c1867_0 --> 4.13.0-py37h89c1867_1\n",
            "  libgcc-ng                               9.3.0-h2828fa1_18 --> 12.1.0-h8d9b700_16\n",
            "  libgomp                                 9.3.0-h2828fa1_18 --> 12.1.0-h8d9b700_16\n",
            "  libstdcxx-ng                            9.3.0-h6de172a_18 --> 12.1.0-ha89aaad_16\n",
            "  openssl                                 1.1.1j-h7f98852_0 --> 1.1.1q-h166bdaf_0\n",
            "  python_abi                                    3.7-1_cp37m --> 3.7-2_cp37m\n",
            "\n",
            "\n",
            "\n",
            "Downloading and Extracting Packages\n",
            "mumps-include-5.2.1  | 23 KB     | : 100% 1.0/1 [00:00<00:00,  2.17it/s]               \n",
            "mumps-seq-5.2.1      | 3.3 MB    | : 100% 1.0/1 [00:01<00:00,  1.36s/it]               \n",
            "openssl-1.1.1q       | 2.1 MB    | : 100% 1.0/1 [00:00<00:00,  2.81it/s]\n",
            "libopenblas-0.3.20   | 10.1 MB   | : 100% 1.0/1 [00:01<00:00,  1.81s/it]               \n",
            "libblas-3.9.0        | 12 KB     | : 100% 1.0/1 [00:00<00:00, 31.22it/s]\n",
            "conda-4.13.0         | 989 KB    | : 100% 1.0/1 [00:00<00:00,  4.15it/s]\n",
            "libgfortran5-12.1.0  | 1.8 MB    | : 100% 1.0/1 [00:00<00:00,  2.84it/s]\n",
            "python_abi-3.7       | 4 KB      | : 100% 1.0/1 [00:00<00:00, 22.98it/s]\n",
            "ipopt-3.14.8         | 1.1 MB    | : 100% 1.0/1 [00:00<00:00,  1.63it/s]\n",
            "libgcc-ng-12.1.0     | 940 KB    | : 100% 1.0/1 [00:00<00:00,  6.04it/s]\n",
            "ca-certificates-2022 | 149 KB    | : 100% 1.0/1 [00:00<00:00, 20.72it/s]\n",
            "libgfortran-ng-12.1. | 23 KB     | : 100% 1.0/1 [00:00<00:00, 23.14it/s]\n",
            "libstdcxx-ng-12.1.0  | 4.3 MB    | : 100% 1.0/1 [00:00<00:00,  1.44it/s]\n",
            "unixodbc-2.3.10      | 296 KB    | : 100% 1.0/1 [00:00<00:00, 11.31it/s]\n",
            "scotch-6.0.9         | 1.3 MB    | : 100% 1.0/1 [00:02<00:00,  2.99s/it]\n",
            "libcblas-3.9.0       | 12 KB     | : 100% 1.0/1 [00:00<00:00, 34.44it/s]\n",
            "metis-5.1.0          | 4.1 MB    | : 100% 1.0/1 [00:00<00:00,  1.46it/s]\n",
            "ampl-mp-3.1.0        | 1.1 MB    | : 100% 1.0/1 [00:00<00:00,  1.14it/s]               \n",
            "libgomp-12.1.0       | 459 KB    | : 100% 1.0/1 [00:00<00:00,  9.93it/s]\n",
            "liblapack-3.9.0      | 12 KB     | : 100% 1.0/1 [00:00<00:00, 34.25it/s]\n",
            "cyipopt-1.1.0        | 135 KB    | : 100% 1.0/1 [00:00<00:00,  3.12it/s]                \n",
            "certifi-2022.6.15    | 155 KB    | : 100% 1.0/1 [00:00<00:00, 19.81it/s]\n",
            "numpy-1.21.6         | 6.1 MB    | : 100% 1.0/1 [00:01<00:00,  1.30s/it]\n",
            "future-0.18.2        | 713 KB    | : 100% 1.0/1 [00:00<00:00,  4.93it/s]\n",
            "Preparing transaction: / \b\b- \b\bdone\n",
            "Verifying transaction: | \b\b/ \b\b- \b\b\\ \b\bdone\n",
            "Executing transaction: / \b\b- \b\b\\ \b\b| \b\bdone\n"
          ]
        }
      ]
    },
    {
      "cell_type": "code",
      "source": [
        "from jax.config import config\n",
        "\n",
        "# Enable 64 bit floating point precision\n",
        "config.update(\"jax_enable_x64\", True)\n",
        "\n",
        "# We use the CPU instead of GPU und mute all warnings if no GPU/TPU is found.\n",
        "config.update('jax_platform_name', 'cpu')\n",
        "\n",
        "from cyipopt import minimize_ipopt\n",
        "from jax import jit, grad, jacrev, jacfwd\n",
        "import jax.numpy as np\n",
        "\n"
      ],
      "metadata": {
        "id": "dCb7yc07H2oy"
      },
      "execution_count": 2,
      "outputs": []
    },
    {
      "cell_type": "code",
      "source": [
        "\n",
        "# Test the scipy interface on the Hock & Schittkowski test problem 71:\n",
        "#\n",
        "# min x0*x3*(x0+x1+x2)+x2\n",
        "#\n",
        "# s.t. x0**2 + x1**2 + x2**2 + x3**2 - 40 = 0\n",
        "#      x0 * x1 * x2 * x3 - 25 >= 0\n",
        "#      1 <= x0,x1,x2,x3 <= 5\n",
        "#\n",
        "# We evaluate all derivatives (except the Hessian) by algorithmic differentation\n",
        "# by means of the JAX library.\n",
        "\n",
        "\n",
        "def objective(x):\n",
        "    return x[0]*x[3]*np.sum(x[:3]) + x[2]\n",
        "\n",
        "\n",
        "def eq_constraints(x):\n",
        "    return np.sum(x**2) - 40\n",
        "\n",
        "\n",
        "def ineq_constrains(x):\n",
        "    return np.prod(x) - 25\n",
        "\n",
        "\n",
        "# jit the functions\n",
        "obj_jit = jit(objective)\n",
        "con_eq_jit = jit(eq_constraints)\n",
        "con_ineq_jit = jit(ineq_constrains)\n",
        "\n",
        "# build the derivatives and jit them\n",
        "obj_grad = jit(grad(obj_jit))  # objective gradient\n",
        "obj_hess = jit(jacrev(jacfwd(obj_jit)))  # objective hessian\n",
        "con_eq_jac = jit(jacfwd(con_eq_jit))  # jacobian\n",
        "con_ineq_jac = jit(jacfwd(con_ineq_jit))  # jacobian\n",
        "con_eq_hess = jacrev(jacfwd(con_eq_jit)) # hessian\n",
        "con_eq_hessvp = jit(lambda x, v: con_eq_hess(x) * v[0]) # hessian vector-product\n",
        "con_ineq_hess = jacrev(jacfwd(con_ineq_jit))  # hessian\n",
        "con_ineq_hessvp = jit(lambda x, v: con_ineq_hess(x) * v[0])  # hessian vector-product\n",
        "\n",
        "# constraints\n",
        "# Note that 'hess' is the hessian-vector-product\n",
        "cons = [\n",
        "    {'type': 'eq', 'fun': con_eq_jit, 'jac': con_eq_jac, 'hess': con_eq_hessvp},\n",
        "    {'type': 'ineq', 'fun': con_ineq_jit, 'jac': con_ineq_jac, 'hess': con_ineq_hessvp},\n",
        "]\n",
        "\n",
        "# initial guess\n",
        "x0 = np.array([1.0, 5.0, 5.0, 1.0])\n",
        "\n",
        "# variable bounds: 1 <= x[i] <= 5\n",
        "bnds = [(1, 5) for _ in range(x0.size)]\n",
        "\n",
        "res = minimize_ipopt(obj_jit, jac=obj_grad, hess=obj_hess, x0=x0, bounds=bnds,\n",
        "                     constraints=cons, options={'disp': 5})\n",
        "\n",
        "print(res)"
      ],
      "metadata": {
        "colab": {
          "base_uri": "https://localhost:8080/"
        },
        "id": "FM3ZSJwaIyGf",
        "outputId": "adf39906-08a4-4179-b882-dcfe9e295c8f"
      },
      "execution_count": 3,
      "outputs": [
        {
          "output_type": "stream",
          "name": "stdout",
          "text": [
            "     fun: 17.01401727277449\n",
            "    info: {'x': array([0.99999999, 4.74299964, 3.82114998, 1.37940831]), 'g': array([ 9.94759830e-14, -9.98234027e-09]), 'obj_val': 17.01401727277449, 'mult_g': array([ 0.16146857, -0.55229366]), 'mult_x_L': array([1.08787121e+00, 2.67142698e-12, 3.54589582e-12, 2.63493908e-11]), 'mult_x_U': array([2.49978528e-12, 3.92746433e-11, 8.47959376e-12, 2.76270134e-12]), 'status': 0, 'status_msg': b'Algorithm terminated successfully at a locally optimal point, satisfying the convergence tolerances (can be specified by options).'}\n",
            " message: b'Algorithm terminated successfully at a locally optimal point, satisfying the convergence tolerances (can be specified by options).'\n",
            "    nfev: 9\n",
            "     nit: 8\n",
            "    njev: 10\n",
            "  status: 0\n",
            " success: True\n",
            "       x: array([0.99999999, 4.74299964, 3.82114998, 1.37940831])\n"
          ]
        }
      ]
    },
    {
      "cell_type": "code",
      "source": [
        ""
      ],
      "metadata": {
        "id": "T06kUfPWIplg"
      },
      "execution_count": null,
      "outputs": []
    }
  ]
}