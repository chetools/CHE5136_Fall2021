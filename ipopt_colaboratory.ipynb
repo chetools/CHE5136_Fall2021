{
  "nbformat": 4,
  "nbformat_minor": 0,
  "metadata": {
    "colab": {
      "provenance": [],
      "collapsed_sections": [],
      "authorship_tag": "ABX9TyO0B2wCMCI8JW12/qLggnXO",
      "include_colab_link": true
    },
    "kernelspec": {
      "name": "python3",
      "display_name": "Python 3"
    },
    "language_info": {
      "name": "python"
    }
  },
  "cells": [
    {
      "cell_type": "markdown",
      "metadata": {
        "id": "view-in-github",
        "colab_type": "text"
      },
      "source": [
        "<a href=\"https://colab.research.google.com/github/profteachkids/CHE5136_Fall2021/blob/main/ipopt_colaboratory.ipynb\" target=\"_parent\"><img src=\"https://colab.research.google.com/assets/colab-badge.svg\" alt=\"Open In Colab\"/></a>"
      ]
    },
    {
      "cell_type": "code",
      "source": [
        "!pip install -q condacolab\n",
        "import condacolab\n",
        "condacolab.install()"
      ],
      "metadata": {
        "colab": {
          "base_uri": "https://localhost:8080/"
        },
        "id": "gJefRWFmJVED",
        "outputId": "5e1e6f1d-d083-47d6-833b-89f1737e9e4f"
      },
      "execution_count": 1,
      "outputs": [
        {
          "output_type": "stream",
          "name": "stdout",
          "text": [
            "\u001b[33mWARNING: Running pip as the 'root' user can result in broken permissions and conflicting behaviour with the system package manager. It is recommended to use a virtual environment instead: https://pip.pypa.io/warnings/venv\u001b[0m\u001b[33m\n",
            "\u001b[0m✨🍰✨ Everything looks OK!\n"
          ]
        }
      ]
    },
    {
      "cell_type": "code",
      "source": [
        "!conda install -c conda-forge cyipopt"
      ],
      "metadata": {
        "colab": {
          "base_uri": "https://localhost:8080/"
        },
        "id": "J5nVmkt5JlbR",
        "outputId": "d4bdec2d-6c21-464a-91ad-5f66b92eaae3"
      },
      "execution_count": 2,
      "outputs": [
        {
          "output_type": "stream",
          "name": "stdout",
          "text": [
            "Collecting package metadata (current_repodata.json): - \b\b\\ \b\b| \b\b/ \b\b- \b\b\\ \b\b| \b\b/ \b\b- \b\b\\ \b\b| \b\b/ \b\b- \b\b\\ \b\b| \b\b/ \b\b- \b\b\\ \b\b| \b\b/ \b\b- \b\b\\ \b\b| \b\b/ \b\b- \b\b\\ \b\b| \b\b/ \b\b- \b\b\\ \b\b| \b\b/ \b\b- \b\b\\ \b\b| \b\b/ \b\b- \b\b\\ \b\b| \b\b/ \b\b- \b\b\\ \b\b| \b\b/ \b\b- \b\b\\ \b\b| \b\b/ \b\b- \b\b\\ \b\b| \b\b/ \b\b- \b\b\\ \b\b| \b\b/ \b\b- \b\b\\ \b\b| \b\b/ \b\b- \b\b\\ \b\b| \b\b/ \b\b- \b\b\\ \b\b| \b\b/ \b\b- \b\b\\ \b\b| \b\b/ \b\b- \b\b\\ \b\b| \b\b/ \b\b- \b\b\\ \b\b| \b\b/ \b\b- \b\b\\ \b\b| \b\b/ \b\b- \b\b\\ \b\b| \b\b/ \b\b- \b\b\\ \b\b| \b\b/ \b\b- \b\b\\ \b\b| \b\b/ \b\b- \b\b\\ \b\b| \b\b/ \b\b- \b\b\\ \b\b| \b\b/ \b\b- \b\b\\ \b\b| \b\b/ \b\b- \b\b\\ \b\b| \b\b/ \b\b- \b\b\\ \b\b| \b\b/ \b\b- \b\b\\ \b\b| \b\b/ \b\b- \b\b\\ \b\b| \b\b/ \b\b- \b\b\\ \b\b| \b\b/ \b\b- \b\b\\ \b\b| \b\bdone\n",
            "Solving environment: - \b\b\\ \b\b| \b\b/ \b\b- \b\b\\ \b\b| \b\b/ \b\b- \b\b\\ \b\b| \b\b/ \b\b- \b\b\\ \b\b| \b\b/ \b\b- \b\b\\ \b\b| \b\b/ \b\b- \b\b\\ \b\b| \b\b/ \b\b- \b\b\\ \b\b| \b\b/ \b\b- \b\b\\ \b\b| \b\b/ \b\b- \b\b\\ \b\b| \b\b/ \b\b- \b\b\\ \b\b| \b\b/ \b\b- \b\bdone\n",
            "\n",
            "## Package Plan ##\n",
            "\n",
            "  environment location: /usr/local\n",
            "\n",
            "  added / updated specs:\n",
            "    - cyipopt\n",
            "\n",
            "\n",
            "The following packages will be downloaded:\n",
            "\n",
            "    package                    |            build\n",
            "    ---------------------------|-----------------\n",
            "    ampl-mp-3.1.0              |    h2cc385e_1006         1.1 MB  conda-forge\n",
            "    certifi-2022.6.15          |     pyhd8ed1ab_1         154 KB  conda-forge\n",
            "    cyipopt-1.1.0              |   py37hb2fd402_3         135 KB  conda-forge\n",
            "    future-0.18.2              |   py37h89c1867_5         713 KB  conda-forge\n",
            "    ipopt-3.14.8               |       hc8a599a_0         1.1 MB  conda-forge\n",
            "    libblas-3.9.0              |16_linux64_openblas          13 KB  conda-forge\n",
            "    libcblas-3.9.0             |16_linux64_openblas          13 KB  conda-forge\n",
            "    libgfortran-ng-12.1.0      |      h69a702a_16          23 KB  conda-forge\n",
            "    libgfortran5-12.1.0        |      hdcd56e2_16         1.8 MB  conda-forge\n",
            "    liblapack-3.9.0            |16_linux64_openblas          13 KB  conda-forge\n",
            "    libopenblas-0.3.21         |pthreads_h78a6416_3        10.1 MB  conda-forge\n",
            "    metis-5.1.0                |    h58526e2_1006         4.1 MB  conda-forge\n",
            "    mumps-include-5.2.1        |      ha770c72_11          23 KB  conda-forge\n",
            "    mumps-seq-5.2.1            |      h2104b81_11         3.3 MB  conda-forge\n",
            "    numpy-1.21.6               |   py37h976b520_0         6.1 MB  conda-forge\n",
            "    scotch-6.0.9               |       hb2e6521_2         1.3 MB  conda-forge\n",
            "    unixodbc-2.3.10            |       h583eb01_0         296 KB  conda-forge\n",
            "    zlib-1.2.12                |       h166bdaf_2          91 KB  conda-forge\n",
            "    ------------------------------------------------------------\n",
            "                                           Total:        30.3 MB\n",
            "\n",
            "The following NEW packages will be INSTALLED:\n",
            "\n",
            "  ampl-mp            conda-forge/linux-64::ampl-mp-3.1.0-h2cc385e_1006\n",
            "  cyipopt            conda-forge/linux-64::cyipopt-1.1.0-py37hb2fd402_3\n",
            "  future             conda-forge/linux-64::future-0.18.2-py37h89c1867_5\n",
            "  ipopt              conda-forge/linux-64::ipopt-3.14.8-hc8a599a_0\n",
            "  libblas            conda-forge/linux-64::libblas-3.9.0-16_linux64_openblas\n",
            "  libcblas           conda-forge/linux-64::libcblas-3.9.0-16_linux64_openblas\n",
            "  libgfortran-ng     conda-forge/linux-64::libgfortran-ng-12.1.0-h69a702a_16\n",
            "  libgfortran5       conda-forge/linux-64::libgfortran5-12.1.0-hdcd56e2_16\n",
            "  liblapack          conda-forge/linux-64::liblapack-3.9.0-16_linux64_openblas\n",
            "  libopenblas        conda-forge/linux-64::libopenblas-0.3.21-pthreads_h78a6416_3\n",
            "  metis              conda-forge/linux-64::metis-5.1.0-h58526e2_1006\n",
            "  mumps-include      conda-forge/linux-64::mumps-include-5.2.1-ha770c72_11\n",
            "  mumps-seq          conda-forge/linux-64::mumps-seq-5.2.1-h2104b81_11\n",
            "  numpy              conda-forge/linux-64::numpy-1.21.6-py37h976b520_0\n",
            "  scotch             conda-forge/linux-64::scotch-6.0.9-hb2e6521_2\n",
            "  unixodbc           conda-forge/linux-64::unixodbc-2.3.10-h583eb01_0\n",
            "  zlib               conda-forge/linux-64::zlib-1.2.12-h166bdaf_2\n",
            "\n",
            "The following packages will be UPDATED:\n",
            "\n",
            "  certifi            conda-forge/linux-64::certifi-2022.6.~ --> conda-forge/noarch::certifi-2022.6.15-pyhd8ed1ab_1\n",
            "\n",
            "\n",
            "\n",
            "Downloading and Extracting Packages\n",
            "unixodbc-2.3.10      | 296 KB    | : 100% 1.0/1 [00:00<00:00,  6.66it/s]\n",
            "zlib-1.2.12          | 91 KB     | : 100% 1.0/1 [00:00<00:00, 20.49it/s]\n",
            "mumps-seq-5.2.1      | 3.3 MB    | : 100% 1.0/1 [00:01<00:00,  1.37s/it]              \n",
            "cyipopt-1.1.0        | 135 KB    | : 100% 1.0/1 [00:00<00:00,  2.68it/s]                \n",
            "numpy-1.21.6         | 6.1 MB    | : 100% 1.0/1 [00:01<00:00,  1.66s/it]\n",
            "libblas-3.9.0        | 13 KB     | : 100% 1.0/1 [00:00<00:00, 25.92it/s]\n",
            "scotch-6.0.9         | 1.3 MB    | : 100% 1.0/1 [00:00<00:00,  3.05it/s]\n",
            "ampl-mp-3.1.0        | 1.1 MB    | : 100% 1.0/1 [00:00<00:00,  3.72it/s]\n",
            "mumps-include-5.2.1  | 23 KB     | : 100% 1.0/1 [00:00<00:00,  3.36it/s]               \n",
            "libcblas-3.9.0       | 13 KB     | : 100% 1.0/1 [00:00<00:00, 30.64it/s]\n",
            "future-0.18.2        | 713 KB    | : 100% 1.0/1 [00:00<00:00,  3.80it/s]\n",
            "certifi-2022.6.15    | 154 KB    | : 100% 1.0/1 [00:00<00:00, 18.65it/s]\n",
            "metis-5.1.0          | 4.1 MB    | : 100% 1.0/1 [00:00<00:00,  1.15it/s]\n",
            "libgfortran-ng-12.1. | 23 KB     | : 100% 1.0/1 [00:00<00:00, 22.79it/s]\n",
            "libgfortran5-12.1.0  | 1.8 MB    | : 100% 1.0/1 [00:00<00:00,  2.45it/s]\n",
            "liblapack-3.9.0      | 13 KB     | : 100% 1.0/1 [00:00<00:00, 18.80it/s]\n",
            "libopenblas-0.3.21   | 10.1 MB   | : 100% 1.0/1 [00:02<00:00,  2.33s/it]              \n",
            "ipopt-3.14.8         | 1.1 MB    | : 100% 1.0/1 [00:00<00:00,  3.01it/s]\n",
            "Preparing transaction: | \b\b/ \b\bdone\n",
            "Verifying transaction: \\ \b\b| \b\b/ \b\bdone\n",
            "Executing transaction: \\ \b\b| \b\b/ \b\b- \b\b\\ \b\b| \b\b/ \b\b- \b\b\\ \b\b| \b\b/ \b\b- \b\b\\ \b\b| \b\b/ \b\b- \b\b\\ \b\b| \b\b/ \b\b- \b\bdone\n",
            "Retrieving notices: ...working... done\n"
          ]
        }
      ]
    },
    {
      "cell_type": "code",
      "source": [
        "from jax.config import config\n",
        "import jax.numpy as jnp\n",
        "\n",
        "# Enable 64 bit floating point precision\n",
        "config.update(\"jax_enable_x64\", True)\n",
        "\n",
        "# We use the CPU instead of GPU und mute all warnings if no GPU/TPU is found.\n",
        "config.update('jax_platform_name', 'cpu')\n",
        "\n",
        "import cyipopt\n",
        "from cyipopt import minimize_ipopt\n",
        "import jax\n",
        "from jax import jit, grad, jacrev, jacfwd\n",
        "import jax.numpy as jnp\n",
        "\n",
        "from plotly.subplots import make_subplots\n",
        "import plotly.io as pio\n",
        "pio.templates.default='plotly_dark'\n",
        "\n",
        "from functools import partial"
      ],
      "metadata": {
        "id": "dCb7yc07H2oy"
      },
      "execution_count": 83,
      "outputs": []
    },
    {
      "cell_type": "code",
      "source": [
        "n_grades = 500\n",
        "p_guess = jnp.full(n_grades, 1/n_grades)\n",
        "grades = jnp.arange(n_grades)\n",
        "\n",
        "\n",
        "def entropy(p):\n",
        "    return jnp.sum(p[:n_grades]*jnp.log(p[:n_grades]))\n",
        "\n",
        "def p_constraint(p):\n",
        "    return jnp.sum(p[:n_grades])-1.\n",
        "\n",
        "def avg_constraint(p):\n",
        "    return jnp.sum(p[:n_grades]*grades)-250.\n",
        "\n",
        "def std_constraint(p):\n",
        "    avg = jnp.sum(p[:n_grades]*grades)\n",
        "    std= jnp.sqrt(jnp.sum(p[:n_grades]*(grades - avg)**2 )) - 50.\n",
        "    return std"
      ],
      "metadata": {
        "id": "feKBsGf2Ko9q"
      },
      "execution_count": 252,
      "outputs": []
    },
    {
      "cell_type": "code",
      "source": [
        "\n",
        "# jit the functions\n",
        "entropy_jit = jit(entropy)\n",
        "p_constraint_jit = jit(p_constraint)\n",
        "avg_constraint_jit = jit(avg_constraint)\n",
        "std_constraint_jit = jit(std_constraint)\n",
        "\n",
        "# build the derivatives and jit them\n",
        "entropy_grad = jit(grad(entropy))  \n",
        "entropy_hess = jit(jacrev(jacfwd(entropy)))\n",
        "\n",
        "p_constraint_jac = jit(jacfwd(p_constraint_jit))\n",
        "avg_constraint_jac = jit(jacfwd(avg_constraint_jit))\n",
        "std_constraint_jac = jit(jacfwd(std_constraint_jit))\n",
        "\n",
        "p_constraint_hess = jacrev(jacfwd(p_constraint_jit))\n",
        "p_constraint_hessvp = jit(lambda x,v: p_constraint_hess(x)*v[0])\n",
        "\n",
        "avg_constraint_hess = jacrev(jacfwd(avg_constraint_jit))\n",
        "avg_constraint_hessvp = jit(lambda x,v: avg_constraint_hess(x)*v[0])\n",
        "\n",
        "std_constraint_hess = jacrev(jacfwd(std_constraint_jit))\n",
        "std_constraint_hessvp = jit(lambda x,v: std_constraint_hess(x)*v[0])\n",
        "\n",
        "\n",
        "cons = [\n",
        "    {'type': 'eq', 'fun': p_constraint_jit, 'jac': p_constraint_jac, 'hess': p_constraint_hessvp},\n",
        "    {'type': 'eq', 'fun': avg_constraint_jit, 'jac': avg_constraint_jac, 'hess': avg_constraint_hessvp},\n",
        "    {'type': 'eq', 'fun': std_constraint_jit, 'jac': std_constraint_jac, 'hess': std_constraint_hessvp}\n",
        "]"
      ],
      "metadata": {
        "id": "FM3ZSJwaIyGf"
      },
      "execution_count": 260,
      "outputs": []
    },
    {
      "cell_type": "code",
      "source": [
        "x0 = jnp.full(n_grades,1/n_grades)\n",
        "bnds = [(0, 1)]*n_grades\n",
        "res = minimize_ipopt(entropy_jit, jac=entropy_grad, hess=entropy_hess, x0=x0, bounds=bnds,\n",
        "                     constraints=cons, options={'disp': 5})\n"
      ],
      "metadata": {
        "id": "FPjpmsTV7ELu"
      },
      "execution_count": 261,
      "outputs": []
    },
    {
      "cell_type": "code",
      "source": [
        "fig=make_subplots()\n",
        "fig.add_bar(x=grades,y=res.x)\n",
        "fig.update_layout(width=800)"
      ],
      "metadata": {
        "colab": {
          "base_uri": "https://localhost:8080/",
          "height": 542
        },
        "id": "CsiFK4CTMxb-",
        "outputId": "1d7edae7-0a18-477e-cf0b-51668b3dcf8e"
      },
      "execution_count": 262,
      "outputs": [
        {
          "output_type": "display_data",
          "data": {
            "text/html": [
              "<html>\n",
              "<head><meta charset=\"utf-8\" /></head>\n",
              "<body>\n",
              "    <div>            <script src=\"https://cdnjs.cloudflare.com/ajax/libs/mathjax/2.7.5/MathJax.js?config=TeX-AMS-MML_SVG\"></script><script type=\"text/javascript\">if (window.MathJax) {MathJax.Hub.Config({SVG: {font: \"STIX-Web\"}});}</script>                <script type=\"text/javascript\">window.PlotlyConfig = {MathJaxConfig: 'local'};</script>\n",
              "        <script src=\"https://cdn.plot.ly/plotly-2.8.3.min.js\"></script>                <div id=\"7964a878-0cf3-49db-8c89-5a63dde1f046\" class=\"plotly-graph-div\" style=\"height:525px; width:800px;\"></div>            <script type=\"text/javascript\">                                    window.PLOTLYENV=window.PLOTLYENV || {};                                    if (document.getElementById(\"7964a878-0cf3-49db-8c89-5a63dde1f046\")) {                    Plotly.newPlot(                        \"7964a878-0cf3-49db-8c89-5a63dde1f046\",                        [{\"x\":[0,1,2,3,4,5,6,7,8,9,10,11,12,13,14,15,16,17,18,19,20,21,22,23,24,25,26,27,28,29,30,31,32,33,34,35,36,37,38,39,40,41,42,43,44,45,46,47,48,49,50,51,52,53,54,55,56,57,58,59,60,61,62,63,64,65,66,67,68,69,70,71,72,73,74,75,76,77,78,79,80,81,82,83,84,85,86,87,88,89,90,91,92,93,94,95,96,97,98,99,100,101,102,103,104,105,106,107,108,109,110,111,112,113,114,115,116,117,118,119,120,121,122,123,124,125,126,127,128,129,130,131,132,133,134,135,136,137,138,139,140,141,142,143,144,145,146,147,148,149,150,151,152,153,154,155,156,157,158,159,160,161,162,163,164,165,166,167,168,169,170,171,172,173,174,175,176,177,178,179,180,181,182,183,184,185,186,187,188,189,190,191,192,193,194,195,196,197,198,199,200,201,202,203,204,205,206,207,208,209,210,211,212,213,214,215,216,217,218,219,220,221,222,223,224,225,226,227,228,229,230,231,232,233,234,235,236,237,238,239,240,241,242,243,244,245,246,247,248,249,250,251,252,253,254,255,256,257,258,259,260,261,262,263,264,265,266,267,268,269,270,271,272,273,274,275,276,277,278,279,280,281,282,283,284,285,286,287,288,289,290,291,292,293,294,295,296,297,298,299,300,301,302,303,304,305,306,307,308,309,310,311,312,313,314,315,316,317,318,319,320,321,322,323,324,325,326,327,328,329,330,331,332,333,334,335,336,337,338,339,340,341,342,343,344,345,346,347,348,349,350,351,352,353,354,355,356,357,358,359,360,361,362,363,364,365,366,367,368,369,370,371,372,373,374,375,376,377,378,379,380,381,382,383,384,385,386,387,388,389,390,391,392,393,394,395,396,397,398,399,400,401,402,403,404,405,406,407,408,409,410,411,412,413,414,415,416,417,418,419,420,421,422,423,424,425,426,427,428,429,430,431,432,433,434,435,436,437,438,439,440,441,442,443,444,445,446,447,448,449,450,451,452,453,454,455,456,457,458,459,460,461,462,463,464,465,466,467,468,469,470,471,472,473,474,475,476,477,478,479,480,481,482,483,484,485,486,487,488,489,490,491,492,493,494,495,496,497,498,499],\"y\":[2.9747165915515182e-08,3.2868477423777343e-08,3.6302815081221316e-08,4.008000302893803e-08,4.423254285245386e-08,4.879583767147142e-08,5.380843318421672e-08,5.93122770758847e-08,6.535299798913332e-08,7.198020536211641e-08,7.924781151272598e-08,8.721437742310836e-08,9.594348375653427e-08,1.0550412871954152e-07,1.159711544658746e-07,1.2742570382505824e-07,1.399557092274327e-07,1.5365641578907255e-07,1.6863094061408106e-07,1.8499087046823557e-07,2.0285690007673566e-07,2.2235951339961677e-07,2.436397103412199e-07,2.668497814546686e-07,2.921541333082716e-07,3.197301672881906e-07,3.497692147198816e-07,3.824775312998509e-07,4.180773539384547e-07,4.5680802322369966e-07,4.98927174824673e-07,5.447120032610011e-07,5.944606015710405e-07,6.484933805159009e-07,7.071545710581383e-07,7.708138139526995e-07,8.398678403824672e-07,9.147422476610903e-07,9.958933741108603e-07,1.0838102773023097e-06,1.179016819914329e-06,1.282073867537891e-06,1.3935816028018557e-06,1.514181960245506e-06,1.6445611863970572e-06,1.785452529541238e-06,1.93763906366895e-06,2.101956651098459e-06,2.2792970482386268e-06,2.470611158929001e-06,2.6769124397383744e-06,2.8992804615308174e-06,3.138864631515238e-06,3.3968880798801114e-06,3.6746517149761687e-06,3.973538450848243e-06,4.2950176107278475e-06,4.640649509881951e-06,5.012090220968594e-06,5.4110965247736895e-06,5.8395310488958565e-06,6.299367596606146e-06,6.792696667732261e-06,7.321731173007698e-06,7.888812342874428e-06,8.496415831243647e-06,9.14715801418765e-06,9.843802482972033e-06,1.0589266730222781e-05,1.1386629027372559e-05,1.223913549083119e-05,1.3150207333585153e-05,1.41234482981416e-05,1.5162652265902306e-05,1.6271811037171308e-05,1.745512227507702e-05,1.8716997605717576e-05,2.006207086582044e-05,2.149520648814628e-05,2.3021508013757084e-05,2.464632671911923e-05,2.6375270344816257e-05,2.8214211911410946e-05,3.0169298606719086e-05,3.2246960727445734e-05,3.4453920656782354e-05,3.6797201858183353e-05,3.9284137864124744e-05,4.192238123721093e-05,4.471991247952448e-05,4.768504886464287e-05,5.0826453165228796e-05,5.415314224760788e-05,5.767449550321696e-05,6.14002630852959e-05,6.534057391767775e-05,6.9505943441032e-05,7.390728106042542e-05,7.855589725660606e-05,8.346351032197725e-05,8.864225268083738e-05,9.410467675210763e-05,9.98637603114718e-05,0.00010593291130861767,0.00011232597209409776,0.00011905722300923956,0.0001261413852915342,0.0001335936232470189,0.00014142954564037546,0.0001496652062527685,0.00015831710355689255,0.0001674021794582544,0.00017693781705144262,0.00018694183733998206,0.000197432494868408,0.00020842847221538404,0.00021994887329705544,0.00023201321543041002,0.000244641420107144,0.00025785380242953536,0.00027167105916095697,0.00028611425534510847,0.00030120480944961233,0.0003169644769915248,0.00033341533260438137,0.00035057975050873183,0.00036848038335072006,0.00038714013937610073,0.00040658215791016395,0.0004268297831173997,0.0004479065360183373,0.00046983608474485296,0.0004926422130193555,0.0005163487868476333,0.0005409797194197629,0.000566558934218347,0.0005931103263384274,0.0006206577220287997,0.0006492248364699542,0.0006788352298096877,0.0007095122614833501,0.0007412790428519038,0.0007741583881972444,0.0008081727641207966,0.0008433442373979459,0.0008796944213477277,0.0009172444207839709,0.0009560147756211153,0.0009960254032148755,0.0010372955395250491,0.0010798436791947656,0.0011236875146475949,0.0011688438743109144,0.0012153286600809325,0.001263156784151638,0.0013123421053366406,0.0013628973650195743,0.0014148341228750624,0.0014681626925085,0.0015228920771689035,0.001579029905694697,0.0016365823688578311,0.0016955541562765342,0.0017559483940718078,0.0018177665834470456,0.001881008540373972,0.0019456723365715999,0.0020117542419677364,0.002079248668835048,0.0021481481177955497,0.002218443125888658,0.0022901222168987133,0.002363171854137916,0.0024375763958801614,0.0025133180536400074,0.0025903768534892104,0.0026687306006006562,0.002748354847206374,0.0028292228641522855,0.002911305616227746,0.002994571741442518,0.003078987534417814,0.0031645169340510176,0.0032511215156065007,0.0033387604873763113,0.003427390692045968,0.003516966612890614,0.0036074403849167633,0.0036987618110537633,0.0037908783834875778,0.0038837353102173697,0.003977275546902433,0.004071439834054052,0.004166166739612672,0.004261392706936815,0.004357052108215367,0.004453077303299714,0.0045493987039368685,0.004645944843369015,0.0047426424512488985,0.004839416533804354,0.004936190459169053,0.005032886047780083,0.005129423667726709,0.005225722334918334,0.005321699817923265,0.0054172727473141,0.005512356729339532,0.005606866463726699,0.005700715865403297,0.00579381818991362,0.005886086162288296,0.005977432109114002,0.006067768093535811,0.006157006052912585,0.006245057938833617,0.0063318358591940155,0.006417252222015521,0.00650121988069048,0.006583652280317687,0.0066644636047915665,0.006743568924299331,0.006820884342875146,0.006896327145656023,0.006969815945480442,0.007041270828468425,0.007110613498220835,0.007177767418275163,0.007242657952456691,0.0073052125027658,0.007365360644445842,0.00742303425788073,0.007478167656976881,0.007530697713691563,0.007580563978377389,0.0076277087956222135,0.007672077415273891,0.007713618098350864,0.007752282217551832,0.0077880243520912955,0.007820802376602235,0.007850577543862225,0.007877314561115772,0.007900981659782284,0.007921550658357118,0.007938997018331275,0.00795329989297438,0.007964442168845369,0.007972410499914987,0.007977195334204918,0.00797879093286928,0.007977195381664753,0.007972410594777705,0.007964442310997234,0.007953300082245037,0.007938997254494125,0.007921550941129767,0.007900981988827084,0.007877314936040531,0.007850577964220952,0.007820802841896027,0.007788024861769351,0.007752282771012502,0.007713618694942877,0.007672078054297585,0.00762770947633093,0.007580564699978936,0.007530698475349712,0.0074781684578130074,0.007423035096975512,0.007365361520840998,0.007305213415465918,0.0072426589004311055,0.007177768400459894,0.007110614513520583,0.007041271875758584,0.006969817023609175,0.0068963282534463925,0.0068208854791272045,0.006743570087792311,0.006664464794286042,0.006583653494557731,0.0065012211184059115,0.006417253481924076,0.006331837140003518,0.0062450592392441955,0.006157007371618819,0.0060677694292289,0.005977433460483861,0.005886087528025695,0.005793819568712229,0.00570071725596171,0.005606867864750422,0.005512358139542937,0.005417274165422295,0.0053217012426739554,0.005225723765063596,0.0051294251020347105,0.005032887485036729,0.00493619189817962,0.004839417973394959,0.004742643890267995,0.004645946280688763,0.004549400138454431,0.004453078733938504,0.004357053533926194,0.004261394126698952,0.00416616815243486,0.004071441238975433,0.003977276942993341,0.0038837366965801183,0.0037908797592571407,0.003698763175398329,0.0036074417370382823,0.0035169679520252227,0.0034273920174643373,0.003338761798383934,0.003251122811543898,0.003164518214293859,0.0030789887983769747,0.0029945729885640683,0.0029113068459928585,0.0028292240760771042,0.0027483560408417744,0.002668731775531978,0.0025903780093359204,0.0025133191900553074,0.0024375775125505244,0.0023631729507826047,0.002290123293269207,0.0022184441817680663,0.0021481491529979657,0.00207924968320487,0.0020117552353789425,0.001945673308926996,0.001881009491604397,0.001817767513510559,0.0017559493029528476,0.0016955550439850396,0.0016365832354283696,0.0015790307511855425,0.0015228929016611308,0.0014681634961050424,0.0014148349056997682,0.0013628981272162614,0.0013123428470681341,0.0012631575055988258,0.0012153293614417966,0.0011688445557995783,0.0011236881764933786,0.0010798443216412394,0.0010372961628290895,0.000996026007645759,0.0009560153614595902,0.000917244988321363,0.0008796949708850585,0.000843344769245065,0.0008081732785955321,0.0007741588856245776,0.0007412795235631545,0.0007095127258153972,0.0006788356781041987,0.0006492252690726491,0.0006206581392887272,0.0005931107286072825,0.0005665593218497971,0.000540980092768811,0.0005163491462699977,0.0004926425588708893,0.0004698364173809739,0.00044790685579349643,0.00042683009038457234,0.0004065824530203676,0.00038714042267793915,0.00036848065518995423,0.00035058001122787607,0.0003334155825423263,0.0003169647164831859,0.00030120503882560124,0.00028611447493143355,0.0002716712692787414,0.0002578540033947636,0.0002446416122304302,0.0002320133990167864,0.00021994904864578596,0.00020842863961979572,0.00019743265461574588,0.00018694198971127787,0.00017693796232140963,0.00016740231789519526,0.00015831723542262627,0.00014966533180257456,0.00014142966512295077,0.0001335937369044537,0.0001261414933592996,0.00011905732571618992,0.00011232606966248434,0.00010593300395411642,9.98638482432206e-05,9.410476017275456e-05,8.864233178659994e-05,8.346358530270815e-05,7.855596829587033e-05,7.39073483355836e-05,6.950600712333085e-05,6.534063417234736e-05,6.140032007165284e-05,5.7674549374772694e-05,5.415319315218153e-05,5.082650124506522e-05,4.7685094256532614e-05,4.471995531492821e-05,4.1922421642386116e-05,3.928417596025508e-05,3.6797237761508276e-05,3.445395447873005e-05,3.224699257476548e-05,3.0169328581615345e-05,2.8214240111676772e-05,2.6375296863966888e-05,2.464635164652589e-05,2.3021531434779228e-05,2.149522848426328e-05,2.0062091514762343e-05,1.871701698159409e-05,1.7455140448504973e-05,1.6271828075400385e-05,1.5162668232938794e-05,1.4123463254869801e-05,1.3150221337887024e-05,1.2239148597703193e-05,1.1386641289039938e-05,1.0589278196251727e-05,9.843813200378664e-06,9.147168027544682e-06,8.496425182783893e-06,7.888821072592008e-06,7.321739318755627e-06,6.7927042653179845e-06,6.299374679883471e-06,5.839537649854474e-06,5.411102673625506e-06,5.012095946231395e-06,4.6406548384599475e-06,4.295022567989631e-06,3.973543060701787e-06,3.6746559999410052e-06,3.3968920611569695e-06,3.13886832905277e-06,2.899283894089772e-06,2.6769156249532937e-06,2.470614113367164e-06,2.279299787456657e-06,2.101959189696503e-06,1.937641415342462e-06,1.7854547071304757e-06,1.6445632019343808e-06,1.514183825000517e-06,1.393583327324379e-06,1.282075461698967e-06,1.1790182929453008e-06,1.0838116378318968e-06,9.958946302005023e-07,9.147434068384841e-07,8.398689096733983e-07,7.708147999112758e-07,7.07155479795416e-07,6.484942177270394e-07,5.944613725609929e-07,5.447127129688156e-07,4.989278278464904e-07,4.568086238344637e-07,4.180779061124229e-07,3.824780387299539e-07,3.4976968083596153e-07,3.197305952742124e-07,2.9215452611851514e-07,2.6685014182897396e-07,2.43640040819339e-07,2.2235981633468742e-07,2.0285717764795684e-07,1.8499112469275036e-07,1.6863117335814897e-07,1.5365662877852734e-07,1.399559040574943e-07,1.2742588196952327e-07,1.1597131728571897e-07,1.0550427747096848e-07,9.594361959850645e-08,8.721450142438031e-08,7.924792465841992e-08,7.198030855985485e-08,6.53530920748136e-08,5.931236281877622e-08,5.3808511292265954e-08,4.8795908795600524e-08,4.423260759706946e-08,4.00800619313353e-08,3.6302868672274276e-08,3.2868526099196706e-08],\"type\":\"bar\"}],                        {\"template\":{\"data\":{\"bar\":[{\"error_x\":{\"color\":\"#f2f5fa\"},\"error_y\":{\"color\":\"#f2f5fa\"},\"marker\":{\"line\":{\"color\":\"rgb(17,17,17)\",\"width\":0.5},\"pattern\":{\"fillmode\":\"overlay\",\"size\":10,\"solidity\":0.2}},\"type\":\"bar\"}],\"barpolar\":[{\"marker\":{\"line\":{\"color\":\"rgb(17,17,17)\",\"width\":0.5},\"pattern\":{\"fillmode\":\"overlay\",\"size\":10,\"solidity\":0.2}},\"type\":\"barpolar\"}],\"carpet\":[{\"aaxis\":{\"endlinecolor\":\"#A2B1C6\",\"gridcolor\":\"#506784\",\"linecolor\":\"#506784\",\"minorgridcolor\":\"#506784\",\"startlinecolor\":\"#A2B1C6\"},\"baxis\":{\"endlinecolor\":\"#A2B1C6\",\"gridcolor\":\"#506784\",\"linecolor\":\"#506784\",\"minorgridcolor\":\"#506784\",\"startlinecolor\":\"#A2B1C6\"},\"type\":\"carpet\"}],\"choropleth\":[{\"colorbar\":{\"outlinewidth\":0,\"ticks\":\"\"},\"type\":\"choropleth\"}],\"contour\":[{\"colorbar\":{\"outlinewidth\":0,\"ticks\":\"\"},\"colorscale\":[[0.0,\"#0d0887\"],[0.1111111111111111,\"#46039f\"],[0.2222222222222222,\"#7201a8\"],[0.3333333333333333,\"#9c179e\"],[0.4444444444444444,\"#bd3786\"],[0.5555555555555556,\"#d8576b\"],[0.6666666666666666,\"#ed7953\"],[0.7777777777777778,\"#fb9f3a\"],[0.8888888888888888,\"#fdca26\"],[1.0,\"#f0f921\"]],\"type\":\"contour\"}],\"contourcarpet\":[{\"colorbar\":{\"outlinewidth\":0,\"ticks\":\"\"},\"type\":\"contourcarpet\"}],\"heatmap\":[{\"colorbar\":{\"outlinewidth\":0,\"ticks\":\"\"},\"colorscale\":[[0.0,\"#0d0887\"],[0.1111111111111111,\"#46039f\"],[0.2222222222222222,\"#7201a8\"],[0.3333333333333333,\"#9c179e\"],[0.4444444444444444,\"#bd3786\"],[0.5555555555555556,\"#d8576b\"],[0.6666666666666666,\"#ed7953\"],[0.7777777777777778,\"#fb9f3a\"],[0.8888888888888888,\"#fdca26\"],[1.0,\"#f0f921\"]],\"type\":\"heatmap\"}],\"heatmapgl\":[{\"colorbar\":{\"outlinewidth\":0,\"ticks\":\"\"},\"colorscale\":[[0.0,\"#0d0887\"],[0.1111111111111111,\"#46039f\"],[0.2222222222222222,\"#7201a8\"],[0.3333333333333333,\"#9c179e\"],[0.4444444444444444,\"#bd3786\"],[0.5555555555555556,\"#d8576b\"],[0.6666666666666666,\"#ed7953\"],[0.7777777777777778,\"#fb9f3a\"],[0.8888888888888888,\"#fdca26\"],[1.0,\"#f0f921\"]],\"type\":\"heatmapgl\"}],\"histogram\":[{\"marker\":{\"pattern\":{\"fillmode\":\"overlay\",\"size\":10,\"solidity\":0.2}},\"type\":\"histogram\"}],\"histogram2d\":[{\"colorbar\":{\"outlinewidth\":0,\"ticks\":\"\"},\"colorscale\":[[0.0,\"#0d0887\"],[0.1111111111111111,\"#46039f\"],[0.2222222222222222,\"#7201a8\"],[0.3333333333333333,\"#9c179e\"],[0.4444444444444444,\"#bd3786\"],[0.5555555555555556,\"#d8576b\"],[0.6666666666666666,\"#ed7953\"],[0.7777777777777778,\"#fb9f3a\"],[0.8888888888888888,\"#fdca26\"],[1.0,\"#f0f921\"]],\"type\":\"histogram2d\"}],\"histogram2dcontour\":[{\"colorbar\":{\"outlinewidth\":0,\"ticks\":\"\"},\"colorscale\":[[0.0,\"#0d0887\"],[0.1111111111111111,\"#46039f\"],[0.2222222222222222,\"#7201a8\"],[0.3333333333333333,\"#9c179e\"],[0.4444444444444444,\"#bd3786\"],[0.5555555555555556,\"#d8576b\"],[0.6666666666666666,\"#ed7953\"],[0.7777777777777778,\"#fb9f3a\"],[0.8888888888888888,\"#fdca26\"],[1.0,\"#f0f921\"]],\"type\":\"histogram2dcontour\"}],\"mesh3d\":[{\"colorbar\":{\"outlinewidth\":0,\"ticks\":\"\"},\"type\":\"mesh3d\"}],\"parcoords\":[{\"line\":{\"colorbar\":{\"outlinewidth\":0,\"ticks\":\"\"}},\"type\":\"parcoords\"}],\"pie\":[{\"automargin\":true,\"type\":\"pie\"}],\"scatter\":[{\"marker\":{\"line\":{\"color\":\"#283442\"}},\"type\":\"scatter\"}],\"scatter3d\":[{\"line\":{\"colorbar\":{\"outlinewidth\":0,\"ticks\":\"\"}},\"marker\":{\"colorbar\":{\"outlinewidth\":0,\"ticks\":\"\"}},\"type\":\"scatter3d\"}],\"scattercarpet\":[{\"marker\":{\"colorbar\":{\"outlinewidth\":0,\"ticks\":\"\"}},\"type\":\"scattercarpet\"}],\"scattergeo\":[{\"marker\":{\"colorbar\":{\"outlinewidth\":0,\"ticks\":\"\"}},\"type\":\"scattergeo\"}],\"scattergl\":[{\"marker\":{\"line\":{\"color\":\"#283442\"}},\"type\":\"scattergl\"}],\"scattermapbox\":[{\"marker\":{\"colorbar\":{\"outlinewidth\":0,\"ticks\":\"\"}},\"type\":\"scattermapbox\"}],\"scatterpolar\":[{\"marker\":{\"colorbar\":{\"outlinewidth\":0,\"ticks\":\"\"}},\"type\":\"scatterpolar\"}],\"scatterpolargl\":[{\"marker\":{\"colorbar\":{\"outlinewidth\":0,\"ticks\":\"\"}},\"type\":\"scatterpolargl\"}],\"scatterternary\":[{\"marker\":{\"colorbar\":{\"outlinewidth\":0,\"ticks\":\"\"}},\"type\":\"scatterternary\"}],\"surface\":[{\"colorbar\":{\"outlinewidth\":0,\"ticks\":\"\"},\"colorscale\":[[0.0,\"#0d0887\"],[0.1111111111111111,\"#46039f\"],[0.2222222222222222,\"#7201a8\"],[0.3333333333333333,\"#9c179e\"],[0.4444444444444444,\"#bd3786\"],[0.5555555555555556,\"#d8576b\"],[0.6666666666666666,\"#ed7953\"],[0.7777777777777778,\"#fb9f3a\"],[0.8888888888888888,\"#fdca26\"],[1.0,\"#f0f921\"]],\"type\":\"surface\"}],\"table\":[{\"cells\":{\"fill\":{\"color\":\"#506784\"},\"line\":{\"color\":\"rgb(17,17,17)\"}},\"header\":{\"fill\":{\"color\":\"#2a3f5f\"},\"line\":{\"color\":\"rgb(17,17,17)\"}},\"type\":\"table\"}]},\"layout\":{\"annotationdefaults\":{\"arrowcolor\":\"#f2f5fa\",\"arrowhead\":0,\"arrowwidth\":1},\"autotypenumbers\":\"strict\",\"coloraxis\":{\"colorbar\":{\"outlinewidth\":0,\"ticks\":\"\"}},\"colorscale\":{\"diverging\":[[0,\"#8e0152\"],[0.1,\"#c51b7d\"],[0.2,\"#de77ae\"],[0.3,\"#f1b6da\"],[0.4,\"#fde0ef\"],[0.5,\"#f7f7f7\"],[0.6,\"#e6f5d0\"],[0.7,\"#b8e186\"],[0.8,\"#7fbc41\"],[0.9,\"#4d9221\"],[1,\"#276419\"]],\"sequential\":[[0.0,\"#0d0887\"],[0.1111111111111111,\"#46039f\"],[0.2222222222222222,\"#7201a8\"],[0.3333333333333333,\"#9c179e\"],[0.4444444444444444,\"#bd3786\"],[0.5555555555555556,\"#d8576b\"],[0.6666666666666666,\"#ed7953\"],[0.7777777777777778,\"#fb9f3a\"],[0.8888888888888888,\"#fdca26\"],[1.0,\"#f0f921\"]],\"sequentialminus\":[[0.0,\"#0d0887\"],[0.1111111111111111,\"#46039f\"],[0.2222222222222222,\"#7201a8\"],[0.3333333333333333,\"#9c179e\"],[0.4444444444444444,\"#bd3786\"],[0.5555555555555556,\"#d8576b\"],[0.6666666666666666,\"#ed7953\"],[0.7777777777777778,\"#fb9f3a\"],[0.8888888888888888,\"#fdca26\"],[1.0,\"#f0f921\"]]},\"colorway\":[\"#636efa\",\"#EF553B\",\"#00cc96\",\"#ab63fa\",\"#FFA15A\",\"#19d3f3\",\"#FF6692\",\"#B6E880\",\"#FF97FF\",\"#FECB52\"],\"font\":{\"color\":\"#f2f5fa\"},\"geo\":{\"bgcolor\":\"rgb(17,17,17)\",\"lakecolor\":\"rgb(17,17,17)\",\"landcolor\":\"rgb(17,17,17)\",\"showlakes\":true,\"showland\":true,\"subunitcolor\":\"#506784\"},\"hoverlabel\":{\"align\":\"left\"},\"hovermode\":\"closest\",\"mapbox\":{\"style\":\"dark\"},\"paper_bgcolor\":\"rgb(17,17,17)\",\"plot_bgcolor\":\"rgb(17,17,17)\",\"polar\":{\"angularaxis\":{\"gridcolor\":\"#506784\",\"linecolor\":\"#506784\",\"ticks\":\"\"},\"bgcolor\":\"rgb(17,17,17)\",\"radialaxis\":{\"gridcolor\":\"#506784\",\"linecolor\":\"#506784\",\"ticks\":\"\"}},\"scene\":{\"xaxis\":{\"backgroundcolor\":\"rgb(17,17,17)\",\"gridcolor\":\"#506784\",\"gridwidth\":2,\"linecolor\":\"#506784\",\"showbackground\":true,\"ticks\":\"\",\"zerolinecolor\":\"#C8D4E3\"},\"yaxis\":{\"backgroundcolor\":\"rgb(17,17,17)\",\"gridcolor\":\"#506784\",\"gridwidth\":2,\"linecolor\":\"#506784\",\"showbackground\":true,\"ticks\":\"\",\"zerolinecolor\":\"#C8D4E3\"},\"zaxis\":{\"backgroundcolor\":\"rgb(17,17,17)\",\"gridcolor\":\"#506784\",\"gridwidth\":2,\"linecolor\":\"#506784\",\"showbackground\":true,\"ticks\":\"\",\"zerolinecolor\":\"#C8D4E3\"}},\"shapedefaults\":{\"line\":{\"color\":\"#f2f5fa\"}},\"sliderdefaults\":{\"bgcolor\":\"#C8D4E3\",\"bordercolor\":\"rgb(17,17,17)\",\"borderwidth\":1,\"tickwidth\":0},\"ternary\":{\"aaxis\":{\"gridcolor\":\"#506784\",\"linecolor\":\"#506784\",\"ticks\":\"\"},\"baxis\":{\"gridcolor\":\"#506784\",\"linecolor\":\"#506784\",\"ticks\":\"\"},\"bgcolor\":\"rgb(17,17,17)\",\"caxis\":{\"gridcolor\":\"#506784\",\"linecolor\":\"#506784\",\"ticks\":\"\"}},\"title\":{\"x\":0.05},\"updatemenudefaults\":{\"bgcolor\":\"#506784\",\"borderwidth\":0},\"xaxis\":{\"automargin\":true,\"gridcolor\":\"#283442\",\"linecolor\":\"#506784\",\"ticks\":\"\",\"title\":{\"standoff\":15},\"zerolinecolor\":\"#283442\",\"zerolinewidth\":2},\"yaxis\":{\"automargin\":true,\"gridcolor\":\"#283442\",\"linecolor\":\"#506784\",\"ticks\":\"\",\"title\":{\"standoff\":15},\"zerolinecolor\":\"#283442\",\"zerolinewidth\":2}}},\"xaxis\":{\"anchor\":\"y\",\"domain\":[0.0,1.0]},\"yaxis\":{\"anchor\":\"x\",\"domain\":[0.0,1.0]},\"width\":800},                        {\"responsive\": true}                    ).then(function(){\n",
              "                            \n",
              "var gd = document.getElementById('7964a878-0cf3-49db-8c89-5a63dde1f046');\n",
              "var x = new MutationObserver(function (mutations, observer) {{\n",
              "        var display = window.getComputedStyle(gd).display;\n",
              "        if (!display || display === 'none') {{\n",
              "            console.log([gd, 'removed!']);\n",
              "            Plotly.purge(gd);\n",
              "            observer.disconnect();\n",
              "        }}\n",
              "}});\n",
              "\n",
              "// Listen for the removal of the full notebook cells\n",
              "var notebookContainer = gd.closest('#notebook-container');\n",
              "if (notebookContainer) {{\n",
              "    x.observe(notebookContainer, {childList: true});\n",
              "}}\n",
              "\n",
              "// Listen for the clearing of the current output cell\n",
              "var outputEl = gd.closest('.output');\n",
              "if (outputEl) {{\n",
              "    x.observe(outputEl, {childList: true});\n",
              "}}\n",
              "\n",
              "                        })                };                            </script>        </div>\n",
              "</body>\n",
              "</html>"
            ]
          },
          "metadata": {}
        }
      ]
    },
    {
      "cell_type": "code",
      "source": [
        "class Problem():\n",
        "    def __init__(self,obj,constraints,x0):\n",
        "        self.x0=x0\n",
        "        self.obj=obj\n",
        "        self.obj_jit=jax.jit(obj)\n",
        "        self.obj_grad = jax.jit(jax.grad(obj))\n",
        "        self.constraints_functions=constraints\n",
        "        self.constraint_jac = jax.jit(jax.jacobian(self.combined_constraints))\n",
        "        self.hess = jax.jit(jax.jacrev(jax.jacfwd(self.L)))\n",
        "        self.n_constraints = self.combined_constraints(self.x0).size\n",
        "        self.row, self.col = self.hessianstructure()\n",
        "\n",
        "\n",
        "    def objective(self, x):\n",
        "        return self.obj_jit(x)\n",
        "\n",
        "    def gradient(self, x):\n",
        "        return self.obj_grad(x)\n",
        "\n",
        "    @partial(jax.jit, static_argnums=(0,))\n",
        "    def combined_constraints(self, x):\n",
        "        return jnp.concatenate([jnp.atleast_1d(f(x)) for f in self.constraints_functions])\n",
        "\n",
        "    def constraints(self, x):\n",
        "        return self.combined_constraints(x)\n",
        "\n",
        "    def jacobian(self, x):\n",
        "        return self.constraint_jac(x)\n",
        "\n",
        "\n",
        "\n",
        "    @partial(jax.jit, static_argnums=(0,))\n",
        "    def L(self, x, lagrange, obj_factor):\n",
        "        return obj_factor*self.obj(x) + jnp.sum(lagrange*self.combined_constraints(x))\n",
        "\n",
        "    def hessian(self, x, lagrange, obj_factor):\n",
        "        return self.hess(x,lagrange,obj_factor)[self.row, self.col]\n",
        "\n",
        "    def hessianstructure(self):\n",
        "        return jnp.nonzero(jnp.tril(self.hess(self.x0,jnp.ones(self.n_constraints), 1.)))\n",
        "\n",
        "    def intermediate(self, alg_mod, iter_count, obj_value, inf_pr, inf_du, mu,\n",
        "                     d_norm, regularization_size, alpha_du, alpha_pr,\n",
        "                     ls_trials):\n",
        "        \"\"\"Prints information at every Ipopt iteration.\"\"\"\n",
        "\n",
        "        msg = \"Objective value at iteration #{:d} is - {:g}\"\n",
        "\n",
        "        print(msg.format(iter_count, obj_value))\n"
      ],
      "metadata": {
        "id": "AzmFYV2bNNud"
      },
      "execution_count": 253,
      "outputs": []
    },
    {
      "cell_type": "code",
      "source": [
        "problem=Problem(entropy, [p_constraint, avg_constraint, std_constraint], jnp.full(n_grades,1/n_grades))"
      ],
      "metadata": {
        "id": "2BLYr0aC1eaG"
      },
      "execution_count": 254,
      "outputs": []
    },
    {
      "cell_type": "code",
      "source": [
        "x0 = jnp.full(n_grades,1/n_grades)\n",
        "nlp=cyipopt.Problem(\n",
        "   n=len(x0),\n",
        "   m=problem.n_constraints,\n",
        "   problem_obj=problem,\n",
        "   lb=[0.]*len(x0),\n",
        "   ub=[1.]*len(x0),\n",
        "   cl=[0.]*problem.n_constraints,\n",
        "   cu=[0.]*problem.n_constraints,\n",
        ")"
      ],
      "metadata": {
        "id": "ZGHxq0eNA-uf"
      },
      "execution_count": 257,
      "outputs": []
    },
    {
      "cell_type": "code",
      "source": [
        "res=nlp.solve(x0)"
      ],
      "metadata": {
        "colab": {
          "base_uri": "https://localhost:8080/"
        },
        "id": "9y-w7HXXIpVg",
        "outputId": "4d0aa6cb-b720-410e-bc48-48c29149ccef"
      },
      "execution_count": 258,
      "outputs": [
        {
          "output_type": "stream",
          "name": "stdout",
          "text": [
            "Objective value at iteration #0 is - -23.0258\n",
            "Objective value at iteration #1 is - -20.6738\n",
            "Objective value at iteration #2 is - -17.2309\n",
            "Objective value at iteration #3 is - -13.2973\n",
            "Objective value at iteration #4 is - -10.2909\n",
            "Objective value at iteration #5 is - -8.1091\n",
            "Objective value at iteration #6 is - -6.60414\n",
            "Objective value at iteration #7 is - -5.22766\n",
            "Objective value at iteration #8 is - -4.21721\n",
            "Objective value at iteration #9 is - -3.51208\n",
            "Objective value at iteration #10 is - -2.71272\n",
            "Objective value at iteration #11 is - -2.67005\n",
            "Objective value at iteration #12 is - -2.42972\n",
            "Objective value at iteration #13 is - -1.28043\n",
            "Objective value at iteration #14 is - -1.28043\n",
            "Objective value at iteration #15 is - -1.35322\n",
            "Objective value at iteration #16 is - -1.35202\n",
            "Objective value at iteration #16 is - -1.35202\n",
            "Objective value at iteration #17 is - -1.3032\n",
            "Objective value at iteration #18 is - -0.957784\n",
            "Objective value at iteration #19 is - -0.711544\n",
            "Objective value at iteration #20 is - -0.678355\n",
            "Objective value at iteration #21 is - -0.666228\n",
            "Objective value at iteration #22 is - -0.666228\n",
            "Objective value at iteration #23 is - -1.77866\n",
            "Objective value at iteration #23 is - -1.77866\n",
            "Objective value at iteration #24 is - -1.72638\n",
            "Objective value at iteration #25 is - -1.68595\n",
            "Objective value at iteration #26 is - -0.829513\n",
            "Objective value at iteration #27 is - -0.554259\n",
            "Objective value at iteration #28 is - -0.35531\n",
            "Objective value at iteration #29 is - -0.319019\n",
            "Objective value at iteration #30 is - -0.318411\n",
            "Objective value at iteration #31 is - -0.318087\n",
            "Objective value at iteration #32 is - -0.318087\n",
            "Objective value at iteration #33 is - -0.732996\n",
            "Objective value at iteration #33 is - -0.732996\n",
            "Objective value at iteration #34 is - -0.816979\n",
            "Objective value at iteration #35 is - -1.23897\n",
            "Objective value at iteration #36 is - -3.41184\n",
            "Objective value at iteration #37 is - -8.08606\n",
            "Objective value at iteration #38 is - -8.96116\n",
            "Objective value at iteration #39 is - -8.72304\n",
            "Objective value at iteration #40 is - -7.06075\n",
            "Objective value at iteration #41 is - -6.71305\n",
            "Objective value at iteration #42 is - -5.44669\n",
            "Objective value at iteration #43 is - -5.11321\n",
            "Objective value at iteration #44 is - -5.03638\n",
            "Objective value at iteration #45 is - -5.05166\n",
            "Objective value at iteration #46 is - -5.06458\n",
            "Objective value at iteration #47 is - -5.19644\n",
            "Objective value at iteration #48 is - -5.2046\n",
            "Objective value at iteration #49 is - -5.25355\n",
            "Objective value at iteration #50 is - -5.3005\n",
            "Objective value at iteration #51 is - -5.31569\n",
            "Objective value at iteration #52 is - -5.31696\n",
            "Objective value at iteration #53 is - -5.31699\n",
            "Objective value at iteration #54 is - -5.32764\n",
            "Objective value at iteration #55 is - -5.3303\n",
            "Objective value at iteration #56 is - -5.33079\n",
            "Objective value at iteration #57 is - -5.33086\n",
            "Objective value at iteration #58 is - -5.33087\n",
            "Objective value at iteration #59 is - -5.33087\n",
            "Objective value at iteration #60 is - -5.33095\n",
            "Objective value at iteration #61 is - -5.33096\n",
            "Objective value at iteration #62 is - -5.33096\n",
            "Objective value at iteration #63 is - -5.33096\n",
            "Objective value at iteration #64 is - -5.33096\n",
            "Objective value at iteration #65 is - -5.33096\n",
            "Objective value at iteration #66 is - -5.33096\n"
          ]
        }
      ]
    },
    {
      "cell_type": "code",
      "source": [
        "fig=make_subplots()\n",
        "fig.add_bar(x=grades,y=res[0])\n",
        "fig.update_layout(width=800)"
      ],
      "metadata": {
        "colab": {
          "base_uri": "https://localhost:8080/",
          "height": 542
        },
        "id": "7kWoWF5GUE_S",
        "outputId": "ce6dcb26-9424-46db-e2e6-e687eb962ad4"
      },
      "execution_count": 259,
      "outputs": [
        {
          "output_type": "display_data",
          "data": {
            "text/html": [
              "<html>\n",
              "<head><meta charset=\"utf-8\" /></head>\n",
              "<body>\n",
              "    <div>            <script src=\"https://cdnjs.cloudflare.com/ajax/libs/mathjax/2.7.5/MathJax.js?config=TeX-AMS-MML_SVG\"></script><script type=\"text/javascript\">if (window.MathJax) {MathJax.Hub.Config({SVG: {font: \"STIX-Web\"}});}</script>                <script type=\"text/javascript\">window.PlotlyConfig = {MathJaxConfig: 'local'};</script>\n",
              "        <script src=\"https://cdn.plot.ly/plotly-2.8.3.min.js\"></script>                <div id=\"62b6c460-d03a-4490-9099-a8c6d03f2929\" class=\"plotly-graph-div\" style=\"height:525px; width:800px;\"></div>            <script type=\"text/javascript\">                                    window.PLOTLYENV=window.PLOTLYENV || {};                                    if (document.getElementById(\"62b6c460-d03a-4490-9099-a8c6d03f2929\")) {                    Plotly.newPlot(                        \"62b6c460-d03a-4490-9099-a8c6d03f2929\",                        [{\"x\":[0,1,2,3,4,5,6,7,8,9,10,11,12,13,14,15,16,17,18,19,20,21,22,23,24,25,26,27,28,29,30,31,32,33,34,35,36,37,38,39,40,41,42,43,44,45,46,47,48,49,50,51,52,53,54,55,56,57,58,59,60,61,62,63,64,65,66,67,68,69,70,71,72,73,74,75,76,77,78,79,80,81,82,83,84,85,86,87,88,89,90,91,92,93,94,95,96,97,98,99,100,101,102,103,104,105,106,107,108,109,110,111,112,113,114,115,116,117,118,119,120,121,122,123,124,125,126,127,128,129,130,131,132,133,134,135,136,137,138,139,140,141,142,143,144,145,146,147,148,149,150,151,152,153,154,155,156,157,158,159,160,161,162,163,164,165,166,167,168,169,170,171,172,173,174,175,176,177,178,179,180,181,182,183,184,185,186,187,188,189,190,191,192,193,194,195,196,197,198,199,200,201,202,203,204,205,206,207,208,209,210,211,212,213,214,215,216,217,218,219,220,221,222,223,224,225,226,227,228,229,230,231,232,233,234,235,236,237,238,239,240,241,242,243,244,245,246,247,248,249,250,251,252,253,254,255,256,257,258,259,260,261,262,263,264,265,266,267,268,269,270,271,272,273,274,275,276,277,278,279,280,281,282,283,284,285,286,287,288,289,290,291,292,293,294,295,296,297,298,299,300,301,302,303,304,305,306,307,308,309,310,311,312,313,314,315,316,317,318,319,320,321,322,323,324,325,326,327,328,329,330,331,332,333,334,335,336,337,338,339,340,341,342,343,344,345,346,347,348,349,350,351,352,353,354,355,356,357,358,359,360,361,362,363,364,365,366,367,368,369,370,371,372,373,374,375,376,377,378,379,380,381,382,383,384,385,386,387,388,389,390,391,392,393,394,395,396,397,398,399,400,401,402,403,404,405,406,407,408,409,410,411,412,413,414,415,416,417,418,419,420,421,422,423,424,425,426,427,428,429,430,431,432,433,434,435,436,437,438,439,440,441,442,443,444,445,446,447,448,449,450,451,452,453,454,455,456,457,458,459,460,461,462,463,464,465,466,467,468,469,470,471,472,473,474,475,476,477,478,479,480,481,482,483,484,485,486,487,488,489,490,491,492,493,494,495,496,497,498,499],\"y\":[3.158357747146655e-08,3.4749770270622675e-08,3.82267339007069e-08,4.2044269408888214e-08,4.6234876648584116e-08,5.083397605170083e-08,5.5880147394224233e-08,6.14153868119431e-08,6.748538338025536e-08,7.413981662983157e-08,8.143267642946382e-08,8.942260672962292e-08,9.817327472588166e-08,1.077537670709312e-07,1.1823901483781347e-07,1.2971024901528994e-07,1.4225548839901996e-07,1.5597006182919088e-07,1.7095716681624627e-07,1.873284666910232e-07,2.0520472851361247e-07,2.2471650407620707e-07,2.460048564386956e-07,2.692221345414525e-07,2.945327985472111e-07,3.2211429867282425e-07,3.521580103815611e-07,3.848702289171423e-07,4.2047322627148307e-07,4.5920637378868537e-07,5.013273337177907e-07,5.471133231356759e-07,5.968624537688283e-07,6.508951513478924e-07,7.095556582314758e-07,7.732136231349136e-07,8.422657818951357e-07,9.171377332933988e-07,9.982858140431689e-07,1.0861990771295552e-06,1.1814013777591618e-06,1.2844535712434783e-06,1.395955827194777e-06,1.5165500644593516e-06,1.6469225112480533e-06,1.7878063949476096e-06,1.9399847661062934e-06,2.1042934610842364e-06,2.281624207839214e-06,2.472927879283602e-06,2.6792178985946303e-06,2.9015738007875748e-06,3.14114495476872e-06,3.3991544499700842e-06,3.6769031515297306e-06,3.975773927819055e-06,4.2972360539294886e-06,4.6428497945147155e-06,5.0142711691395024e-06,5.413256903010034e-06,5.841669565653739e-06,6.301482899774966e-06,6.794787342138124e-06,7.323795737917825e-06,7.890849249506785e-06,8.498423460284691e-06,9.149134673324113e-06,9.845746404440662e-06,1.0591176068384648e-05,1.1388501856317782e-05,1.224096980202152e-05,1.315200103354122e-05,1.4125199206183839e-05,1.5164358111953395e-05,1.6273469459630107e-05,1.7456730818773506e-05,1.8718553719959068e-05,2.0063571902540886e-05,2.149664970016902e-05,2.302289055318396e-05,2.4647645635858598e-05,2.6376522585262986e-05,2.8215394317291404e-05,3.01704079141162e-05,3.2247993566018045e-05,3.445487354919199e-05,3.679807121974829e-05,3.9284920002711544e-05,4.192307235338224e-05,4.472050866696077e-05,4.768554611085041e-05,5.0826847352554616e-05,5.415342915457599e-05,5.767467080620378e-05,6.140032236056069e-05,6.534051264376562e-05,6.95057570015664e-05,7.390696474730514e-05,7.855544627362417e-05,8.34629197888767e-05,8.864151763782027e-05,9.410379216481067e-05,9.98627210764238e-05,0.00010593171225919302,0.00011232460800697505,0.00011905568861138322,0.00012613967526770337,0.00013359173224781863,0.0001414274682908557,0.0001496629371615784,0.00015831463732599732,0.00016739951069321828,0.0001769349403722798,0.0001869387473925774,0.00019742918633650902,0.0002084249398331548,0.0002199451118621983,0.0002320092198178346,0.00024463718528319023,0.00025784932346672226,0.00027166633125326294,0.0002861092738237453,0.00030119956979929405,0.00031695897486719874,0.00033340956384839945,0.0003505737111684366,0.00036847406969642066,0.0003871335479193987,0.0004065752854225979,0.00042682262664937485,0.00044789909291829424,0.00046982835267863336,0.0004926341899897206,0.0005163404712138901,0.0005409711099174385,0.0005665500299788592,0.0005931011269087066,0.0006206482273907825,0.0006492150470599108,0.0006788251465372937,0.0007095018857504649,0.000741268376570964,0.0007741474338092233,0.0008081615246126311,0.0008433327163193974,0.0008796826228275643,0.0009172323495454212,0.0009560024369965058,0.0009960128031593896,0.0010372826846295079,0.0010798305766973808,0.0011236741724445953,0.001168830300965984,0.001215314864833389,0.0012631427769232493,0.0013123278967370547,0.0013628829663502504,0.0014148195461316491,0.0014681479503816095,0.0015228771830431867,0.0015790148736462063,0.0016365672136495588,0.00169553889335212,0.0017559330395473512,0.001817751154100961,0.0018809930536348896,0.0019456568105042315,0.0020117386952567076,0.0020792331207666738,0.0021481325882375165,0.002218427635267624,0.0022901067861758025,0.0023631565047821336,0.0024375611498397144,0.0025133029333115633,0.0025903618816851114,0.002668715800514132,0.0027483402423747623,0.0028292084784183494,0.0029112914736991076,0.002994557866449301,0.003078973951468498,0.0031645036677867095,0.00325110859075356,0.003338747928697529,0.003427378524290345,0.003516954860741882,0.003607429072940716,0.0036987509636445667,0.003790868024813174,0.0038837254641640685,0.003977266237018906,0.004071431083494793,0.004166158571081128,0.004261385142628343,0.004357045169760136,0.00445307101170574,0.004549393079533386,0.0046459399057502525,0.004742638219218547,0.004839413025320837,0.00493618769129174,0.005032884036616717,0.00512942242838215,0.005225721881444765,0.005321700163272144,0.005417273903289906,0.0055123587065555295,0.00560686927156289,0.005700719511966709,0.005793822682001045,0.005886091505351711,0.0059774383072287145,0.006067775149371559,0.006157013967707609,0.0062450667123719935,0.006331845489786129,0.006417262706482036,0.006501231214349667,0.006583664456976342,0.006664476616739555,0.0067435827623077834,0.0068208989961984065,0.006896342602037346,0.006969832191161488,0.0070412878482025735,0.0071106312752902785,0.007177785934511835,0.007242677188266968,0.007305232437158904,0.007365381255066003,0.007423055521042929,0.007478189547706206,0.007530720205765984,0.007580587044373966,0.0076277324069665585,0.007672101542292802,0.007713642710327952,0.00775230728278606,0.007788049837958261,0.00782082824961796,0.007850603769749446,0.00787734110487236,0.007901008485751766,0.007921577730301015,0.007939024299503066,0.00795332734619497,0.007964469756579686,0.007972438184349647,0.007977223077326713,0.007978818696544118,0.007977223127717077,0.007972438285069917,0.007964469907509094,0.007953327547152637,0.00793902455024841,0.007921578030534195,0.00790100883511429,0.007877341502947806,0.007850604216064278,0.007820828743642481,0.0077880503791076345,0.0077523078704215,0.00771364334375795,0.007672102220774487,0.007627733129707176,0.007580587810532379,0.007530721014454339,0.007478190397991625,0.007423056411949308,0.007365382185575877,0.0073052334062153855,0.007242678194775747,0.00717778697734323,0.00711063235328134,0.0070412889601592496,0.006969833335860818,0.006896343778229699,0.006820900202609735,0.006743583997641928,0.006664477879680552,0.006583665746190709,0.006501232528488782,0.00641726404418446,0.006331846849679886,0.006245068093076935,0.006157015367837709,0.006067776567537178,0.005977439742038887,0.005886092955416351,0.0057938241459331566,0.005700720988384516,0.00560687075909196,0.005512360203830848,0.00541727540895787,0.005321701675992501,0.005225723399892532,0.0051294239512494275,0.005032885562614453,0.004936189219151421,0.0048394145537960995,0.004742639747086747,0.004645941431813901,0.004549394602621548,0.004453072530675365,0.0043570466834972395,0.004261386650049184,0.004166160071133239,0.004071432575157982,0.003977267719306114,0.003883726936122187,0.0037908694855237545,0.003698752412224451,0.0036074305085425813,0.0035169562825547013,0.0034273799315397654,0.0033387493206461665,0.00325110996670122,0.003164505027070522,0.003078975293462968,0.0029945591905663014,0.002911292779387792,0.002829209765164983,0.0027483415097025016,0.0026687170479827204,0.002590363108890534,0.002513304139885612,0.002437562335449519,0.0023631576691296283,0.0022901079289971323,0.002218428756332515,0.002148133687348593,0.002079234197758741,0.0020117397499959722,0.001945657842887504,0.001880994063588752,0.0018177521415808947,0.0017559340045368366,0.0016955398358617286,0.0016365681337159946,0.00157901577133136,0.001522878058433144,0.0014681488035856699,0.001414820377281319,0.0013628837755982354,0.001312328684256246,0.001263143542905709,0.0012153156094893323,0.0011688310245227677,0.0011236748751457042,0.001079831258801432,0.0010372833464092515,0.000996013444900732,0.0009560030589975382,0.0009172329521154647,0.0008796832062862341,0.0008433332809956818,0.0008081620708439879,0.0007741479619407037,0.0007412688869543531,0.000709502378743445,0.0006788256225026336,0.0006492155063646807,0.0006206486704055909,0.0005931015540069655,0.0005665504415360775,0.0005409715063105398,0.0005163408528205623,0.0004926345571877895,0.00046982870584546437,0.0004478994324302273,0.00042682295288118063,0.00040657559874696846,0.0003871338487064637,0.0003684743583132904,0.0003505739879787742,0.00033340982921202126,0.0003169592291396993,0.0003011998133316998,0.0002861095069621915,0.0002716665543387007,0.0002578495368346455,0.00024463738926339037,0.00023200941473417816,0.00021994529803242503,0.00020842511756870207,0.00019742935594235496,0.00018693890916710558,0.00017693509460716244,0.00016739965767332323,0.00015831477732930723,0.00014966307045913182,0.00014142759514670296,0.0001335918529189956,0.00012613979000421723,0.00011905579765621635,0.00011232471159609878,0.00010593181062159722,9.986281443415682e-05,9.410388073303013e-05,8.864160162485583e-05,8.346299939630071e-05,7.855552169633274e-05,7.390703617360706e-05,6.95058246132788e-05,6.53405766163177e-05,6.140038286310294e-05,5.7674728001723124e-05,5.415348320001596e-05,5.082689839893939e-05,4.7685594303414025e-05,4.472055414527804e-05,4.192311525150348e-05,3.928496044929962e-05,3.679810933821724e-05,3.4454909457847375e-05,3.224802737819766e-05,3.0170439738332235e-05,2.8215424257372475e-05,2.6376550740496034e-05,2.464767210113042e-05,2.3022915419121915e-05,2.149667305328108e-05,2.006359382535425e-05,1.8718574291156906e-05,1.74567501133306e-05,1.6273487548946407e-05,1.5164375063984996e-05,1.4125215085572377e-05,1.3152015901740555e-05,1.2240983717421848e-05,1.1388514874367215e-05,1.0591188241707914e-05,9.8457577829552e-06,9.149145304353033e-06,8.498433388666928e-06,7.8908585177042e-06,7.323804386119286e-06,6.794795408360447e-06,6.301490419960916e-06,5.841676573766867e-06,5.4132634311264395e-06,5.014277247536531e-06,4.6428554517566515e-06,4.297241316950179e-06,3.975778822001601e-06,3.676907700783144e-06,3.3991586768031634e-06,3.141148880360943e-06,2.9015774450572617e-06,2.67922128026433e-06,2.472931015942797e-06,2.2816271160043724e-06,2.1042961562563363e-06,1.9399872628258108e-06,1.7878087068470614e-06,1.6469246511022454e-06,1.5165520442332368e-06,1.3959576580891724e-06,1.2844552637385638e-06,1.1814029416559326e-06,1.086200521589249e-06,9.982871476247547e-07,9.171389639891975e-07,8.422669171646253e-07,7.732146699368125e-07,7.095566230541599e-07,6.508960402382134e-07,5.968632723593864e-07,5.471140766706424e-07,5.01328027077314e-07,4.5920701151194905e-07,4.204738125784835e-07,3.848707677292436e-07,3.521585053408698e-07,3.221147531604526e-07,2.9453321570047914e-07,2.6922251727008286e-07,2.460052074400372e-07,2.2471682584955077e-07,2.0520502337364568e-07,1.8732873678045006e-07,1.709574141176379e-07,1.559702881760891e-07,1.4225569548634848e-07,1.2971043840909898e-07,1.1823918798440059e-07,1.0775392530536933e-07,9.817341927999001e-08,8.9422738739413e-08,8.143279694208377e-08,7.413992661004763e-08,6.74854837164901e-08,6.141547832190104e-08,5.5880230830126674e-08,5.0834052105158314e-08,4.6234945955124816e-08,4.204433255216821e-08,3.8226791416421724e-08,3.474982265013958e-08],\"type\":\"bar\"}],                        {\"template\":{\"data\":{\"bar\":[{\"error_x\":{\"color\":\"#f2f5fa\"},\"error_y\":{\"color\":\"#f2f5fa\"},\"marker\":{\"line\":{\"color\":\"rgb(17,17,17)\",\"width\":0.5},\"pattern\":{\"fillmode\":\"overlay\",\"size\":10,\"solidity\":0.2}},\"type\":\"bar\"}],\"barpolar\":[{\"marker\":{\"line\":{\"color\":\"rgb(17,17,17)\",\"width\":0.5},\"pattern\":{\"fillmode\":\"overlay\",\"size\":10,\"solidity\":0.2}},\"type\":\"barpolar\"}],\"carpet\":[{\"aaxis\":{\"endlinecolor\":\"#A2B1C6\",\"gridcolor\":\"#506784\",\"linecolor\":\"#506784\",\"minorgridcolor\":\"#506784\",\"startlinecolor\":\"#A2B1C6\"},\"baxis\":{\"endlinecolor\":\"#A2B1C6\",\"gridcolor\":\"#506784\",\"linecolor\":\"#506784\",\"minorgridcolor\":\"#506784\",\"startlinecolor\":\"#A2B1C6\"},\"type\":\"carpet\"}],\"choropleth\":[{\"colorbar\":{\"outlinewidth\":0,\"ticks\":\"\"},\"type\":\"choropleth\"}],\"contour\":[{\"colorbar\":{\"outlinewidth\":0,\"ticks\":\"\"},\"colorscale\":[[0.0,\"#0d0887\"],[0.1111111111111111,\"#46039f\"],[0.2222222222222222,\"#7201a8\"],[0.3333333333333333,\"#9c179e\"],[0.4444444444444444,\"#bd3786\"],[0.5555555555555556,\"#d8576b\"],[0.6666666666666666,\"#ed7953\"],[0.7777777777777778,\"#fb9f3a\"],[0.8888888888888888,\"#fdca26\"],[1.0,\"#f0f921\"]],\"type\":\"contour\"}],\"contourcarpet\":[{\"colorbar\":{\"outlinewidth\":0,\"ticks\":\"\"},\"type\":\"contourcarpet\"}],\"heatmap\":[{\"colorbar\":{\"outlinewidth\":0,\"ticks\":\"\"},\"colorscale\":[[0.0,\"#0d0887\"],[0.1111111111111111,\"#46039f\"],[0.2222222222222222,\"#7201a8\"],[0.3333333333333333,\"#9c179e\"],[0.4444444444444444,\"#bd3786\"],[0.5555555555555556,\"#d8576b\"],[0.6666666666666666,\"#ed7953\"],[0.7777777777777778,\"#fb9f3a\"],[0.8888888888888888,\"#fdca26\"],[1.0,\"#f0f921\"]],\"type\":\"heatmap\"}],\"heatmapgl\":[{\"colorbar\":{\"outlinewidth\":0,\"ticks\":\"\"},\"colorscale\":[[0.0,\"#0d0887\"],[0.1111111111111111,\"#46039f\"],[0.2222222222222222,\"#7201a8\"],[0.3333333333333333,\"#9c179e\"],[0.4444444444444444,\"#bd3786\"],[0.5555555555555556,\"#d8576b\"],[0.6666666666666666,\"#ed7953\"],[0.7777777777777778,\"#fb9f3a\"],[0.8888888888888888,\"#fdca26\"],[1.0,\"#f0f921\"]],\"type\":\"heatmapgl\"}],\"histogram\":[{\"marker\":{\"pattern\":{\"fillmode\":\"overlay\",\"size\":10,\"solidity\":0.2}},\"type\":\"histogram\"}],\"histogram2d\":[{\"colorbar\":{\"outlinewidth\":0,\"ticks\":\"\"},\"colorscale\":[[0.0,\"#0d0887\"],[0.1111111111111111,\"#46039f\"],[0.2222222222222222,\"#7201a8\"],[0.3333333333333333,\"#9c179e\"],[0.4444444444444444,\"#bd3786\"],[0.5555555555555556,\"#d8576b\"],[0.6666666666666666,\"#ed7953\"],[0.7777777777777778,\"#fb9f3a\"],[0.8888888888888888,\"#fdca26\"],[1.0,\"#f0f921\"]],\"type\":\"histogram2d\"}],\"histogram2dcontour\":[{\"colorbar\":{\"outlinewidth\":0,\"ticks\":\"\"},\"colorscale\":[[0.0,\"#0d0887\"],[0.1111111111111111,\"#46039f\"],[0.2222222222222222,\"#7201a8\"],[0.3333333333333333,\"#9c179e\"],[0.4444444444444444,\"#bd3786\"],[0.5555555555555556,\"#d8576b\"],[0.6666666666666666,\"#ed7953\"],[0.7777777777777778,\"#fb9f3a\"],[0.8888888888888888,\"#fdca26\"],[1.0,\"#f0f921\"]],\"type\":\"histogram2dcontour\"}],\"mesh3d\":[{\"colorbar\":{\"outlinewidth\":0,\"ticks\":\"\"},\"type\":\"mesh3d\"}],\"parcoords\":[{\"line\":{\"colorbar\":{\"outlinewidth\":0,\"ticks\":\"\"}},\"type\":\"parcoords\"}],\"pie\":[{\"automargin\":true,\"type\":\"pie\"}],\"scatter\":[{\"marker\":{\"line\":{\"color\":\"#283442\"}},\"type\":\"scatter\"}],\"scatter3d\":[{\"line\":{\"colorbar\":{\"outlinewidth\":0,\"ticks\":\"\"}},\"marker\":{\"colorbar\":{\"outlinewidth\":0,\"ticks\":\"\"}},\"type\":\"scatter3d\"}],\"scattercarpet\":[{\"marker\":{\"colorbar\":{\"outlinewidth\":0,\"ticks\":\"\"}},\"type\":\"scattercarpet\"}],\"scattergeo\":[{\"marker\":{\"colorbar\":{\"outlinewidth\":0,\"ticks\":\"\"}},\"type\":\"scattergeo\"}],\"scattergl\":[{\"marker\":{\"line\":{\"color\":\"#283442\"}},\"type\":\"scattergl\"}],\"scattermapbox\":[{\"marker\":{\"colorbar\":{\"outlinewidth\":0,\"ticks\":\"\"}},\"type\":\"scattermapbox\"}],\"scatterpolar\":[{\"marker\":{\"colorbar\":{\"outlinewidth\":0,\"ticks\":\"\"}},\"type\":\"scatterpolar\"}],\"scatterpolargl\":[{\"marker\":{\"colorbar\":{\"outlinewidth\":0,\"ticks\":\"\"}},\"type\":\"scatterpolargl\"}],\"scatterternary\":[{\"marker\":{\"colorbar\":{\"outlinewidth\":0,\"ticks\":\"\"}},\"type\":\"scatterternary\"}],\"surface\":[{\"colorbar\":{\"outlinewidth\":0,\"ticks\":\"\"},\"colorscale\":[[0.0,\"#0d0887\"],[0.1111111111111111,\"#46039f\"],[0.2222222222222222,\"#7201a8\"],[0.3333333333333333,\"#9c179e\"],[0.4444444444444444,\"#bd3786\"],[0.5555555555555556,\"#d8576b\"],[0.6666666666666666,\"#ed7953\"],[0.7777777777777778,\"#fb9f3a\"],[0.8888888888888888,\"#fdca26\"],[1.0,\"#f0f921\"]],\"type\":\"surface\"}],\"table\":[{\"cells\":{\"fill\":{\"color\":\"#506784\"},\"line\":{\"color\":\"rgb(17,17,17)\"}},\"header\":{\"fill\":{\"color\":\"#2a3f5f\"},\"line\":{\"color\":\"rgb(17,17,17)\"}},\"type\":\"table\"}]},\"layout\":{\"annotationdefaults\":{\"arrowcolor\":\"#f2f5fa\",\"arrowhead\":0,\"arrowwidth\":1},\"autotypenumbers\":\"strict\",\"coloraxis\":{\"colorbar\":{\"outlinewidth\":0,\"ticks\":\"\"}},\"colorscale\":{\"diverging\":[[0,\"#8e0152\"],[0.1,\"#c51b7d\"],[0.2,\"#de77ae\"],[0.3,\"#f1b6da\"],[0.4,\"#fde0ef\"],[0.5,\"#f7f7f7\"],[0.6,\"#e6f5d0\"],[0.7,\"#b8e186\"],[0.8,\"#7fbc41\"],[0.9,\"#4d9221\"],[1,\"#276419\"]],\"sequential\":[[0.0,\"#0d0887\"],[0.1111111111111111,\"#46039f\"],[0.2222222222222222,\"#7201a8\"],[0.3333333333333333,\"#9c179e\"],[0.4444444444444444,\"#bd3786\"],[0.5555555555555556,\"#d8576b\"],[0.6666666666666666,\"#ed7953\"],[0.7777777777777778,\"#fb9f3a\"],[0.8888888888888888,\"#fdca26\"],[1.0,\"#f0f921\"]],\"sequentialminus\":[[0.0,\"#0d0887\"],[0.1111111111111111,\"#46039f\"],[0.2222222222222222,\"#7201a8\"],[0.3333333333333333,\"#9c179e\"],[0.4444444444444444,\"#bd3786\"],[0.5555555555555556,\"#d8576b\"],[0.6666666666666666,\"#ed7953\"],[0.7777777777777778,\"#fb9f3a\"],[0.8888888888888888,\"#fdca26\"],[1.0,\"#f0f921\"]]},\"colorway\":[\"#636efa\",\"#EF553B\",\"#00cc96\",\"#ab63fa\",\"#FFA15A\",\"#19d3f3\",\"#FF6692\",\"#B6E880\",\"#FF97FF\",\"#FECB52\"],\"font\":{\"color\":\"#f2f5fa\"},\"geo\":{\"bgcolor\":\"rgb(17,17,17)\",\"lakecolor\":\"rgb(17,17,17)\",\"landcolor\":\"rgb(17,17,17)\",\"showlakes\":true,\"showland\":true,\"subunitcolor\":\"#506784\"},\"hoverlabel\":{\"align\":\"left\"},\"hovermode\":\"closest\",\"mapbox\":{\"style\":\"dark\"},\"paper_bgcolor\":\"rgb(17,17,17)\",\"plot_bgcolor\":\"rgb(17,17,17)\",\"polar\":{\"angularaxis\":{\"gridcolor\":\"#506784\",\"linecolor\":\"#506784\",\"ticks\":\"\"},\"bgcolor\":\"rgb(17,17,17)\",\"radialaxis\":{\"gridcolor\":\"#506784\",\"linecolor\":\"#506784\",\"ticks\":\"\"}},\"scene\":{\"xaxis\":{\"backgroundcolor\":\"rgb(17,17,17)\",\"gridcolor\":\"#506784\",\"gridwidth\":2,\"linecolor\":\"#506784\",\"showbackground\":true,\"ticks\":\"\",\"zerolinecolor\":\"#C8D4E3\"},\"yaxis\":{\"backgroundcolor\":\"rgb(17,17,17)\",\"gridcolor\":\"#506784\",\"gridwidth\":2,\"linecolor\":\"#506784\",\"showbackground\":true,\"ticks\":\"\",\"zerolinecolor\":\"#C8D4E3\"},\"zaxis\":{\"backgroundcolor\":\"rgb(17,17,17)\",\"gridcolor\":\"#506784\",\"gridwidth\":2,\"linecolor\":\"#506784\",\"showbackground\":true,\"ticks\":\"\",\"zerolinecolor\":\"#C8D4E3\"}},\"shapedefaults\":{\"line\":{\"color\":\"#f2f5fa\"}},\"sliderdefaults\":{\"bgcolor\":\"#C8D4E3\",\"bordercolor\":\"rgb(17,17,17)\",\"borderwidth\":1,\"tickwidth\":0},\"ternary\":{\"aaxis\":{\"gridcolor\":\"#506784\",\"linecolor\":\"#506784\",\"ticks\":\"\"},\"baxis\":{\"gridcolor\":\"#506784\",\"linecolor\":\"#506784\",\"ticks\":\"\"},\"bgcolor\":\"rgb(17,17,17)\",\"caxis\":{\"gridcolor\":\"#506784\",\"linecolor\":\"#506784\",\"ticks\":\"\"}},\"title\":{\"x\":0.05},\"updatemenudefaults\":{\"bgcolor\":\"#506784\",\"borderwidth\":0},\"xaxis\":{\"automargin\":true,\"gridcolor\":\"#283442\",\"linecolor\":\"#506784\",\"ticks\":\"\",\"title\":{\"standoff\":15},\"zerolinecolor\":\"#283442\",\"zerolinewidth\":2},\"yaxis\":{\"automargin\":true,\"gridcolor\":\"#283442\",\"linecolor\":\"#506784\",\"ticks\":\"\",\"title\":{\"standoff\":15},\"zerolinecolor\":\"#283442\",\"zerolinewidth\":2}}},\"xaxis\":{\"anchor\":\"y\",\"domain\":[0.0,1.0]},\"yaxis\":{\"anchor\":\"x\",\"domain\":[0.0,1.0]},\"width\":800},                        {\"responsive\": true}                    ).then(function(){\n",
              "                            \n",
              "var gd = document.getElementById('62b6c460-d03a-4490-9099-a8c6d03f2929');\n",
              "var x = new MutationObserver(function (mutations, observer) {{\n",
              "        var display = window.getComputedStyle(gd).display;\n",
              "        if (!display || display === 'none') {{\n",
              "            console.log([gd, 'removed!']);\n",
              "            Plotly.purge(gd);\n",
              "            observer.disconnect();\n",
              "        }}\n",
              "}});\n",
              "\n",
              "// Listen for the removal of the full notebook cells\n",
              "var notebookContainer = gd.closest('#notebook-container');\n",
              "if (notebookContainer) {{\n",
              "    x.observe(notebookContainer, {childList: true});\n",
              "}}\n",
              "\n",
              "// Listen for the clearing of the current output cell\n",
              "var outputEl = gd.closest('.output');\n",
              "if (outputEl) {{\n",
              "    x.observe(outputEl, {childList: true});\n",
              "}}\n",
              "\n",
              "                        })                };                            </script>        </div>\n",
              "</body>\n",
              "</html>"
            ]
          },
          "metadata": {}
        }
      ]
    },
    {
      "cell_type": "code",
      "source": [],
      "metadata": {
        "id": "PgnJjn7LeZyP"
      },
      "execution_count": null,
      "outputs": []
    }
  ]
}