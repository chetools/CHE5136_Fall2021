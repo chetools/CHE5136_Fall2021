{
  "nbformat": 4,
  "nbformat_minor": 0,
  "metadata": {
    "kernelspec": {
      "display_name": "Python 3",
      "language": "python",
      "name": "python3"
    },
    "language_info": {
      "codemirror_mode": {
        "name": "ipython",
        "version": 2
      },
      "file_extension": ".py",
      "mimetype": "text/x-python",
      "name": "python",
      "nbconvert_exporter": "python",
      "pygments_lexer": "ipython2",
      "version": "2.7.6"
    },
    "colab": {
      "name": "Demo_AdiabaticFlash.ipynb",
      "provenance": [],
      "include_colab_link": true
    }
  },
  "cells": [
    {
      "cell_type": "markdown",
      "metadata": {
        "id": "view-in-github",
        "colab_type": "text"
      },
      "source": [
        "<a href=\"https://colab.research.google.com/github/profteachkids/CHE5136_Fall2021/blob/main/Demo_AdiabaticFlash.ipynb\" target=\"_parent\"><img src=\"https://colab.research.google.com/assets/colab-badge.svg\" alt=\"Open In Colab\"/></a>"
      ]
    },
    {
      "cell_type": "markdown",
      "metadata": {
        "id": "o6cpMVAA9pfN"
      },
      "source": [
        "## Import libraries\n",
        "This section is somewhat intimidating to new users, but modifications are necessary only to access advanced features."
      ]
    },
    {
      "cell_type": "code",
      "metadata": {
        "pycharm": {
          "name": "#%%\n"
        },
        "id": "CiXlQcV0ul0G"
      },
      "source": [
        "!git clone --depth 1 https://github.com/profteachkids/chetools.git &> /dev/null\n",
        "import sys\n",
        "sys.path.insert(1, \"/content/chetools/tools\") #Path to CHE module imports"
      ],
      "execution_count": 1,
      "outputs": []
    },
    {
      "cell_type": "code",
      "metadata": {
        "pycharm": {
          "name": "#%%\n"
        },
        "id": "3Xcv-3GycYZc"
      },
      "source": [
        "import pandas as pd\n",
        "import jax\n",
        "import jax.numpy as jnp\n",
        "from jax.config import config\n",
        "from jax.experimental.host_callback import id_print\n",
        "config.update(\"jax_enable_x64\", True) #JAX default is 32bit single precision\n",
        "\n",
        "from utils.dotmap import DotMap\n",
        "from tree_array_transform2 import VSC, Comp, Range\n",
        "import che"
      ],
      "execution_count": 2,
      "outputs": []
    },
    {
      "cell_type": "markdown",
      "metadata": {
        "id": "W9jA7D-b-WcP",
        "pycharm": {
          "name": "#%% md\n"
        }
      },
      "source": [
        "## Dot-access to chemical properties and calculations\n",
        "ChemCAD data properties and binary interaction parameters can be exported as text files.  A few common chemicals are stored in a Github repository.  Users with ChemCad access can export and access their own data files.  The *che.Props* class parses these files for convenient dot-access and implementations of common calculations."
      ]
    },
    {
      "cell_type": "code",
      "metadata": {
        "pycharm": {
          "name": "#%%\n"
        },
        "id": "Wjacie-aul0U",
        "outputId": "ea16b59a-dd19-4e91-c81a-1448384469af",
        "colab": {
          "base_uri": "https://localhost:8080/"
        }
      },
      "source": [
        "p = che.Props(['Ethanol','Isopropanol', 'Water'])"
      ],
      "execution_count": 3,
      "outputs": [
        {
          "output_type": "stream",
          "name": "stderr",
          "text": [
            "WARNING:absl:No GPU/TPU found, falling back to CPU. (Set TF_CPP_MIN_LOG_LEVEL=0 and rerun for more info.)\n"
          ]
        }
      ]
    },
    {
      "cell_type": "code",
      "metadata": {
        "id": "I-R-T5ALAEIH",
        "outputId": "bb616539-857b-44d4-8ad7-02075d4a5cd6",
        "colab": {
          "base_uri": "https://localhost:8080/"
        }
      },
      "source": [
        "print(f'Tc: {p.Tc}')\n",
        "print(f'Pc: {p.Tc}')\n",
        "print(f'Vapor Pressure at 432.1 K {p.Pvap(432.1)} Pa')\n",
        "print(f'NRTL activity coefficients for equimolar mixture {p.NRTL_gamma([1/3,1/3,1/3], 300)} ')"
      ],
      "execution_count": 4,
      "outputs": [
        {
          "output_type": "stream",
          "name": "stdout",
          "text": [
            "Tc: [513.92 508.31 647.35]\n",
            "Pc: [513.92 508.31 647.35]\n",
            "Vapor Pressure at 432.1 K [1220670.06610508 1069634.05615236  600793.6517417 ] Pa\n",
            "NRTL activity coefficients for equimolar mixture [1.02524645 1.13185085 2.06442906] \n"
          ]
        }
      ]
    },
    {
      "cell_type": "markdown",
      "metadata": {
        "id": "vMg5Zj-dCPmz",
        "pycharm": {
          "name": "#%% md\n"
        }
      },
      "source": [
        "## Adiabatic Flash Calculation\n",
        "Model mass/energy balance and VLE - all variables (knowns and unknowns) are in a convenient DotMap structure (c).  The model is written once.\n",
        "\n",
        "Sum up weighted square deviations for minimization.\n",
        " "
      ]
    },
    {
      "cell_type": "code",
      "metadata": {
        "pycharm": {
          "name": "#%%\n"
        },
        "id": "DzvIFEmsqJ87"
      },
      "source": [
        "def model(c):\n",
        "    # c: combination of adjustable variables and static state parameters\n",
        "    # r: DotMap - store intermediate results for reporting\n",
        "    r=DotMap()\n",
        "    r.V = c.Vy * c.Vtot # Moles of each component = mole fractions * total moles\n",
        "    r.L = c.Lx * c.Ltot\n",
        "    r.F = c.Fz * c.Ftot\n",
        "    mass_balance = r.F - r.V - r.L # Mass balance for each component (vectors!)\n",
        "\n",
        "    # Hmix calculates the enthalpy given the temperature and moles of each\n",
        "    # component in the vapor and liquid phases\n",
        "    r.FH = p.Hl(nL=r.F, T=c.FT)\n",
        "    r.VH = p.Hv(nV=r.V, T=c.flashT)\n",
        "    r.LH = p.Hl(nL=r.L, T=c.flashT)\n",
        "    energy_balance = (r.FH - r.VH - r.LH)\n",
        "\n",
        "    # Raoults with NRTL activity coefficient correction.  One-liner!\n",
        "    r.fugL = c.Lx  * p.NRTL_gamma(c.Lx,c.flashT)* p.Pvap(c.flashT)\n",
        "    r.fugV = c.Vy*c.flashP\n",
        "    VLE = r.fugL - r.fugV\n",
        "    id_print([mass_balance, energy_balance, VLE])\n",
        "    return [mass_balance, energy_balance, VLE], r"
      ],
      "execution_count": 5,
      "outputs": []
    },
    {
      "cell_type": "markdown",
      "metadata": {
        "id": "-mgmDN7IF3Cx",
        "pycharm": {
          "name": "#%% md\n"
        }
      },
      "source": [
        "## What's known (static) and unknown (variable) - automatically combined and tracked.\n",
        "\n",
        "What's known and unknown can be easily swapped around without having to modify the model.  The DotMap structures can have nested lists of DotMaps with nested lists of arrays, and so forth."
      ]
    },
    {
      "cell_type": "code",
      "metadata": {
        "pycharm": {
          "name": "#%%\n"
        },
        "id": "s1Krs9e2qJ8_"
      },
      "source": [
        "# Static parameters (Total feed, feed mole fractions, feed temperature and )\n",
        "c=DotMap()\n",
        "c.Ftot=10 # Total Feed moles\n",
        "c.Fz = jnp.array([1/3, 1/3, 1/3]) # Equimolar feed composition\n",
        "c.FT = 450 # Feed temperature\n",
        "c.flashP= 101325 # Flash drum pressure\n",
        "\n",
        "c.Vy = Comp(c.Fz) # Guess vapor/liquid composition equal to feed\n",
        "c.Lx = Comp(c.Fz) # Comp - constrains mole fractions to behave like mole fractions!\n",
        "c.flashT = Range(360, 273.15, c.FT)  # Guess and bounds for flash temperature\n",
        "c.Vtot = Range(c.Ftot/2, 0., c.Ftot)  # Guess half of feed in vapor\n",
        "c.Ltot = Range(c.Ftot/2, 0., c.Ftot)"
      ],
      "execution_count": 25,
      "outputs": []
    },
    {
      "cell_type": "markdown",
      "metadata": {
        "id": "IuEzfh8PIA9b",
        "pycharm": {
          "name": "#%% md\n"
        }
      },
      "source": [
        "## Magic happens here\n",
        "The VSC class combines unknown variables and static parameters into a convenient DotMap structure.  Transformations between known/unknown DotMaps and the flat arrays required by the minimization routine is automated.\n",
        "\n",
        "The minimization algorithm is a robust Trust-Newton Conjugate Gradient coded to take advantage of JAX automatic Jacobian vector products.  \n",
        "\n",
        "The initial JAX model compilation is a bit slow, but subsequent repeat calculations are fast."
      ]
    },
    {
      "cell_type": "code",
      "metadata": {
        "pycharm": {
          "name": "#%%\n"
        },
        "id": "B_qzKOKtul0a",
        "outputId": "647c851a-21be-4527-b914-70672110e7d8",
        "colab": {
          "base_uri": "https://localhost:8080/"
        }
      },
      "source": [
        "vsc=VSC(c, model)\n",
        "vsc.solve(jit=True, verbosity=0)"
      ],
      "execution_count": 7,
      "outputs": [
        {
          "output_type": "stream",
          "name": "stdout",
          "text": [
            "[ [-5.55111512e-17 -5.55111512e-17 -7.77156117e-16]\n",
            "  -48834.08861275\n",
            "  [14479.44772707 11725.37795764  6218.03624225] ]\n",
            "[ [-5.55111512e-17 -5.55111512e-17 -7.77156117e-16]\n",
            "  -48834.08861275\n",
            "  [14479.44772707 11725.37795764  6218.03624225] ]\n",
            "[ [-5.55111512e-17 -5.55111512e-17 -7.77156117e-16]\n",
            "  -48834.08861275\n",
            "  [14479.44772707 11725.37795764  6218.03624225] ]\n",
            "[ [-5.55111512e-17 -5.55111512e-17 -7.77156117e-16]\n",
            "  -48834.08861275\n",
            "  [14479.44772707 11725.37795764  6218.03624225] ]\n",
            "[ [-5.55111512e-17 -5.55111512e-17 -7.77156117e-16]\n",
            "  -48834.08861275\n",
            "  [14479.44772707 11725.37795764  6218.03624225] ]\n",
            "[ [ 0.02868022  0.01402211 -0.04270234]\n",
            "  -323.2227044\n",
            "  [1456.68038042 1117.1461303   570.05309279] ]\n",
            "[ [ 0.02868022  0.01402211 -0.04270234]\n",
            "  -323.2227044\n",
            "  [1456.68038042 1117.1461303   570.05309279] ]\n",
            "[ [-3.92808400e-05  1.40196288e-04 -1.00915448e-04]\n",
            "  -5.04784396\n",
            "  [10.57574702 15.14659454 15.03627412] ]\n",
            "[ [-3.92808400e-05  1.40196288e-04 -1.00915448e-04]\n",
            "  -5.04784396\n",
            "  [10.57574702 15.14659454 15.03627412] ]\n",
            "[ [ 8.65650277e-09  7.93628744e-10 -9.45013229e-09]\n",
            "  -0.00039114\n",
            "  [0.00214156 0.00232198 0.00274686] ]\n",
            "[ [ 8.65650277e-09  7.93628744e-10 -9.45013229e-09]\n",
            "  -0.00039114\n",
            "  [0.00214156 0.00232198 0.00274686] ]\n",
            "[ [ 9.64971953e-16  2.63580728e-16 -4.49822200e-16]\n",
            "  2.32830644e-10\n",
            "  [4.31123886e-11 2.06021847e-10 4.36645958e-10] ]\n",
            "[ [ 6.66133815e-16  0.00000000e+00 -4.44089210e-16]\n",
            "  2.32830644e-10\n",
            "  [4.36557457e-11 2.03726813e-10 4.36557457e-10] ]\n"
          ]
        }
      ]
    },
    {
      "cell_type": "code",
      "metadata": {
        "pycharm": {
          "name": "#%%\n"
        },
        "id": "V_b2kMtcpRTA",
        "outputId": "9a76684b-a76e-4a1e-9f93-9f32190ac825",
        "colab": {
          "base_uri": "https://localhost:8080/",
          "height": 206
        }
      },
      "source": [
        "# State parameters\n",
        "vsc.sdf"
      ],
      "execution_count": 8,
      "outputs": [
        {
          "output_type": "execute_result",
          "data": {
            "text/plain": [
              "          Scalar             Vector3                                        \n",
              "               1                   1                   2                   3\n",
              "Ftot        10.0                                                            \n",
              "Fz                0.3333333333333333  0.3333333333333333  0.3333333333333333\n",
              "FT         450.0                                                            \n",
              "flashP  101325.0                                                            "
            ],
            "text/html": [
              "\n",
              "  <div id=\"df-991c2ba8-6c0e-48f7-89c1-2c36d0446c04\">\n",
              "    <div class=\"colab-df-container\">\n",
              "      <div>\n",
              "<style scoped>\n",
              "    .dataframe tbody tr th:only-of-type {\n",
              "        vertical-align: middle;\n",
              "    }\n",
              "\n",
              "    .dataframe tbody tr th {\n",
              "        vertical-align: top;\n",
              "    }\n",
              "\n",
              "    .dataframe thead tr th {\n",
              "        text-align: left;\n",
              "    }\n",
              "</style>\n",
              "<table border=\"1\" class=\"dataframe\">\n",
              "  <thead>\n",
              "    <tr>\n",
              "      <th></th>\n",
              "      <th>Scalar</th>\n",
              "      <th colspan=\"3\" halign=\"left\">Vector3</th>\n",
              "    </tr>\n",
              "    <tr>\n",
              "      <th></th>\n",
              "      <th>1</th>\n",
              "      <th>1</th>\n",
              "      <th>2</th>\n",
              "      <th>3</th>\n",
              "    </tr>\n",
              "  </thead>\n",
              "  <tbody>\n",
              "    <tr>\n",
              "      <th>Ftot</th>\n",
              "      <td>10.0</td>\n",
              "      <td></td>\n",
              "      <td></td>\n",
              "      <td></td>\n",
              "    </tr>\n",
              "    <tr>\n",
              "      <th>Fz</th>\n",
              "      <td></td>\n",
              "      <td>0.3333333333333333</td>\n",
              "      <td>0.3333333333333333</td>\n",
              "      <td>0.3333333333333333</td>\n",
              "    </tr>\n",
              "    <tr>\n",
              "      <th>FT</th>\n",
              "      <td>450.0</td>\n",
              "      <td></td>\n",
              "      <td></td>\n",
              "      <td></td>\n",
              "    </tr>\n",
              "    <tr>\n",
              "      <th>flashP</th>\n",
              "      <td>101325.0</td>\n",
              "      <td></td>\n",
              "      <td></td>\n",
              "      <td></td>\n",
              "    </tr>\n",
              "  </tbody>\n",
              "</table>\n",
              "</div>\n",
              "      <button class=\"colab-df-convert\" onclick=\"convertToInteractive('df-991c2ba8-6c0e-48f7-89c1-2c36d0446c04')\"\n",
              "              title=\"Convert this dataframe to an interactive table.\"\n",
              "              style=\"display:none;\">\n",
              "        \n",
              "  <svg xmlns=\"http://www.w3.org/2000/svg\" height=\"24px\"viewBox=\"0 0 24 24\"\n",
              "       width=\"24px\">\n",
              "    <path d=\"M0 0h24v24H0V0z\" fill=\"none\"/>\n",
              "    <path d=\"M18.56 5.44l.94 2.06.94-2.06 2.06-.94-2.06-.94-.94-2.06-.94 2.06-2.06.94zm-11 1L8.5 8.5l.94-2.06 2.06-.94-2.06-.94L8.5 2.5l-.94 2.06-2.06.94zm10 10l.94 2.06.94-2.06 2.06-.94-2.06-.94-.94-2.06-.94 2.06-2.06.94z\"/><path d=\"M17.41 7.96l-1.37-1.37c-.4-.4-.92-.59-1.43-.59-.52 0-1.04.2-1.43.59L10.3 9.45l-7.72 7.72c-.78.78-.78 2.05 0 2.83L4 21.41c.39.39.9.59 1.41.59.51 0 1.02-.2 1.41-.59l7.78-7.78 2.81-2.81c.8-.78.8-2.07 0-2.86zM5.41 20L4 18.59l7.72-7.72 1.47 1.35L5.41 20z\"/>\n",
              "  </svg>\n",
              "      </button>\n",
              "      \n",
              "  <style>\n",
              "    .colab-df-container {\n",
              "      display:flex;\n",
              "      flex-wrap:wrap;\n",
              "      gap: 12px;\n",
              "    }\n",
              "\n",
              "    .colab-df-convert {\n",
              "      background-color: #E8F0FE;\n",
              "      border: none;\n",
              "      border-radius: 50%;\n",
              "      cursor: pointer;\n",
              "      display: none;\n",
              "      fill: #1967D2;\n",
              "      height: 32px;\n",
              "      padding: 0 0 0 0;\n",
              "      width: 32px;\n",
              "    }\n",
              "\n",
              "    .colab-df-convert:hover {\n",
              "      background-color: #E2EBFA;\n",
              "      box-shadow: 0px 1px 2px rgba(60, 64, 67, 0.3), 0px 1px 3px 1px rgba(60, 64, 67, 0.15);\n",
              "      fill: #174EA6;\n",
              "    }\n",
              "\n",
              "    [theme=dark] .colab-df-convert {\n",
              "      background-color: #3B4455;\n",
              "      fill: #D2E3FC;\n",
              "    }\n",
              "\n",
              "    [theme=dark] .colab-df-convert:hover {\n",
              "      background-color: #434B5C;\n",
              "      box-shadow: 0px 1px 3px 1px rgba(0, 0, 0, 0.15);\n",
              "      filter: drop-shadow(0px 1px 2px rgba(0, 0, 0, 0.3));\n",
              "      fill: #FFFFFF;\n",
              "    }\n",
              "  </style>\n",
              "\n",
              "      <script>\n",
              "        const buttonEl =\n",
              "          document.querySelector('#df-991c2ba8-6c0e-48f7-89c1-2c36d0446c04 button.colab-df-convert');\n",
              "        buttonEl.style.display =\n",
              "          google.colab.kernel.accessAllowed ? 'block' : 'none';\n",
              "\n",
              "        async function convertToInteractive(key) {\n",
              "          const element = document.querySelector('#df-991c2ba8-6c0e-48f7-89c1-2c36d0446c04');\n",
              "          const dataTable =\n",
              "            await google.colab.kernel.invokeFunction('convertToInteractive',\n",
              "                                                     [key], {});\n",
              "          if (!dataTable) return;\n",
              "\n",
              "          const docLinkHtml = 'Like what you see? Visit the ' +\n",
              "            '<a target=\"_blank\" href=https://colab.research.google.com/notebooks/data_table.ipynb>data table notebook</a>'\n",
              "            + ' to learn more about interactive tables.';\n",
              "          element.innerHTML = '';\n",
              "          dataTable['output_type'] = 'display_data';\n",
              "          await google.colab.output.renderOutput(dataTable, element);\n",
              "          const docLink = document.createElement('div');\n",
              "          docLink.innerHTML = docLinkHtml;\n",
              "          element.appendChild(docLink);\n",
              "        }\n",
              "      </script>\n",
              "    </div>\n",
              "  </div>\n",
              "  "
            ]
          },
          "metadata": {},
          "execution_count": 8
        }
      ]
    },
    {
      "cell_type": "code",
      "metadata": {
        "pycharm": {
          "name": "#%%\n"
        },
        "id": "QtAKhphJpRTD",
        "outputId": "04401c23-9ac8-4a7e-a7d3-a3ed8ed8b33e",
        "colab": {
          "base_uri": "https://localhost:8080/",
          "height": 238
        }
      },
      "source": [
        "# Adjustable Variables\n",
        "vsc.vdf"
      ],
      "execution_count": 9,
      "outputs": [
        {
          "output_type": "execute_result",
          "data": {
            "text/plain": [
              "                    Scalar             Vector3                      \\\n",
              "                         1                   1                   2   \n",
              "Vy                          0.3517097663050413  0.3396212068456546   \n",
              "Lx                          0.3212264685828624   0.329190721200775   \n",
              "flashT  352.85497498826226                                           \n",
              "Vtot     3.971638784232387                                           \n",
              "Ltot     6.028361215767612                                           \n",
              "\n",
              "                            \n",
              "                         3  \n",
              "Vy      0.3086690268493041  \n",
              "Lx      0.3495828102163625  \n",
              "flashT                      \n",
              "Vtot                        \n",
              "Ltot                        "
            ],
            "text/html": [
              "\n",
              "  <div id=\"df-421b0670-4025-46cb-8585-102188ab0178\">\n",
              "    <div class=\"colab-df-container\">\n",
              "      <div>\n",
              "<style scoped>\n",
              "    .dataframe tbody tr th:only-of-type {\n",
              "        vertical-align: middle;\n",
              "    }\n",
              "\n",
              "    .dataframe tbody tr th {\n",
              "        vertical-align: top;\n",
              "    }\n",
              "\n",
              "    .dataframe thead tr th {\n",
              "        text-align: left;\n",
              "    }\n",
              "</style>\n",
              "<table border=\"1\" class=\"dataframe\">\n",
              "  <thead>\n",
              "    <tr>\n",
              "      <th></th>\n",
              "      <th>Scalar</th>\n",
              "      <th colspan=\"3\" halign=\"left\">Vector3</th>\n",
              "    </tr>\n",
              "    <tr>\n",
              "      <th></th>\n",
              "      <th>1</th>\n",
              "      <th>1</th>\n",
              "      <th>2</th>\n",
              "      <th>3</th>\n",
              "    </tr>\n",
              "  </thead>\n",
              "  <tbody>\n",
              "    <tr>\n",
              "      <th>Vy</th>\n",
              "      <td></td>\n",
              "      <td>0.3517097663050413</td>\n",
              "      <td>0.3396212068456546</td>\n",
              "      <td>0.3086690268493041</td>\n",
              "    </tr>\n",
              "    <tr>\n",
              "      <th>Lx</th>\n",
              "      <td></td>\n",
              "      <td>0.3212264685828624</td>\n",
              "      <td>0.329190721200775</td>\n",
              "      <td>0.3495828102163625</td>\n",
              "    </tr>\n",
              "    <tr>\n",
              "      <th>flashT</th>\n",
              "      <td>352.85497498826226</td>\n",
              "      <td></td>\n",
              "      <td></td>\n",
              "      <td></td>\n",
              "    </tr>\n",
              "    <tr>\n",
              "      <th>Vtot</th>\n",
              "      <td>3.971638784232387</td>\n",
              "      <td></td>\n",
              "      <td></td>\n",
              "      <td></td>\n",
              "    </tr>\n",
              "    <tr>\n",
              "      <th>Ltot</th>\n",
              "      <td>6.028361215767612</td>\n",
              "      <td></td>\n",
              "      <td></td>\n",
              "      <td></td>\n",
              "    </tr>\n",
              "  </tbody>\n",
              "</table>\n",
              "</div>\n",
              "      <button class=\"colab-df-convert\" onclick=\"convertToInteractive('df-421b0670-4025-46cb-8585-102188ab0178')\"\n",
              "              title=\"Convert this dataframe to an interactive table.\"\n",
              "              style=\"display:none;\">\n",
              "        \n",
              "  <svg xmlns=\"http://www.w3.org/2000/svg\" height=\"24px\"viewBox=\"0 0 24 24\"\n",
              "       width=\"24px\">\n",
              "    <path d=\"M0 0h24v24H0V0z\" fill=\"none\"/>\n",
              "    <path d=\"M18.56 5.44l.94 2.06.94-2.06 2.06-.94-2.06-.94-.94-2.06-.94 2.06-2.06.94zm-11 1L8.5 8.5l.94-2.06 2.06-.94-2.06-.94L8.5 2.5l-.94 2.06-2.06.94zm10 10l.94 2.06.94-2.06 2.06-.94-2.06-.94-.94-2.06-.94 2.06-2.06.94z\"/><path d=\"M17.41 7.96l-1.37-1.37c-.4-.4-.92-.59-1.43-.59-.52 0-1.04.2-1.43.59L10.3 9.45l-7.72 7.72c-.78.78-.78 2.05 0 2.83L4 21.41c.39.39.9.59 1.41.59.51 0 1.02-.2 1.41-.59l7.78-7.78 2.81-2.81c.8-.78.8-2.07 0-2.86zM5.41 20L4 18.59l7.72-7.72 1.47 1.35L5.41 20z\"/>\n",
              "  </svg>\n",
              "      </button>\n",
              "      \n",
              "  <style>\n",
              "    .colab-df-container {\n",
              "      display:flex;\n",
              "      flex-wrap:wrap;\n",
              "      gap: 12px;\n",
              "    }\n",
              "\n",
              "    .colab-df-convert {\n",
              "      background-color: #E8F0FE;\n",
              "      border: none;\n",
              "      border-radius: 50%;\n",
              "      cursor: pointer;\n",
              "      display: none;\n",
              "      fill: #1967D2;\n",
              "      height: 32px;\n",
              "      padding: 0 0 0 0;\n",
              "      width: 32px;\n",
              "    }\n",
              "\n",
              "    .colab-df-convert:hover {\n",
              "      background-color: #E2EBFA;\n",
              "      box-shadow: 0px 1px 2px rgba(60, 64, 67, 0.3), 0px 1px 3px 1px rgba(60, 64, 67, 0.15);\n",
              "      fill: #174EA6;\n",
              "    }\n",
              "\n",
              "    [theme=dark] .colab-df-convert {\n",
              "      background-color: #3B4455;\n",
              "      fill: #D2E3FC;\n",
              "    }\n",
              "\n",
              "    [theme=dark] .colab-df-convert:hover {\n",
              "      background-color: #434B5C;\n",
              "      box-shadow: 0px 1px 3px 1px rgba(0, 0, 0, 0.15);\n",
              "      filter: drop-shadow(0px 1px 2px rgba(0, 0, 0, 0.3));\n",
              "      fill: #FFFFFF;\n",
              "    }\n",
              "  </style>\n",
              "\n",
              "      <script>\n",
              "        const buttonEl =\n",
              "          document.querySelector('#df-421b0670-4025-46cb-8585-102188ab0178 button.colab-df-convert');\n",
              "        buttonEl.style.display =\n",
              "          google.colab.kernel.accessAllowed ? 'block' : 'none';\n",
              "\n",
              "        async function convertToInteractive(key) {\n",
              "          const element = document.querySelector('#df-421b0670-4025-46cb-8585-102188ab0178');\n",
              "          const dataTable =\n",
              "            await google.colab.kernel.invokeFunction('convertToInteractive',\n",
              "                                                     [key], {});\n",
              "          if (!dataTable) return;\n",
              "\n",
              "          const docLinkHtml = 'Like what you see? Visit the ' +\n",
              "            '<a target=\"_blank\" href=https://colab.research.google.com/notebooks/data_table.ipynb>data table notebook</a>'\n",
              "            + ' to learn more about interactive tables.';\n",
              "          element.innerHTML = '';\n",
              "          dataTable['output_type'] = 'display_data';\n",
              "          await google.colab.output.renderOutput(dataTable, element);\n",
              "          const docLink = document.createElement('div');\n",
              "          docLink.innerHTML = docLinkHtml;\n",
              "          element.appendChild(docLink);\n",
              "        }\n",
              "      </script>\n",
              "    </div>\n",
              "  </div>\n",
              "  "
            ]
          },
          "metadata": {},
          "execution_count": 9
        }
      ]
    },
    {
      "cell_type": "code",
      "metadata": {
        "id": "3JjpMqYzDf_m",
        "outputId": "45a96dae-edd5-4513-a33e-4414d5dc2b5a",
        "colab": {
          "base_uri": "https://localhost:8080/",
          "height": 331
        }
      },
      "source": [
        "# Intermediate results\n",
        "vsc.rdf\n",
        "\n"
      ],
      "execution_count": 10,
      "outputs": [
        {
          "output_type": "execute_result",
          "data": {
            "text/plain": [
              "                  Scalar             Vector3                      \\\n",
              "                       1                   1                   2   \n",
              "V                         1.3968641486504112  1.3488527570560118   \n",
              "L                         1.9364691846829212  1.9844805762773212   \n",
              "F                          3.333333333333333   3.333333333333333   \n",
              "FH    -2707524.043486322                                           \n",
              "VH    -979268.7063295309                                           \n",
              "LH    -1728255.337156791                                           \n",
              "fugL                       35636.99207085835   34412.11878363616   \n",
              "fugV                       35636.99207085831   34412.11878363595   \n",
              "\n",
              "                          \n",
              "                       3  \n",
              "V      1.225921878525964  \n",
              "L     2.1074114548073695  \n",
              "F      3.333333333333333  \n",
              "FH                        \n",
              "VH                        \n",
              "LH                        \n",
              "fugL   31275.88914550617  \n",
              "fugV  31275.889145505735  "
            ],
            "text/html": [
              "\n",
              "  <div id=\"df-8bac02ff-3ee4-4972-b277-d47777678be2\">\n",
              "    <div class=\"colab-df-container\">\n",
              "      <div>\n",
              "<style scoped>\n",
              "    .dataframe tbody tr th:only-of-type {\n",
              "        vertical-align: middle;\n",
              "    }\n",
              "\n",
              "    .dataframe tbody tr th {\n",
              "        vertical-align: top;\n",
              "    }\n",
              "\n",
              "    .dataframe thead tr th {\n",
              "        text-align: left;\n",
              "    }\n",
              "</style>\n",
              "<table border=\"1\" class=\"dataframe\">\n",
              "  <thead>\n",
              "    <tr>\n",
              "      <th></th>\n",
              "      <th>Scalar</th>\n",
              "      <th colspan=\"3\" halign=\"left\">Vector3</th>\n",
              "    </tr>\n",
              "    <tr>\n",
              "      <th></th>\n",
              "      <th>1</th>\n",
              "      <th>1</th>\n",
              "      <th>2</th>\n",
              "      <th>3</th>\n",
              "    </tr>\n",
              "  </thead>\n",
              "  <tbody>\n",
              "    <tr>\n",
              "      <th>V</th>\n",
              "      <td></td>\n",
              "      <td>1.3968641486504112</td>\n",
              "      <td>1.3488527570560118</td>\n",
              "      <td>1.225921878525964</td>\n",
              "    </tr>\n",
              "    <tr>\n",
              "      <th>L</th>\n",
              "      <td></td>\n",
              "      <td>1.9364691846829212</td>\n",
              "      <td>1.9844805762773212</td>\n",
              "      <td>2.1074114548073695</td>\n",
              "    </tr>\n",
              "    <tr>\n",
              "      <th>F</th>\n",
              "      <td></td>\n",
              "      <td>3.333333333333333</td>\n",
              "      <td>3.333333333333333</td>\n",
              "      <td>3.333333333333333</td>\n",
              "    </tr>\n",
              "    <tr>\n",
              "      <th>FH</th>\n",
              "      <td>-2707524.043486322</td>\n",
              "      <td></td>\n",
              "      <td></td>\n",
              "      <td></td>\n",
              "    </tr>\n",
              "    <tr>\n",
              "      <th>VH</th>\n",
              "      <td>-979268.7063295309</td>\n",
              "      <td></td>\n",
              "      <td></td>\n",
              "      <td></td>\n",
              "    </tr>\n",
              "    <tr>\n",
              "      <th>LH</th>\n",
              "      <td>-1728255.337156791</td>\n",
              "      <td></td>\n",
              "      <td></td>\n",
              "      <td></td>\n",
              "    </tr>\n",
              "    <tr>\n",
              "      <th>fugL</th>\n",
              "      <td></td>\n",
              "      <td>35636.99207085835</td>\n",
              "      <td>34412.11878363616</td>\n",
              "      <td>31275.88914550617</td>\n",
              "    </tr>\n",
              "    <tr>\n",
              "      <th>fugV</th>\n",
              "      <td></td>\n",
              "      <td>35636.99207085831</td>\n",
              "      <td>34412.11878363595</td>\n",
              "      <td>31275.889145505735</td>\n",
              "    </tr>\n",
              "  </tbody>\n",
              "</table>\n",
              "</div>\n",
              "      <button class=\"colab-df-convert\" onclick=\"convertToInteractive('df-8bac02ff-3ee4-4972-b277-d47777678be2')\"\n",
              "              title=\"Convert this dataframe to an interactive table.\"\n",
              "              style=\"display:none;\">\n",
              "        \n",
              "  <svg xmlns=\"http://www.w3.org/2000/svg\" height=\"24px\"viewBox=\"0 0 24 24\"\n",
              "       width=\"24px\">\n",
              "    <path d=\"M0 0h24v24H0V0z\" fill=\"none\"/>\n",
              "    <path d=\"M18.56 5.44l.94 2.06.94-2.06 2.06-.94-2.06-.94-.94-2.06-.94 2.06-2.06.94zm-11 1L8.5 8.5l.94-2.06 2.06-.94-2.06-.94L8.5 2.5l-.94 2.06-2.06.94zm10 10l.94 2.06.94-2.06 2.06-.94-2.06-.94-.94-2.06-.94 2.06-2.06.94z\"/><path d=\"M17.41 7.96l-1.37-1.37c-.4-.4-.92-.59-1.43-.59-.52 0-1.04.2-1.43.59L10.3 9.45l-7.72 7.72c-.78.78-.78 2.05 0 2.83L4 21.41c.39.39.9.59 1.41.59.51 0 1.02-.2 1.41-.59l7.78-7.78 2.81-2.81c.8-.78.8-2.07 0-2.86zM5.41 20L4 18.59l7.72-7.72 1.47 1.35L5.41 20z\"/>\n",
              "  </svg>\n",
              "      </button>\n",
              "      \n",
              "  <style>\n",
              "    .colab-df-container {\n",
              "      display:flex;\n",
              "      flex-wrap:wrap;\n",
              "      gap: 12px;\n",
              "    }\n",
              "\n",
              "    .colab-df-convert {\n",
              "      background-color: #E8F0FE;\n",
              "      border: none;\n",
              "      border-radius: 50%;\n",
              "      cursor: pointer;\n",
              "      display: none;\n",
              "      fill: #1967D2;\n",
              "      height: 32px;\n",
              "      padding: 0 0 0 0;\n",
              "      width: 32px;\n",
              "    }\n",
              "\n",
              "    .colab-df-convert:hover {\n",
              "      background-color: #E2EBFA;\n",
              "      box-shadow: 0px 1px 2px rgba(60, 64, 67, 0.3), 0px 1px 3px 1px rgba(60, 64, 67, 0.15);\n",
              "      fill: #174EA6;\n",
              "    }\n",
              "\n",
              "    [theme=dark] .colab-df-convert {\n",
              "      background-color: #3B4455;\n",
              "      fill: #D2E3FC;\n",
              "    }\n",
              "\n",
              "    [theme=dark] .colab-df-convert:hover {\n",
              "      background-color: #434B5C;\n",
              "      box-shadow: 0px 1px 3px 1px rgba(0, 0, 0, 0.15);\n",
              "      filter: drop-shadow(0px 1px 2px rgba(0, 0, 0, 0.3));\n",
              "      fill: #FFFFFF;\n",
              "    }\n",
              "  </style>\n",
              "\n",
              "      <script>\n",
              "        const buttonEl =\n",
              "          document.querySelector('#df-8bac02ff-3ee4-4972-b277-d47777678be2 button.colab-df-convert');\n",
              "        buttonEl.style.display =\n",
              "          google.colab.kernel.accessAllowed ? 'block' : 'none';\n",
              "\n",
              "        async function convertToInteractive(key) {\n",
              "          const element = document.querySelector('#df-8bac02ff-3ee4-4972-b277-d47777678be2');\n",
              "          const dataTable =\n",
              "            await google.colab.kernel.invokeFunction('convertToInteractive',\n",
              "                                                     [key], {});\n",
              "          if (!dataTable) return;\n",
              "\n",
              "          const docLinkHtml = 'Like what you see? Visit the ' +\n",
              "            '<a target=\"_blank\" href=https://colab.research.google.com/notebooks/data_table.ipynb>data table notebook</a>'\n",
              "            + ' to learn more about interactive tables.';\n",
              "          element.innerHTML = '';\n",
              "          dataTable['output_type'] = 'display_data';\n",
              "          await google.colab.output.renderOutput(dataTable, element);\n",
              "          const docLink = document.createElement('div');\n",
              "          docLink.innerHTML = docLinkHtml;\n",
              "          element.appendChild(docLink);\n",
              "        }\n",
              "      </script>\n",
              "    </div>\n",
              "  </div>\n",
              "  "
            ]
          },
          "metadata": {},
          "execution_count": 10
        }
      ]
    },
    {
      "cell_type": "code",
      "metadata": {
        "pycharm": {
          "name": "#%%\n"
        },
        "id": "oSX0NJT1pRTI",
        "outputId": "c151536f-7c84-4ea5-ce46-b6e5d614fc13",
        "colab": {
          "base_uri": "https://localhost:8080/",
          "height": 363
        }
      },
      "source": [
        "vsc.cdf\n"
      ],
      "execution_count": 11,
      "outputs": [
        {
          "output_type": "execute_result",
          "data": {
            "text/plain": [
              "                    Scalar             Vector3                      \\\n",
              "                         1                   1                   2   \n",
              "FT                   450.0                                           \n",
              "Ftot                  10.0                                           \n",
              "Fz                          0.3333333333333333  0.3333333333333333   \n",
              "Ltot     6.028361215767612                                           \n",
              "Lx                          0.3212264685828624   0.329190721200775   \n",
              "Vtot     3.971638784232387                                           \n",
              "Vy                          0.3517097663050413  0.3396212068456546   \n",
              "flashP            101325.0                                           \n",
              "flashT  352.85497498826226                                           \n",
              "\n",
              "                            \n",
              "                         3  \n",
              "FT                          \n",
              "Ftot                        \n",
              "Fz      0.3333333333333333  \n",
              "Ltot                        \n",
              "Lx      0.3495828102163625  \n",
              "Vtot                        \n",
              "Vy      0.3086690268493041  \n",
              "flashP                      \n",
              "flashT                      "
            ],
            "text/html": [
              "\n",
              "  <div id=\"df-bf2de61e-4130-46cc-9f48-9894321768ff\">\n",
              "    <div class=\"colab-df-container\">\n",
              "      <div>\n",
              "<style scoped>\n",
              "    .dataframe tbody tr th:only-of-type {\n",
              "        vertical-align: middle;\n",
              "    }\n",
              "\n",
              "    .dataframe tbody tr th {\n",
              "        vertical-align: top;\n",
              "    }\n",
              "\n",
              "    .dataframe thead tr th {\n",
              "        text-align: left;\n",
              "    }\n",
              "</style>\n",
              "<table border=\"1\" class=\"dataframe\">\n",
              "  <thead>\n",
              "    <tr>\n",
              "      <th></th>\n",
              "      <th>Scalar</th>\n",
              "      <th colspan=\"3\" halign=\"left\">Vector3</th>\n",
              "    </tr>\n",
              "    <tr>\n",
              "      <th></th>\n",
              "      <th>1</th>\n",
              "      <th>1</th>\n",
              "      <th>2</th>\n",
              "      <th>3</th>\n",
              "    </tr>\n",
              "  </thead>\n",
              "  <tbody>\n",
              "    <tr>\n",
              "      <th>FT</th>\n",
              "      <td>450.0</td>\n",
              "      <td></td>\n",
              "      <td></td>\n",
              "      <td></td>\n",
              "    </tr>\n",
              "    <tr>\n",
              "      <th>Ftot</th>\n",
              "      <td>10.0</td>\n",
              "      <td></td>\n",
              "      <td></td>\n",
              "      <td></td>\n",
              "    </tr>\n",
              "    <tr>\n",
              "      <th>Fz</th>\n",
              "      <td></td>\n",
              "      <td>0.3333333333333333</td>\n",
              "      <td>0.3333333333333333</td>\n",
              "      <td>0.3333333333333333</td>\n",
              "    </tr>\n",
              "    <tr>\n",
              "      <th>Ltot</th>\n",
              "      <td>6.028361215767612</td>\n",
              "      <td></td>\n",
              "      <td></td>\n",
              "      <td></td>\n",
              "    </tr>\n",
              "    <tr>\n",
              "      <th>Lx</th>\n",
              "      <td></td>\n",
              "      <td>0.3212264685828624</td>\n",
              "      <td>0.329190721200775</td>\n",
              "      <td>0.3495828102163625</td>\n",
              "    </tr>\n",
              "    <tr>\n",
              "      <th>Vtot</th>\n",
              "      <td>3.971638784232387</td>\n",
              "      <td></td>\n",
              "      <td></td>\n",
              "      <td></td>\n",
              "    </tr>\n",
              "    <tr>\n",
              "      <th>Vy</th>\n",
              "      <td></td>\n",
              "      <td>0.3517097663050413</td>\n",
              "      <td>0.3396212068456546</td>\n",
              "      <td>0.3086690268493041</td>\n",
              "    </tr>\n",
              "    <tr>\n",
              "      <th>flashP</th>\n",
              "      <td>101325.0</td>\n",
              "      <td></td>\n",
              "      <td></td>\n",
              "      <td></td>\n",
              "    </tr>\n",
              "    <tr>\n",
              "      <th>flashT</th>\n",
              "      <td>352.85497498826226</td>\n",
              "      <td></td>\n",
              "      <td></td>\n",
              "      <td></td>\n",
              "    </tr>\n",
              "  </tbody>\n",
              "</table>\n",
              "</div>\n",
              "      <button class=\"colab-df-convert\" onclick=\"convertToInteractive('df-bf2de61e-4130-46cc-9f48-9894321768ff')\"\n",
              "              title=\"Convert this dataframe to an interactive table.\"\n",
              "              style=\"display:none;\">\n",
              "        \n",
              "  <svg xmlns=\"http://www.w3.org/2000/svg\" height=\"24px\"viewBox=\"0 0 24 24\"\n",
              "       width=\"24px\">\n",
              "    <path d=\"M0 0h24v24H0V0z\" fill=\"none\"/>\n",
              "    <path d=\"M18.56 5.44l.94 2.06.94-2.06 2.06-.94-2.06-.94-.94-2.06-.94 2.06-2.06.94zm-11 1L8.5 8.5l.94-2.06 2.06-.94-2.06-.94L8.5 2.5l-.94 2.06-2.06.94zm10 10l.94 2.06.94-2.06 2.06-.94-2.06-.94-.94-2.06-.94 2.06-2.06.94z\"/><path d=\"M17.41 7.96l-1.37-1.37c-.4-.4-.92-.59-1.43-.59-.52 0-1.04.2-1.43.59L10.3 9.45l-7.72 7.72c-.78.78-.78 2.05 0 2.83L4 21.41c.39.39.9.59 1.41.59.51 0 1.02-.2 1.41-.59l7.78-7.78 2.81-2.81c.8-.78.8-2.07 0-2.86zM5.41 20L4 18.59l7.72-7.72 1.47 1.35L5.41 20z\"/>\n",
              "  </svg>\n",
              "      </button>\n",
              "      \n",
              "  <style>\n",
              "    .colab-df-container {\n",
              "      display:flex;\n",
              "      flex-wrap:wrap;\n",
              "      gap: 12px;\n",
              "    }\n",
              "\n",
              "    .colab-df-convert {\n",
              "      background-color: #E8F0FE;\n",
              "      border: none;\n",
              "      border-radius: 50%;\n",
              "      cursor: pointer;\n",
              "      display: none;\n",
              "      fill: #1967D2;\n",
              "      height: 32px;\n",
              "      padding: 0 0 0 0;\n",
              "      width: 32px;\n",
              "    }\n",
              "\n",
              "    .colab-df-convert:hover {\n",
              "      background-color: #E2EBFA;\n",
              "      box-shadow: 0px 1px 2px rgba(60, 64, 67, 0.3), 0px 1px 3px 1px rgba(60, 64, 67, 0.15);\n",
              "      fill: #174EA6;\n",
              "    }\n",
              "\n",
              "    [theme=dark] .colab-df-convert {\n",
              "      background-color: #3B4455;\n",
              "      fill: #D2E3FC;\n",
              "    }\n",
              "\n",
              "    [theme=dark] .colab-df-convert:hover {\n",
              "      background-color: #434B5C;\n",
              "      box-shadow: 0px 1px 3px 1px rgba(0, 0, 0, 0.15);\n",
              "      filter: drop-shadow(0px 1px 2px rgba(0, 0, 0, 0.3));\n",
              "      fill: #FFFFFF;\n",
              "    }\n",
              "  </style>\n",
              "\n",
              "      <script>\n",
              "        const buttonEl =\n",
              "          document.querySelector('#df-bf2de61e-4130-46cc-9f48-9894321768ff button.colab-df-convert');\n",
              "        buttonEl.style.display =\n",
              "          google.colab.kernel.accessAllowed ? 'block' : 'none';\n",
              "\n",
              "        async function convertToInteractive(key) {\n",
              "          const element = document.querySelector('#df-bf2de61e-4130-46cc-9f48-9894321768ff');\n",
              "          const dataTable =\n",
              "            await google.colab.kernel.invokeFunction('convertToInteractive',\n",
              "                                                     [key], {});\n",
              "          if (!dataTable) return;\n",
              "\n",
              "          const docLinkHtml = 'Like what you see? Visit the ' +\n",
              "            '<a target=\"_blank\" href=https://colab.research.google.com/notebooks/data_table.ipynb>data table notebook</a>'\n",
              "            + ' to learn more about interactive tables.';\n",
              "          element.innerHTML = '';\n",
              "          dataTable['output_type'] = 'display_data';\n",
              "          await google.colab.output.renderOutput(dataTable, element);\n",
              "          const docLink = document.createElement('div');\n",
              "          docLink.innerHTML = docLinkHtml;\n",
              "          element.appendChild(docLink);\n",
              "        }\n",
              "      </script>\n",
              "    </div>\n",
              "  </div>\n",
              "  "
            ]
          },
          "metadata": {},
          "execution_count": 11
        }
      ]
    },
    {
      "cell_type": "code",
      "metadata": {
        "pycharm": {
          "name": "#%%\n"
        },
        "id": "1dQXIQTNhzYc",
        "outputId": "c861485d-f606-433b-f6a1-cf5a40e4c5c3",
        "colab": {
          "base_uri": "https://localhost:8080/"
        }
      },
      "source": [
        "vsc.r.FH - vsc.r.VH - vsc.r.LH"
      ],
      "execution_count": 12,
      "outputs": [
        {
          "output_type": "execute_result",
          "data": {
            "text/plain": [
              "DeviceArray(2.32830644e-10, dtype=float64)"
            ]
          },
          "metadata": {},
          "execution_count": 12
        }
      ]
    },
    {
      "cell_type": "code",
      "metadata": {
        "pycharm": {
          "name": "#%%\n"
        },
        "id": "6KiFPgGCGLWj",
        "outputId": "79ecf326-68cc-4339-b948-049bae778853",
        "colab": {
          "base_uri": "https://localhost:8080/"
        }
      },
      "source": [
        "vsc.r.fugL - vsc.r.fugV"
      ],
      "execution_count": 13,
      "outputs": [
        {
          "output_type": "execute_result",
          "data": {
            "text/plain": [
              "DeviceArray([4.36557457e-11, 2.03726813e-10, 4.36557457e-10], dtype=float64)"
            ]
          },
          "metadata": {},
          "execution_count": 13
        }
      ]
    },
    {
      "cell_type": "code",
      "execution_count": 15,
      "outputs": [
        {
          "output_type": "execute_result",
          "data": {
            "text/plain": [
              "{'FT': 450,\n",
              " 'Ftot': 10,\n",
              " 'Fz': DeviceArray([0.33333333, 0.33333333, 0.33333333], dtype=float64),\n",
              " 'Ltot': 5.0, lo=0.0, diff=10.0,\n",
              " 'Lx': [0.33333333 0.33333333 0.33333333],\n",
              " 'Vtot': 5.0, lo=0.0, diff=10.0,\n",
              " 'Vy': [0.33333333 0.33333333 0.33333333],\n",
              " 'flashP': 101325,\n",
              " 'flashT': 360, lo=273.15, diff=176.85000000000002}"
            ]
          },
          "metadata": {},
          "execution_count": 15
        }
      ],
      "source": [
        "vsc.c"
      ],
      "metadata": {
        "pycharm": {
          "name": "#%%\n"
        },
        "id": "bcsd67on_ssa",
        "outputId": "94303d54-9589-4abb-fe5e-ec42ef3db505",
        "colab": {
          "base_uri": "https://localhost:8080/"
        }
      }
    },
    {
      "cell_type": "code",
      "source": [
        ""
      ],
      "metadata": {
        "id": "Vg123LxaI6O9"
      },
      "execution_count": null,
      "outputs": []
    }
  ]
}