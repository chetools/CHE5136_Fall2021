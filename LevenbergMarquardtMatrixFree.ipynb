{
  "nbformat": 4,
  "nbformat_minor": 0,
  "metadata": {
    "colab": {
      "provenance": [],
      "authorship_tag": "ABX9TyP3WwdXR+U5UTWJBTh7Ih/x",
      "include_colab_link": true
    },
    "kernelspec": {
      "name": "python3",
      "display_name": "Python 3"
    },
    "language_info": {
      "name": "python"
    }
  },
  "cells": [
    {
      "cell_type": "markdown",
      "metadata": {
        "id": "view-in-github",
        "colab_type": "text"
      },
      "source": [
        "<a href=\"https://colab.research.google.com/github/profteachkids/CHE5136_Fall2021/blob/main/LevenbergMarquardtMatrixFree.ipynb\" target=\"_parent\"><img src=\"https://colab.research.google.com/assets/colab-badge.svg\" alt=\"Open In Colab\"/></a>"
      ]
    },
    {
      "cell_type": "code",
      "execution_count": 197,
      "metadata": {
        "id": "IncXLm4E5iZE"
      },
      "outputs": [],
      "source": [
        "import numpy as np\n",
        "from scipy.sparse.linalg import LinearOperator, cg, bicgstab, bicg\n",
        "import jax\n",
        "import jax.numpy as jnp\n",
        "from jax.config import config\n",
        "config.update(\"jax_enable_x64\", True)\n",
        "from functools import partial\n"
      ]
    },
    {
      "cell_type": "code",
      "source": [
        "x_data = np.linspace(0,1,10)\n",
        "y_data = 3*np.sin(5*x_data+1)"
      ],
      "metadata": {
        "id": "ecpdqk1V5oRz"
      },
      "execution_count": 198,
      "outputs": []
    },
    {
      "cell_type": "code",
      "source": [
        "def f(p):\n",
        "    a,b,c = p\n",
        "    return a*jnp.sin(b*x_data+c)"
      ],
      "metadata": {
        "id": "7luvVbSM57ry"
      },
      "execution_count": 214,
      "outputs": []
    },
    {
      "cell_type": "code",
      "source": [
        "x0 = jnp.array([3.,5.0,0.99])\n",
        "v0 = jnp.array([0.5,-0.8,0.2])\n",
        "f(x0)"
      ],
      "metadata": {
        "colab": {
          "base_uri": "https://localhost:8080/"
        },
        "id": "HaZj5nJN6JLq",
        "outputId": "026188b1-e92b-4ef9-b0e8-f9859f9db90b"
      },
      "execution_count": 215,
      "outputs": [
        {
          "output_type": "execute_result",
          "data": {
            "text/plain": [
              "DeviceArray([ 2.50807794,  2.99904441,  2.58794368,  1.39842864,\n",
              "             -0.21171258, -1.75817386, -2.77580304, -2.95851265,\n",
              "             -2.2513464 , -0.86700921], dtype=float64)"
            ]
          },
          "metadata": {},
          "execution_count": 215
        }
      ]
    },
    {
      "cell_type": "code",
      "source": [
        "x1=x0\n",
        "L=10\n",
        "for i in range(10):\n",
        "    print(f'{i:3d} {jnp.linalg.norm(y_data-f(x1)):9.3e}')\n",
        "    J = jax.jacobian(f)(x1)\n",
        "    dx = np.linalg.solve(J.T@J + L*jnp.diag(jnp.diagonal(J.T@J)), J.T@(y_data-f(x1)))\n",
        "    x1=x1+dx"
      ],
      "metadata": {
        "id": "NMTclzYY6MhK",
        "colab": {
          "base_uri": "https://localhost:8080/"
        },
        "outputId": "78fb3e9d-cd7e-4817-e241-ba3fa0fed632"
      },
      "execution_count": 216,
      "outputs": [
        {
          "output_type": "stream",
          "name": "stdout",
          "text": [
            "  0 6.378e-02\n",
            "  1 5.424e-02\n",
            "  2 4.631e-02\n",
            "  3 3.975e-02\n",
            "  4 3.435e-02\n",
            "  5 2.991e-02\n",
            "  6 2.630e-02\n",
            "  7 2.337e-02\n",
            "  8 2.102e-02\n",
            "  9 1.914e-02\n"
          ]
        }
      ]
    },
    {
      "cell_type": "code",
      "source": [
        "def LM(f,x1,y_data):\n",
        "\n",
        "    zeros=jnp.zeros(x1.size)\n",
        "    idx=jnp.arange(x1.size)\n",
        "\n",
        "    def JTf(x):\n",
        "        fval, fvjp = jax.vjp(f,x)\n",
        "        return fvjp(y_data-f(x))[0]\n",
        "\n",
        "    JTf_jit=jax.jit(JTf)\n",
        "\n",
        "    def JTJv(x,v):\n",
        "        Av=(jax.jvp(f,(x,),(v,))[1])\n",
        "        fval, fvjp=jax.vjp(f,x)\n",
        "        return fvjp(Av.T)[0]\n",
        "\n",
        "    JTJv_jit=jax.jit(JTJv)\n",
        "\n",
        "    def JTJ_diag(x,v):\n",
        "        def JTJ_diag_i(i, _):\n",
        "            return i+1, JTJv_jit(x, zeros.at[i].set(v[i]))[i]\n",
        "\n",
        "        return jax.lax.scan(JTJ_diag_i, 0, idx)[1]\n",
        "\n",
        "    JTJ_diag_jit=jax.jit(JTJ_diag)\n",
        "\n",
        "    def LM_LO(x,L):\n",
        "        return LinearOperator((x.size,x.size), matvec=lambda v: JTJv_jit(x,v) + L*JTJ_diag_jit(x,v))\n",
        "\n",
        "    L=0.1\n",
        "    f1=jnp.linalg.norm(y_data-f(x1))\n",
        "    for i in range(500):\n",
        "        LO=LM_LO(x1, L)\n",
        "        dx = bicgstab(LO, JTf_jit(x1), atol=1e-25)[0]\n",
        "        x2=x1+dx\n",
        "        f2=jnp.linalg.norm(y_data-f(x2))\n",
        "        if f2>f1:\n",
        "            L=L*2\n",
        "        else:\n",
        "            L=L/2\n",
        "            x1=x2\n",
        "            f1=f2\n",
        "        print(f'{i:3d} {f2:9.3e} {f1:9.3e} {L:9.3e}')\n",
        "        if f2<1e-25:\n",
        "            break\n",
        "    return x1"
      ],
      "metadata": {
        "id": "Y0fFT5zQA2vS"
      },
      "execution_count": 237,
      "outputs": []
    },
    {
      "cell_type": "code",
      "source": [
        "LM(f,x0,y_data)"
      ],
      "metadata": {
        "colab": {
          "base_uri": "https://localhost:8080/"
        },
        "id": "Nglto8qSB0LT",
        "outputId": "3b959df1-91cd-473e-c853-37979088e8b0"
      },
      "execution_count": 238,
      "outputs": [
        {
          "output_type": "stream",
          "name": "stdout",
          "text": [
            "  0 7.747e-03 7.747e-03 5.000e-02\n",
            "  1 2.180e-03 2.180e-03 2.500e-02\n",
            "  2 3.982e-04 3.982e-04 1.250e-02\n",
            "  3 4.006e-05 4.006e-05 6.250e-03\n",
            "  4 2.122e-06 2.122e-06 3.125e-03\n",
            "  5 5.771e-08 5.771e-08 1.563e-03\n",
            "  6 7.957e-10 7.957e-10 7.813e-04\n",
            "  7 5.524e-12 5.524e-12 3.906e-04\n",
            "  8 1.950e-14 1.950e-14 1.953e-04\n",
            "  9 1.848e-15 1.848e-15 9.766e-05\n",
            " 10 0.000e+00 0.000e+00 4.883e-05\n"
          ]
        },
        {
          "output_type": "execute_result",
          "data": {
            "text/plain": [
              "DeviceArray([3., 5., 1.], dtype=float64)"
            ]
          },
          "metadata": {},
          "execution_count": 238
        }
      ]
    },
    {
      "cell_type": "code",
      "source": [
        "def rosen(x):\n",
        "    return jnp.sum(100.0*(x[1:] - x[:-1]**2.0)**2.0 + (1 - x[:-1])**2.0)\n",
        "\n",
        "rosen_grad=jax.jit(jax.grad(rosen))"
      ],
      "metadata": {
        "id": "PaMBP4bhCpGz"
      },
      "execution_count": 239,
      "outputs": []
    },
    {
      "cell_type": "code",
      "source": [
        "rosen_x0=jnp.full(7,0.7)"
      ],
      "metadata": {
        "id": "6p1PyX3v8Sv9"
      },
      "execution_count": 242,
      "outputs": []
    },
    {
      "cell_type": "code",
      "source": [
        "LM(rosen_grad,rosen_x0,jnp.zeros_like(rosen_x0))"
      ],
      "metadata": {
        "colab": {
          "base_uri": "https://localhost:8080/"
        },
        "id": "kGqd5Qsb8eZN",
        "outputId": "0d65d230-10b3-4495-be31-cf2ae1579e61"
      },
      "execution_count": 243,
      "outputs": [
        {
          "output_type": "stream",
          "name": "stdout",
          "text": [
            "  0 5.986e+01 5.986e+01 5.000e-02\n",
            "  1 5.357e+01 5.357e+01 2.500e-02\n",
            "  2 3.391e+01 3.391e+01 1.250e-02\n",
            "  3 5.838e+00 5.838e+00 6.250e-03\n",
            "  4 1.581e+00 1.581e+00 3.125e-03\n",
            "  5 1.527e+00 1.527e+00 1.563e-03\n",
            "  6 1.512e+00 1.512e+00 7.813e-04\n",
            "  7 1.485e+00 1.485e+00 3.906e-04\n",
            "  8 1.432e+00 1.432e+00 1.953e-04\n",
            "  9 1.339e+00 1.339e+00 9.766e-05\n",
            " 10 1.297e+00 1.297e+00 4.883e-05\n",
            " 11 1.904e+00 1.297e+00 9.766e-05\n",
            " 12 1.131e+00 1.131e+00 4.883e-05\n",
            " 13 1.370e+00 1.131e+00 9.766e-05\n",
            " 14 9.507e-01 9.507e-01 4.883e-05\n",
            " 15 1.031e+00 9.507e-01 9.766e-05\n",
            " 16 8.363e-01 8.363e-01 4.883e-05\n",
            " 17 8.532e-01 8.363e-01 9.766e-05\n",
            " 18 7.617e-01 7.617e-01 4.883e-05\n",
            " 19 7.495e-01 7.495e-01 2.441e-05\n",
            " 20 1.009e+00 7.495e-01 4.883e-05\n",
            " 21 6.371e-01 6.371e-01 2.441e-05\n",
            " 22 7.430e-01 6.371e-01 4.883e-05\n",
            " 23 5.531e-01 5.531e-01 2.441e-05\n",
            " 24 5.976e-01 5.531e-01 4.883e-05\n",
            " 25 4.989e-01 4.989e-01 2.441e-05\n",
            " 26 5.126e-01 4.989e-01 4.883e-05\n",
            " 27 4.594e-01 4.594e-01 2.441e-05\n",
            " 28 4.568e-01 4.568e-01 1.221e-05\n",
            " 29 6.161e-01 4.568e-01 2.441e-05\n",
            " 30 3.889e-01 3.889e-01 1.221e-05\n",
            " 31 4.662e-01 3.889e-01 2.441e-05\n",
            " 32 3.396e-01 3.396e-01 1.221e-05\n",
            " 33 3.788e-01 3.396e-01 2.441e-05\n",
            " 34 3.057e-01 3.057e-01 1.221e-05\n",
            " 35 3.225e-01 3.057e-01 2.441e-05\n",
            " 36 2.798e-01 2.798e-01 1.221e-05\n",
            " 37 2.845e-01 2.798e-01 2.441e-05\n",
            " 38 2.588e-01 2.588e-01 1.221e-05\n",
            " 39 2.563e-01 2.563e-01 6.104e-06\n",
            " 40 3.387e-01 2.563e-01 1.221e-05\n",
            " 41 2.179e-01 2.179e-01 6.104e-06\n",
            " 42 2.625e-01 2.179e-01 1.221e-05\n",
            " 43 1.898e-01 1.898e-01 6.104e-06\n",
            " 44 2.129e-01 1.898e-01 1.221e-05\n",
            " 45 1.691e-01 1.691e-01 6.104e-06\n",
            " 46 1.803e-01 1.691e-01 1.221e-05\n",
            " 47 1.528e-01 1.528e-01 6.104e-06\n",
            " 48 1.563e-01 1.528e-01 1.221e-05\n",
            " 49 1.394e-01 1.394e-01 6.104e-06\n",
            " 50 1.381e-01 1.381e-01 3.052e-06\n",
            " 51 1.794e-01 1.381e-01 6.104e-06\n",
            " 52 1.131e-01 1.131e-01 3.052e-06\n",
            " 53 1.357e-01 1.131e-01 6.104e-06\n",
            " 54 9.528e-02 9.528e-02 3.052e-06\n",
            " 55 1.063e-01 9.528e-02 6.104e-06\n",
            " 56 8.211e-02 8.211e-02 3.052e-06\n",
            " 57 8.574e-02 8.211e-02 6.104e-06\n",
            " 58 7.183e-02 7.183e-02 3.052e-06\n",
            " 59 7.141e-02 7.141e-02 1.526e-06\n",
            " 60 8.660e-02 7.141e-02 3.052e-06\n",
            " 61 5.304e-02 5.304e-02 1.526e-06\n",
            " 62 5.909e-02 5.304e-02 3.052e-06\n",
            " 63 4.121e-02 4.121e-02 1.526e-06\n",
            " 64 4.183e-02 4.121e-02 3.052e-06\n",
            " 65 3.293e-02 3.293e-02 1.526e-06\n",
            " 66 3.117e-02 3.117e-02 7.629e-07\n",
            " 67 2.860e-02 2.860e-02 3.815e-07\n",
            " 68 1.737e-02 1.737e-02 1.907e-07\n",
            " 69 4.739e-03 4.739e-03 9.537e-08\n",
            " 70 4.481e-04 4.481e-04 4.768e-08\n",
            " 71 2.658e-05 2.658e-05 2.384e-08\n",
            " 72 1.089e-06 1.089e-06 1.192e-08\n",
            " 73 2.408e-08 2.408e-08 5.960e-09\n",
            " 74 2.727e-10 2.727e-10 2.980e-09\n",
            " 75 1.559e-12 1.559e-12 1.490e-09\n",
            " 76 9.719e-14 9.719e-14 7.451e-10\n",
            " 77 1.411e-13 9.719e-14 1.490e-09\n",
            " 78 0.000e+00 0.000e+00 7.451e-10\n"
          ]
        },
        {
          "output_type": "execute_result",
          "data": {
            "text/plain": [
              "DeviceArray([1., 1., 1., 1., 1., 1., 1.], dtype=float64)"
            ]
          },
          "metadata": {},
          "execution_count": 243
        }
      ]
    },
    {
      "cell_type": "code",
      "source": [],
      "metadata": {
        "id": "vhB0Xsms8uvF"
      },
      "execution_count": null,
      "outputs": []
    }
  ]
}