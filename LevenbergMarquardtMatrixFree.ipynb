{
  "nbformat": 4,
  "nbformat_minor": 0,
  "metadata": {
    "colab": {
      "provenance": [],
      "authorship_tag": "ABX9TyNxRJQ9xd5MMmv5Lwl4PDne",
      "include_colab_link": true
    },
    "kernelspec": {
      "name": "python3",
      "display_name": "Python 3"
    },
    "language_info": {
      "name": "python"
    }
  },
  "cells": [
    {
      "cell_type": "markdown",
      "metadata": {
        "id": "view-in-github",
        "colab_type": "text"
      },
      "source": [
        "<a href=\"https://colab.research.google.com/github/profteachkids/CHE5136_Fall2021/blob/main/LevenbergMarquardtMatrixFree.ipynb\" target=\"_parent\"><img src=\"https://colab.research.google.com/assets/colab-badge.svg\" alt=\"Open In Colab\"/></a>"
      ]
    },
    {
      "cell_type": "code",
      "execution_count": 1,
      "metadata": {
        "id": "IncXLm4E5iZE"
      },
      "outputs": [],
      "source": [
        "import numpy as np\n",
        "from scipy.sparse.linalg import LinearOperator, cg, bicgstab, bicg\n",
        "import jax\n",
        "import jax.numpy as jnp\n",
        "from jax.config import config\n",
        "config.update(\"jax_enable_x64\", True)\n",
        "from functools import partial\n"
      ]
    },
    {
      "cell_type": "code",
      "source": [
        "x_data = np.linspace(0,1,10)\n",
        "y_data = 3*np.sin(5*x_data+1)"
      ],
      "metadata": {
        "id": "ecpdqk1V5oRz"
      },
      "execution_count": 2,
      "outputs": []
    },
    {
      "cell_type": "code",
      "source": [
        "def f(p):\n",
        "    a,b,c = p\n",
        "    return a*jnp.sin(b*x_data+c)"
      ],
      "metadata": {
        "id": "7luvVbSM57ry"
      },
      "execution_count": 93,
      "outputs": []
    },
    {
      "cell_type": "code",
      "source": [
        "x0 = jnp.array([3.,5.0,0.99])\n",
        "\n",
        "v0 = jnp.array([0.5,-0.8,0.2])\n",
        "f(x0)"
      ],
      "metadata": {
        "colab": {
          "base_uri": "https://localhost:8080/"
        },
        "id": "HaZj5nJN6JLq",
        "outputId": "1a6029e2-3564-42ce-ab88-027eb2a5ea77"
      },
      "execution_count": 94,
      "outputs": [
        {
          "output_type": "execute_result",
          "data": {
            "text/plain": [
              "DeviceArray([ 2.50807794,  2.99904441,  2.58794368,  1.39842864,\n",
              "             -0.21171258, -1.75817386, -2.77580304, -2.95851265,\n",
              "             -2.2513464 , -0.86700921], dtype=float64)"
            ]
          },
          "metadata": {},
          "execution_count": 94
        }
      ]
    },
    {
      "cell_type": "code",
      "source": [
        "x1=x0\n",
        "L=10\n",
        "for i in range(10):\n",
        "    print(f'{i:3d} {jnp.linalg.norm(y_data-f(x1)):9.3e}')\n",
        "    J = jax.jacobian(f)(x1)\n",
        "    dx = np.linalg.solve(J.T@J + L*jnp.diag(jnp.diagonal(J.T@J)), J.T@(y_data-f(x1)))\n",
        "    x1=x1+dx\n",
        "\n",
        "\n",
        "\n"
      ],
      "metadata": {
        "id": "NMTclzYY6MhK",
        "colab": {
          "base_uri": "https://localhost:8080/"
        },
        "outputId": "aef94415-6fa5-4a9f-cac7-2e756de9f8f1"
      },
      "execution_count": 149,
      "outputs": [
        {
          "output_type": "stream",
          "name": "stdout",
          "text": [
            "  0 6.378e-02\n",
            "  1 5.424e-02\n",
            "  2 4.631e-02\n",
            "  3 3.975e-02\n",
            "  4 3.435e-02\n",
            "  5 2.991e-02\n",
            "  6 2.630e-02\n",
            "  7 2.337e-02\n",
            "  8 2.102e-02\n",
            "  9 1.914e-02\n"
          ]
        }
      ]
    },
    {
      "cell_type": "code",
      "source": [
        "def get_JTJ(f,N):\n",
        "\n",
        "    zeros=jnp.zeros(N)\n",
        "    idx=jnp.arange(N)\n",
        "\n",
        "    def JTf(x):\n",
        "        fval, fvjp = jax.vjp(f,x)\n",
        "        return fvjp(y_data-f(x))[0]\n",
        "\n",
        "    def JTJv(x,v):\n",
        "        Av=(jax.jvp(f,(x,),(v,))[1])\n",
        "        fval, fvjp=jax.vjp(f,x)\n",
        "        return fvjp(Av.T)[0]\n",
        "\n",
        "    JTJv_jit=jax.jit(JTJv)\n",
        "    def get_LO(x):\n",
        "        return LinearOperator((x.size,x.size), matvec=lambda v: JTJv_jit(x,v))\n",
        "\n",
        "    def JTJ_diag(x,v):\n",
        "        def JTJ_diag_i(i, _):\n",
        "            return i+1, JTJv_jit(x, zeros.at[i].set(v[i]))[i]\n",
        "\n",
        "        return jax.lax.scan(JTJ_diag_i, 0, idx)[1]\n",
        "\n",
        "    JTJ_diag_jit=jax.jit(JTJ_diag)\n",
        "\n",
        "    def LM_LO(x,L):\n",
        "        return LinearOperator((x.size,x.size), matvec=lambda v: JTJv_jit(x,v) + L*JTJ_diag_jit(x,v))\n",
        "\n",
        "    \n",
        "    \n",
        "    return get_LO, JTJv, JTJ_diag, LM_LO, jax.jit(JTf)"
      ],
      "metadata": {
        "id": "Y0fFT5zQA2vS"
      },
      "execution_count": 172,
      "outputs": []
    },
    {
      "cell_type": "code",
      "source": [
        "L=0.1\n",
        "x1=x0\n",
        "f1=jnp.linalg.norm(y_data-f(x1))\n",
        "N=x1.size\n",
        "print(f1)\n",
        "for i in range(10):\n",
        "    LO=LM_LO(x1, L)\n",
        "    dx = bicgstab(LO, JTf(x1), atol=1e-25)[0]\n",
        "    x2=x1+dx\n",
        "    f2=jnp.linalg.norm(y_data-f(x2))\n",
        "    if f2>f1:\n",
        "        L=L*2\n",
        "    else:\n",
        "        L=L/2\n",
        "        x1=x2\n",
        "        f1=f2\n",
        "    print(f'{i:3d} {f2:9.3e} {f1:9.3e} {L:9.3e}')\n",
        "    if f2<1e-25:\n",
        "        break"
      ],
      "metadata": {
        "colab": {
          "base_uri": "https://localhost:8080/"
        },
        "id": "Nglto8qSB0LT",
        "outputId": "469ca713-6771-4445-ad7c-3b48eef02e87"
      },
      "execution_count": 177,
      "outputs": [
        {
          "output_type": "stream",
          "name": "stdout",
          "text": [
            "0.06378430618993293\n",
            "  0 7.747e-03 7.747e-03 5.000e-02\n",
            "  1 2.180e-03 2.180e-03 2.500e-02\n",
            "  2 3.982e-04 3.982e-04 1.250e-02\n",
            "  3 4.006e-05 4.006e-05 6.250e-03\n",
            "  4 2.122e-06 2.122e-06 3.125e-03\n",
            "  5 5.771e-08 5.771e-08 1.563e-03\n",
            "  6 7.957e-10 7.957e-10 7.813e-04\n",
            "  7 5.524e-12 5.524e-12 3.906e-04\n",
            "  8 1.950e-14 1.950e-14 1.953e-04\n",
            "  9 1.848e-15 1.848e-15 9.766e-05\n"
          ]
        }
      ]
    },
    {
      "cell_type": "code",
      "source": [
        "def f(x):\n",
        "    return 3*jnp.sin(2*x[0]*x[1]+x[2])+ jnp.cos(3*x[1]*x[2])*jnp.exp(1.5*x[2]*x[0])\n",
        "\n",
        "def rosen(x):\n",
        "    return jnp.sum(100.0*(x[1:] - x[:-1]**2.0)**2.0 + (1 - x[:-1])**2.0)"
      ],
      "metadata": {
        "id": "PaMBP4bhCpGz"
      },
      "execution_count": null,
      "outputs": []
    },
    {
      "cell_type": "code",
      "source": [
        "x0=jnp.full(10,0.9)\n",
        "h0=jax.hessian(rosen)(x0)\n",
        "diag=jnp.diag(h0)\n",
        "diag @ x0"
      ],
      "metadata": {
        "colab": {
          "base_uri": "https://localhost:8080/"
        },
        "id": "WPEOlX9o_4sc",
        "outputId": "6e821b07-fcbf-4038-8776-01de57d2ffae"
      },
      "execution_count": null,
      "outputs": [
        {
          "output_type": "execute_result",
          "data": {
            "text/plain": [
              "DeviceArray(6593.4, dtype=float64, weak_type=True)"
            ]
          },
          "metadata": {},
          "execution_count": 217
        }
      ]
    },
    {
      "cell_type": "code",
      "source": [
        "rosen(x0)"
      ],
      "metadata": {
        "colab": {
          "base_uri": "https://localhost:8080/"
        },
        "id": "0Yk4TwNqkxug",
        "outputId": "2ee74265-9857-4e50-e499-c9e18706bf9f"
      },
      "execution_count": null,
      "outputs": [
        {
          "output_type": "execute_result",
          "data": {
            "text/plain": [
              "DeviceArray(7.38, dtype=float64)"
            ]
          },
          "metadata": {},
          "execution_count": 218
        }
      ]
    },
    {
      "cell_type": "code",
      "source": [
        "h0 @ x0"
      ],
      "metadata": {
        "colab": {
          "base_uri": "https://localhost:8080/"
        },
        "id": "uqOnBEmjKKAv",
        "outputId": "15526c41-e17a-4284-8305-685374dc65af"
      },
      "execution_count": null,
      "outputs": [
        {
          "output_type": "execute_result",
          "data": {
            "text/plain": [
              "DeviceArray([ 228.6,   84.6,   84.6,   84.6,   84.6,   84.6,   84.6,\n",
              "               84.6,   84.6, -144. ], dtype=float64, weak_type=True)"
            ]
          },
          "metadata": {},
          "execution_count": 219
        }
      ]
    },
    {
      "cell_type": "code",
      "source": [
        "def get_LM_LO(f, N):\n",
        "    zeros=jnp.zeros(N)\n",
        "    idx=jnp.arange(N)\n",
        "    grad=jax.jit(jax.grad(f))\n",
        "\n",
        "    def hvp(x,v):\n",
        "        return jax.grad(lambda x: jnp.vdot(grad(x), v))(x)\n",
        "\n",
        "    def hvp_diag(x,v):\n",
        "        def hvp_diag_i(carry, i):\n",
        "            return carry+jax.grad(lambda x: jnp.vdot(jax.grad(f)(x), zeros.at[i].set(v[i])))(x)[i], None\n",
        "\n",
        "        return jax.lax.scan(hvp_diag_i, 0, idx)[0]\n",
        "\n",
        "    def LM_LO(x,v,L):\n",
        "        return hvp(x,v) + L*hvp_diag(x,v)\n",
        "\n",
        "    return jax.jit(LM_LO), hvp, hvp_diag"
      ],
      "metadata": {
        "id": "dQQi2mij_9g7"
      },
      "execution_count": null,
      "outputs": []
    },
    {
      "cell_type": "code",
      "source": [
        "LM_LO, hvp, hvp_diag=get_LM_LO(rosen,x0.size)"
      ],
      "metadata": {
        "id": "885WgypVAIyk"
      },
      "execution_count": null,
      "outputs": []
    },
    {
      "cell_type": "code",
      "source": [
        "hvp(x0,x0)"
      ],
      "metadata": {
        "colab": {
          "base_uri": "https://localhost:8080/"
        },
        "id": "JOg5go1hAe57",
        "outputId": "fec0c6ab-03cb-43a2-c851-5fbc099ee8be"
      },
      "execution_count": null,
      "outputs": [
        {
          "output_type": "execute_result",
          "data": {
            "text/plain": [
              "DeviceArray([ 228.6,   84.6,   84.6,   84.6,   84.6,   84.6,   84.6,\n",
              "               84.6,   84.6, -144. ], dtype=float64)"
            ]
          },
          "metadata": {},
          "execution_count": 222
        }
      ]
    },
    {
      "cell_type": "code",
      "source": [
        "hvp_diag(x0,x0)"
      ],
      "metadata": {
        "colab": {
          "base_uri": "https://localhost:8080/"
        },
        "id": "-QVj_fveCKcC",
        "outputId": "c0b8e57a-d150-4ff9-8dce-f67df5bd13d0"
      },
      "execution_count": null,
      "outputs": [
        {
          "output_type": "execute_result",
          "data": {
            "text/plain": [
              "DeviceArray(6593.4, dtype=float64)"
            ]
          },
          "metadata": {},
          "execution_count": 223
        }
      ]
    },
    {
      "cell_type": "code",
      "source": [
        "LM_LO(x0,x0,1)"
      ],
      "metadata": {
        "colab": {
          "base_uri": "https://localhost:8080/"
        },
        "id": "VXMgn8crKhPs",
        "outputId": "5a78edd4-e630-4861-8cd8-b667a90ca4c7"
      },
      "execution_count": null,
      "outputs": [
        {
          "output_type": "execute_result",
          "data": {
            "text/plain": [
              "DeviceArray([6822. , 6678. , 6678. , 6678. , 6678. , 6678. , 6678. ,\n",
              "             6678. , 6678. , 6449.4], dtype=float64)"
            ]
          },
          "metadata": {},
          "execution_count": 224
        }
      ]
    },
    {
      "cell_type": "code",
      "source": [
        "L=1.\n",
        "x1=x0\n",
        "f1=rosen(x1)\n",
        "print(f1)\n",
        "grad=jax.jit(jax.grad(rosen))\n",
        "for i in range(100):\n",
        "    LO=LinearOperator((x1.size,x1.size), matvec=lambda v: LM_LO(x1,v,L))\n",
        "    # LO=LinearOperator((x1.size,x1.size), matvec=lambda v: hvp(x1,v))\n",
        "    dx = bicgstab(LO, -grad(x1), atol=1e-25)[0]\n",
        "    x2=x1+dx\n",
        "    f2=rosen(x2)\n",
        "    if f2>f1:\n",
        "        L=L*2\n",
        "    else:\n",
        "        L=L/2\n",
        "        x1=x2\n",
        "        f1=f2\n",
        "    print(f'{i:3d} {f2:9.3e} {L:9.3e}')\n",
        "    if f2<1e-25:\n",
        "        break\n",
        "   \n",
        "    \n",
        "    "
      ],
      "metadata": {
        "id": "sw1fGMxsLb0k",
        "colab": {
          "base_uri": "https://localhost:8080/"
        },
        "outputId": "03be9966-ce60-480f-a12d-d52feb61fa48"
      },
      "execution_count": null,
      "outputs": [
        {
          "output_type": "stream",
          "name": "stdout",
          "text": [
            "7.379999999999995\n",
            "  0 4.503e+00 5.000e-01\n",
            "  1 3.290e-01 2.500e-01\n",
            "  2 1.173e-01 1.250e-01\n",
            "  3 1.144e-01 6.250e-02\n",
            "  4 1.129e-01 3.125e-02\n",
            "  5 1.100e-01 1.562e-02\n",
            "  6 1.045e-01 7.812e-03\n",
            "  7 9.464e-02 3.906e-03\n",
            "  8 7.832e-02 1.953e-03\n",
            "  9 5.568e-02 9.766e-04\n",
            " 10 3.189e-02 4.883e-04\n",
            " 11 1.414e-02 2.441e-04\n",
            " 12 4.482e-03 1.221e-04\n",
            " 13 8.397e-04 6.104e-05\n",
            " 14 6.428e-05 3.052e-05\n",
            " 15 1.123e-06 1.526e-05\n",
            " 16 3.333e-09 7.629e-06\n",
            " 17 2.377e-12 3.815e-06\n",
            " 18 4.396e-16 1.907e-06\n",
            " 19 2.062e-20 9.537e-07\n",
            " 20 2.435e-25 4.768e-07\n",
            " 21 5.707e-30 2.384e-07\n"
          ]
        }
      ]
    },
    {
      "cell_type": "code",
      "source": [
        "x1"
      ],
      "metadata": {
        "colab": {
          "base_uri": "https://localhost:8080/"
        },
        "id": "idkIHSkPiPEH",
        "outputId": "0335c826-5aee-4f3f-fa5e-bd2880ebdf42"
      },
      "execution_count": null,
      "outputs": [
        {
          "output_type": "execute_result",
          "data": {
            "text/plain": [
              "DeviceArray([1., 1., 1., 1., 1., 1., 1., 1., 1., 1.], dtype=float64)"
            ]
          },
          "metadata": {},
          "execution_count": 226
        }
      ]
    },
    {
      "cell_type": "code",
      "source": [
        "bicgstab(LO, -grad(x0))"
      ],
      "metadata": {
        "colab": {
          "base_uri": "https://localhost:8080/"
        },
        "id": "eBHCARX3iawW",
        "outputId": "3e627437-5c30-4ecb-d099-51d9020d6982"
      },
      "execution_count": null,
      "outputs": [
        {
          "output_type": "execute_result",
          "data": {
            "text/plain": [
              "(array([-0.02821009,  0.02340543,  0.19104967]), 0)"
            ]
          },
          "metadata": {},
          "execution_count": 41
        }
      ]
    },
    {
      "cell_type": "code",
      "source": [],
      "metadata": {
        "id": "cFPhr-sZiglL"
      },
      "execution_count": null,
      "outputs": []
    }
  ]
}