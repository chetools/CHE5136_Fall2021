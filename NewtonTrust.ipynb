{
  "nbformat": 4,
  "nbformat_minor": 0,
  "metadata": {
    "colab": {
      "provenance": [],
      "collapsed_sections": [],
      "authorship_tag": "ABX9TyMgexCIqhIi8m8WwWeDwvbJ",
      "include_colab_link": true
    },
    "kernelspec": {
      "name": "python3",
      "display_name": "Python 3"
    },
    "language_info": {
      "name": "python"
    }
  },
  "cells": [
    {
      "cell_type": "markdown",
      "metadata": {
        "id": "view-in-github",
        "colab_type": "text"
      },
      "source": [
        "<a href=\"https://colab.research.google.com/github/profteachkids/CHE5136_Fall2021/blob/main/NewtonTrust.ipynb\" target=\"_parent\"><img src=\"https://colab.research.google.com/assets/colab-badge.svg\" alt=\"Open In Colab\"/></a>"
      ]
    },
    {
      "cell_type": "code",
      "source": [
        "import jax\n",
        "import jax.numpy as jnp\n",
        "from jax.config import config\n",
        "config.update(\"jax_enable_x64\", True)\n",
        "import numpy as np\n",
        "from functools import partial\n",
        "from scipy.optimize._lsq import common\n",
        "import scipy\n",
        "from scipy.optimize import root,minimize\n",
        "from scipy.sparse.linalg import spsolve, bicgstab, LinearOperator"
      ],
      "metadata": {
        "id": "5Hrw3OIilD4J"
      },
      "execution_count": 1,
      "outputs": []
    },
    {
      "cell_type": "code",
      "source": [
        "def get_J(f):\n",
        "    def J(x,v):\n",
        "        return jax.jvp(f, (x,),(v,))[1]\n",
        "    return jax.jit(J)\n",
        "\n",
        "def get_line_f(func):\n",
        "    def line_f(t,x,dx):\n",
        "        return func(x+t*dx)\n",
        "    return jax.jit(line_f)\n",
        "\n",
        "def getLO(f):\n",
        "    def mv(x,v):\n",
        "        return jax.jvp(f,(x,),(jnp.squeeze(v),))[1]\n",
        "\n",
        "    def rmv(x,v):\n",
        "        return jax.vjp(f,x)[1](v)\n",
        "\n",
        "    jit_mv = jax.jit(mv)\n",
        "    jit_rmv = jax.jit(rmv)\n",
        "\n",
        "    def LO(x):\n",
        "        # return LinearOperator((x.size,x.size), matvec = partial(jit_mv,x), rmatvec=partial(jit_rmv, x))\n",
        "        return LinearOperator((x.size,x.size), matvec = partial(jit_mv,x))\n",
        "\n",
        "    return LO"
      ],
      "metadata": {
        "id": "KBrucEQzoXM_"
      },
      "execution_count": 2,
      "outputs": []
    },
    {
      "cell_type": "code",
      "source": [
        "def get_scaled(f):\n",
        "    def scaled(x,scale):\n",
        "        return jnp.sum((f(x)/scale)**2)\n",
        "\n",
        "    return jax.jit(scaled)"
      ],
      "metadata": {
        "id": "4PRCzCHZl3Wf"
      },
      "execution_count": 315,
      "outputs": []
    },
    {
      "cell_type": "code",
      "execution_count": 348,
      "metadata": {
        "id": "VRAPWDmZk99k"
      },
      "outputs": [],
      "source": [
        "rng=np.random.RandomState(123)\n",
        "N=1000\n",
        "N_offdiagonal = int(3*N)\n",
        "xguess=jnp.asarray(np.random.uniform(size=N))\n",
        "triples = rng.randint(0,N,size=(N_offdiagonal,3))\n",
        "eq = rng.randint(0,N,N_offdiagonal)\n",
        "coeff = rng.uniform(-1,1,size=N)\n",
        "mult = np.c_[1e9*(1+rng.uniform(size=N)),np.ones(N)][np.arange(N),rng.choice([0,1],size=N,p=[0.1,0.9])]\n",
        "\n",
        "def f_orig(x):\n",
        "    x=jnp.asarray(x)+coeff\n",
        "    res=x**2\n",
        "    res=res.at[eq].add(-x[triples[:,0]]*x[triples[:,1]])\n",
        "    return res*mult\n",
        "\n",
        "fsq=get_scaled(f_orig)\n",
        "fsq_grad = jax.jit(jax.grad(fsq))\n",
        "def fsq_hvp(x,scale,v):\n",
        "    return jax.grad(lambda x: jnp.vdot(jax.grad(fsq)(x,scale), v))(x)\n",
        "\n",
        "fsq_hvp_jit=jax.jit(fsq_hvp)\n",
        "\n",
        "def fsq_LO(x, scale):\n",
        "    return LinearOperator((N,N), matvec=lambda v: fsq_hvp_jit(x=x,v=v,scale=scale))"
      ]
    },
    {
      "cell_type": "markdown",
      "source": [
        "## Dog Leg"
      ],
      "metadata": {
        "id": "O3neDRzzuJ5-"
      }
    },
    {
      "cell_type": "code",
      "source": [
        "x1=xguess\n",
        "f1 = fsq(x1, 1)\n",
        "trust_radius=1.\n",
        "scale=np.ones_like(x1)\n",
        "for i in range(500):\n",
        "    lr=0.1\n",
        "    scale=(1-lr)*scale+lr*jnp.abs(f_orig(x1))\n",
        "    hvp=fsq_LO(x=x1, scale=scale)\n",
        "    grad=fsq_grad(x1, scale=scale)\n",
        "    newton=bicgstab(hvp, -grad,atol=1e-15)[0]\n",
        "\n",
        "    grad_direction_failed=False\n",
        "    while True:\n",
        "        grad_direction=False\n",
        "        newton_norm=np.linalg.norm(newton)\n",
        "        grad_norm=np.linalg.norm(grad)\n",
        "        cauchy = jnp.sum(grad**2)/jnp.sum(((hvp(-grad))**2))\n",
        "\n",
        "        if newton_norm<trust_radius:\n",
        "            x2=x1+newton\n",
        "\n",
        "\n",
        "        elif newton_norm>trust_radius and cauchy*grad_norm > trust_radius:\n",
        "            x2=x1+grad*trust_radius/grad_norm\n",
        "\n",
        "        else: \n",
        "            sd=cauchy*(-grad)\n",
        "            res=root(lambda s: jnp.linalg.norm(sd+s*(newton-sd))-trust_radius,0.5)\n",
        "            x2=x1+sd+res.x*(newton-sd)\n",
        "\n",
        "        f2=fsq(x2, scale=scale)\n",
        "        dx=x2-x1\n",
        "\n",
        "        exp_deltaf=jnp.dot(grad,dx) + jnp.dot(dx,hvp(dx))/2\n",
        "        rho = (f2-f1)/exp_deltaf\n",
        "\n",
        "        if newton_norm>=trust_radius and rho>0.75:\n",
        "            trust_radius*=2\n",
        "        elif rho<0.25:\n",
        "            trust_radius*=0.25\n",
        "\n",
        "        if f2<f1:\n",
        "            break\n",
        "        \n",
        "\n",
        "    print(f'{i:3d}, {f2:8.3e}, {exp_deltaf: 7.3e}, {rho: 7.2f}, {np.linalg.norm(x2-x1):7.2e}, {trust_radius: 7.3e}')\n",
        "    x1=x2\n",
        "    f1=f2\n",
        "    if f1<1e-15:\n",
        "        break\n",
        "    \n",
        "\n",
        "# print(x1)\n",
        "# print(func(x1))"
      ],
      "metadata": {
        "colab": {
          "base_uri": "https://localhost:8080/",
          "height": 953
        },
        "id": "W9rzMo2fTBH0",
        "outputId": "f7a5c724-8730-4257-b3f6-64464934ce0d"
      },
      "execution_count": 349,
      "outputs": [
        {
          "output_type": "stream",
          "name": "stdout",
          "text": [
            "  0, 9.943e+03, -1.781e+03,  210664756092518592.00, 1.00e+00,  2.000e+00\n",
            "  1, 2.557e+03, -1.106e+03,    6.68, 2.00e+00,  4.000e+00\n",
            "  2, 7.534e+02, -9.351e+02,    1.93, 4.00e+00,  8.000e+00\n",
            "  3, 1.325e+02, -4.584e+02,    1.35, 6.43e+00,  8.000e+00\n",
            "  4, 2.775e+01, -9.685e+01,    1.08, 4.79e+00,  8.000e+00\n",
            "  5, 2.169e+01, -2.134e+01,    0.28, 5.48e+00,  8.000e+00\n",
            "  6, 4.974e+00, -1.672e+01,    1.00, 3.00e+00,  8.000e+00\n",
            "  7, 1.204e+00, -3.962e+00,    0.95, 2.15e+00,  8.000e+00\n",
            "  8, 2.901e-01, -9.769e-01,    0.94, 1.45e+00,  8.000e+00\n",
            "  9, 7.042e-02, -2.370e-01,    0.93, 1.02e+00,  8.000e+00\n",
            " 10, 1.725e-02, -5.769e-02,    0.92, 6.85e-01,  8.000e+00\n",
            " 11, 4.215e-03, -1.417e-02,    0.92, 4.68e-01,  8.000e+00\n",
            " 12, 1.039e-03, -3.464e-03,    0.92, 3.20e-01,  8.000e+00\n",
            " 13, 2.526e-04, -8.586e-04,    0.92, 2.33e-01,  8.000e+00\n",
            " 14, 6.278e-05, -2.078e-04,    0.91, 1.46e-01,  8.000e+00\n",
            " 15, 1.545e-05, -5.167e-05,    0.92, 1.01e-01,  8.000e+00\n",
            " 16, 3.766e-06, -1.274e-05,    0.92, 7.10e-02,  8.000e+00\n",
            " 17, 9.282e-07, -3.100e-06,    0.92, 4.79e-02,  8.000e+00\n",
            " 18, 2.258e-07, -7.656e-07,    0.92, 3.38e-02,  8.000e+00\n",
            " 19, 5.606e-08, -1.859e-07,    0.91, 2.23e-02,  8.000e+00\n",
            " 20, 1.372e-08, -4.629e-08,    0.91, 1.61e-02,  8.000e+00\n",
            " 21, 1.108e-08, -1.163e-08,    0.23, 1.28e-02,  2.000e+00\n",
            " 22, 2.794e-09, -9.084e-09,    0.91, 7.05e-03,  2.000e+00\n",
            " 23, 6.947e-10, -2.303e-09,    0.91, 5.02e-03,  2.000e+00\n",
            " 24, 1.770e-10, -5.724e-10,    0.90, 3.54e-03,  2.000e+00\n",
            " 25, 4.762e-11, -1.457e-10,    0.89, 2.49e-03,  2.000e+00\n",
            " 26, 1.344e-11, -3.917e-11,    0.87, 1.72e-03,  2.000e+00\n",
            " 27, 3.521e-12, -1.097e-11,    0.90, 1.28e-03,  2.000e+00\n",
            " 28, 1.055e-12, -2.912e-12,    0.85, 9.94e-04,  2.000e+00\n",
            " 29, 2.641e-13, -8.695e-13,    0.91, 6.60e-04,  2.000e+00\n",
            " 30, 1.095e-13, -2.070e-13,    0.75, 4.21e-04,  2.000e+00\n",
            " 31, 3.028e-14, -9.008e-14,    0.88, 3.46e-04,  2.000e+00\n"
          ]
        },
        {
          "output_type": "error",
          "ename": "KeyboardInterrupt",
          "evalue": "ignored",
          "traceback": [
            "\u001b[0;31m---------------------------------------------------------------------------\u001b[0m",
            "\u001b[0;31mKeyboardInterrupt\u001b[0m                         Traceback (most recent call last)",
            "\u001b[0;32m<ipython-input-349-551764f0162c>\u001b[0m in \u001b[0;36m<module>\u001b[0;34m\u001b[0m\n\u001b[1;32m     15\u001b[0m         \u001b[0mnewton_norm\u001b[0m\u001b[0;34m=\u001b[0m\u001b[0mnp\u001b[0m\u001b[0;34m.\u001b[0m\u001b[0mlinalg\u001b[0m\u001b[0;34m.\u001b[0m\u001b[0mnorm\u001b[0m\u001b[0;34m(\u001b[0m\u001b[0mnewton\u001b[0m\u001b[0;34m)\u001b[0m\u001b[0;34m\u001b[0m\u001b[0;34m\u001b[0m\u001b[0m\n\u001b[1;32m     16\u001b[0m         \u001b[0mgrad_norm\u001b[0m\u001b[0;34m=\u001b[0m\u001b[0mnp\u001b[0m\u001b[0;34m.\u001b[0m\u001b[0mlinalg\u001b[0m\u001b[0;34m.\u001b[0m\u001b[0mnorm\u001b[0m\u001b[0;34m(\u001b[0m\u001b[0mgrad\u001b[0m\u001b[0;34m)\u001b[0m\u001b[0;34m\u001b[0m\u001b[0;34m\u001b[0m\u001b[0m\n\u001b[0;32m---> 17\u001b[0;31m         \u001b[0mcauchy\u001b[0m \u001b[0;34m=\u001b[0m \u001b[0mjnp\u001b[0m\u001b[0;34m.\u001b[0m\u001b[0msum\u001b[0m\u001b[0;34m(\u001b[0m\u001b[0mgrad\u001b[0m\u001b[0;34m**\u001b[0m\u001b[0;36m2\u001b[0m\u001b[0;34m)\u001b[0m\u001b[0;34m/\u001b[0m\u001b[0mjnp\u001b[0m\u001b[0;34m.\u001b[0m\u001b[0msum\u001b[0m\u001b[0;34m(\u001b[0m\u001b[0;34m(\u001b[0m\u001b[0;34m(\u001b[0m\u001b[0mhvp\u001b[0m\u001b[0;34m(\u001b[0m\u001b[0;34m-\u001b[0m\u001b[0mgrad\u001b[0m\u001b[0;34m)\u001b[0m\u001b[0;34m)\u001b[0m\u001b[0;34m**\u001b[0m\u001b[0;36m2\u001b[0m\u001b[0;34m)\u001b[0m\u001b[0;34m)\u001b[0m\u001b[0;34m\u001b[0m\u001b[0;34m\u001b[0m\u001b[0m\n\u001b[0m\u001b[1;32m     18\u001b[0m \u001b[0;34m\u001b[0m\u001b[0m\n\u001b[1;32m     19\u001b[0m         \u001b[0;32mif\u001b[0m \u001b[0mnewton_norm\u001b[0m\u001b[0;34m<\u001b[0m\u001b[0mtrust_radius\u001b[0m\u001b[0;34m:\u001b[0m\u001b[0;34m\u001b[0m\u001b[0;34m\u001b[0m\u001b[0m\n",
            "\u001b[0;32m/usr/local/lib/python3.7/dist-packages/jax/_src/numpy/lax_numpy.py\u001b[0m in \u001b[0;36mdeferring_binary_op\u001b[0;34m(self, other)\u001b[0m\n\u001b[1;32m   4584\u001b[0m     \u001b[0;32mif\u001b[0m \u001b[0;32mnot\u001b[0m \u001b[0misinstance\u001b[0m\u001b[0;34m(\u001b[0m\u001b[0mother\u001b[0m\u001b[0;34m,\u001b[0m \u001b[0m_accepted_binop_types\u001b[0m\u001b[0;34m)\u001b[0m\u001b[0;34m:\u001b[0m\u001b[0;34m\u001b[0m\u001b[0;34m\u001b[0m\u001b[0m\n\u001b[1;32m   4585\u001b[0m       \u001b[0;32mreturn\u001b[0m \u001b[0mNotImplemented\u001b[0m\u001b[0;34m\u001b[0m\u001b[0;34m\u001b[0m\u001b[0m\n\u001b[0;32m-> 4586\u001b[0;31m     \u001b[0;32mreturn\u001b[0m \u001b[0mbinary_op\u001b[0m\u001b[0;34m(\u001b[0m\u001b[0mself\u001b[0m\u001b[0;34m,\u001b[0m \u001b[0mother\u001b[0m\u001b[0;34m)\u001b[0m\u001b[0;34m\u001b[0m\u001b[0;34m\u001b[0m\u001b[0m\n\u001b[0m\u001b[1;32m   4587\u001b[0m   \u001b[0;32mreturn\u001b[0m \u001b[0mdeferring_binary_op\u001b[0m\u001b[0;34m\u001b[0m\u001b[0;34m\u001b[0m\u001b[0m\n\u001b[1;32m   4588\u001b[0m \u001b[0;34m\u001b[0m\u001b[0m\n",
            "\u001b[0;32m/usr/local/lib/python3.7/dist-packages/jax/_src/numpy/ufuncs.py\u001b[0m in \u001b[0;36mpower\u001b[0;34m(x1, x2)\u001b[0m\n\u001b[1;32m    318\u001b[0m       \u001b[0;32mpass\u001b[0m\u001b[0;34m\u001b[0m\u001b[0;34m\u001b[0m\u001b[0m\n\u001b[1;32m    319\u001b[0m     \u001b[0;32melse\u001b[0m\u001b[0;34m:\u001b[0m\u001b[0;34m\u001b[0m\u001b[0;34m\u001b[0m\u001b[0m\n\u001b[0;32m--> 320\u001b[0;31m       \u001b[0;32mreturn\u001b[0m \u001b[0mlax\u001b[0m\u001b[0;34m.\u001b[0m\u001b[0minteger_pow\u001b[0m\u001b[0;34m(\u001b[0m\u001b[0mx1\u001b[0m\u001b[0;34m,\u001b[0m \u001b[0mx2\u001b[0m\u001b[0;34m)\u001b[0m\u001b[0;34m\u001b[0m\u001b[0;34m\u001b[0m\u001b[0m\n\u001b[0m\u001b[1;32m    321\u001b[0m   \u001b[0;32mreturn\u001b[0m \u001b[0m_power\u001b[0m\u001b[0;34m(\u001b[0m\u001b[0mx1\u001b[0m\u001b[0;34m,\u001b[0m \u001b[0mx2\u001b[0m\u001b[0;34m)\u001b[0m\u001b[0;34m\u001b[0m\u001b[0;34m\u001b[0m\u001b[0m\n\u001b[1;32m    322\u001b[0m \u001b[0;34m\u001b[0m\u001b[0m\n",
            "\u001b[0;32m/usr/local/lib/python3.7/dist-packages/jax/_src/lax/lax.py\u001b[0m in \u001b[0;36minteger_pow\u001b[0;34m(x, y)\u001b[0m\n\u001b[1;32m    360\u001b[0m \u001b[0;32mdef\u001b[0m \u001b[0minteger_pow\u001b[0m\u001b[0;34m(\u001b[0m\u001b[0mx\u001b[0m\u001b[0;34m:\u001b[0m \u001b[0mArray\u001b[0m\u001b[0;34m,\u001b[0m \u001b[0my\u001b[0m\u001b[0;34m:\u001b[0m \u001b[0mint\u001b[0m\u001b[0;34m)\u001b[0m \u001b[0;34m->\u001b[0m \u001b[0mArray\u001b[0m\u001b[0;34m:\u001b[0m\u001b[0;34m\u001b[0m\u001b[0;34m\u001b[0m\u001b[0m\n\u001b[1;32m    361\u001b[0m   \u001b[0;34mr\"\"\"Elementwise power: :math:`x^y`, where :math:`y` is a fixed integer.\"\"\"\u001b[0m\u001b[0;34m\u001b[0m\u001b[0;34m\u001b[0m\u001b[0m\n\u001b[0;32m--> 362\u001b[0;31m   \u001b[0;32mreturn\u001b[0m \u001b[0minteger_pow_p\u001b[0m\u001b[0;34m.\u001b[0m\u001b[0mbind\u001b[0m\u001b[0;34m(\u001b[0m\u001b[0mx\u001b[0m\u001b[0;34m,\u001b[0m \u001b[0my\u001b[0m\u001b[0;34m=\u001b[0m\u001b[0my\u001b[0m\u001b[0;34m)\u001b[0m\u001b[0;34m\u001b[0m\u001b[0;34m\u001b[0m\u001b[0m\n\u001b[0m\u001b[1;32m    363\u001b[0m \u001b[0;34m\u001b[0m\u001b[0m\n\u001b[1;32m    364\u001b[0m \u001b[0;32mdef\u001b[0m \u001b[0msqrt\u001b[0m\u001b[0;34m(\u001b[0m\u001b[0mx\u001b[0m\u001b[0;34m:\u001b[0m \u001b[0mArray\u001b[0m\u001b[0;34m)\u001b[0m \u001b[0;34m->\u001b[0m \u001b[0mArray\u001b[0m\u001b[0;34m:\u001b[0m\u001b[0;34m\u001b[0m\u001b[0;34m\u001b[0m\u001b[0m\n",
            "\u001b[0;32m/usr/local/lib/python3.7/dist-packages/jax/core.py\u001b[0m in \u001b[0;36mbind\u001b[0;34m(self, *args, **params)\u001b[0m\n\u001b[1;32m    325\u001b[0m     assert (not config.jax_enable_checks or\n\u001b[1;32m    326\u001b[0m             all(isinstance(arg, Tracer) or valid_jaxtype(arg) for arg in args)), args\n\u001b[0;32m--> 327\u001b[0;31m     \u001b[0;32mreturn\u001b[0m \u001b[0mself\u001b[0m\u001b[0;34m.\u001b[0m\u001b[0mbind_with_trace\u001b[0m\u001b[0;34m(\u001b[0m\u001b[0mfind_top_trace\u001b[0m\u001b[0;34m(\u001b[0m\u001b[0margs\u001b[0m\u001b[0;34m)\u001b[0m\u001b[0;34m,\u001b[0m \u001b[0margs\u001b[0m\u001b[0;34m,\u001b[0m \u001b[0mparams\u001b[0m\u001b[0;34m)\u001b[0m\u001b[0;34m\u001b[0m\u001b[0;34m\u001b[0m\u001b[0m\n\u001b[0m\u001b[1;32m    328\u001b[0m \u001b[0;34m\u001b[0m\u001b[0m\n\u001b[1;32m    329\u001b[0m   \u001b[0;32mdef\u001b[0m \u001b[0mbind_with_trace\u001b[0m\u001b[0;34m(\u001b[0m\u001b[0mself\u001b[0m\u001b[0;34m,\u001b[0m \u001b[0mtrace\u001b[0m\u001b[0;34m,\u001b[0m \u001b[0margs\u001b[0m\u001b[0;34m,\u001b[0m \u001b[0mparams\u001b[0m\u001b[0;34m)\u001b[0m\u001b[0;34m:\u001b[0m\u001b[0;34m\u001b[0m\u001b[0;34m\u001b[0m\u001b[0m\n",
            "\u001b[0;32m/usr/local/lib/python3.7/dist-packages/jax/core.py\u001b[0m in \u001b[0;36mbind_with_trace\u001b[0;34m(self, trace, args, params)\u001b[0m\n\u001b[1;32m    328\u001b[0m \u001b[0;34m\u001b[0m\u001b[0m\n\u001b[1;32m    329\u001b[0m   \u001b[0;32mdef\u001b[0m \u001b[0mbind_with_trace\u001b[0m\u001b[0;34m(\u001b[0m\u001b[0mself\u001b[0m\u001b[0;34m,\u001b[0m \u001b[0mtrace\u001b[0m\u001b[0;34m,\u001b[0m \u001b[0margs\u001b[0m\u001b[0;34m,\u001b[0m \u001b[0mparams\u001b[0m\u001b[0;34m)\u001b[0m\u001b[0;34m:\u001b[0m\u001b[0;34m\u001b[0m\u001b[0;34m\u001b[0m\u001b[0m\n\u001b[0;32m--> 330\u001b[0;31m     \u001b[0mout\u001b[0m \u001b[0;34m=\u001b[0m \u001b[0mtrace\u001b[0m\u001b[0;34m.\u001b[0m\u001b[0mprocess_primitive\u001b[0m\u001b[0;34m(\u001b[0m\u001b[0mself\u001b[0m\u001b[0;34m,\u001b[0m \u001b[0mmap\u001b[0m\u001b[0;34m(\u001b[0m\u001b[0mtrace\u001b[0m\u001b[0;34m.\u001b[0m\u001b[0mfull_raise\u001b[0m\u001b[0;34m,\u001b[0m \u001b[0margs\u001b[0m\u001b[0;34m)\u001b[0m\u001b[0;34m,\u001b[0m \u001b[0mparams\u001b[0m\u001b[0;34m)\u001b[0m\u001b[0;34m\u001b[0m\u001b[0;34m\u001b[0m\u001b[0m\n\u001b[0m\u001b[1;32m    331\u001b[0m     \u001b[0;32mreturn\u001b[0m \u001b[0mmap\u001b[0m\u001b[0;34m(\u001b[0m\u001b[0mfull_lower\u001b[0m\u001b[0;34m,\u001b[0m \u001b[0mout\u001b[0m\u001b[0;34m)\u001b[0m \u001b[0;32mif\u001b[0m \u001b[0mself\u001b[0m\u001b[0;34m.\u001b[0m\u001b[0mmultiple_results\u001b[0m \u001b[0;32melse\u001b[0m \u001b[0mfull_lower\u001b[0m\u001b[0;34m(\u001b[0m\u001b[0mout\u001b[0m\u001b[0;34m)\u001b[0m\u001b[0;34m\u001b[0m\u001b[0;34m\u001b[0m\u001b[0m\n\u001b[1;32m    332\u001b[0m \u001b[0;34m\u001b[0m\u001b[0m\n",
            "\u001b[0;32m/usr/local/lib/python3.7/dist-packages/jax/core.py\u001b[0m in \u001b[0;36mprocess_primitive\u001b[0;34m(self, primitive, tracers, params)\u001b[0m\n\u001b[1;32m    678\u001b[0m \u001b[0;34m\u001b[0m\u001b[0m\n\u001b[1;32m    679\u001b[0m   \u001b[0;32mdef\u001b[0m \u001b[0mprocess_primitive\u001b[0m\u001b[0;34m(\u001b[0m\u001b[0mself\u001b[0m\u001b[0;34m,\u001b[0m \u001b[0mprimitive\u001b[0m\u001b[0;34m,\u001b[0m \u001b[0mtracers\u001b[0m\u001b[0;34m,\u001b[0m \u001b[0mparams\u001b[0m\u001b[0;34m)\u001b[0m\u001b[0;34m:\u001b[0m\u001b[0;34m\u001b[0m\u001b[0;34m\u001b[0m\u001b[0m\n\u001b[0;32m--> 680\u001b[0;31m     \u001b[0;32mreturn\u001b[0m \u001b[0mprimitive\u001b[0m\u001b[0;34m.\u001b[0m\u001b[0mimpl\u001b[0m\u001b[0;34m(\u001b[0m\u001b[0;34m*\u001b[0m\u001b[0mtracers\u001b[0m\u001b[0;34m,\u001b[0m \u001b[0;34m**\u001b[0m\u001b[0mparams\u001b[0m\u001b[0;34m)\u001b[0m\u001b[0;34m\u001b[0m\u001b[0;34m\u001b[0m\u001b[0m\n\u001b[0m\u001b[1;32m    681\u001b[0m \u001b[0;34m\u001b[0m\u001b[0m\n\u001b[1;32m    682\u001b[0m   \u001b[0;32mdef\u001b[0m \u001b[0mprocess_call\u001b[0m\u001b[0;34m(\u001b[0m\u001b[0mself\u001b[0m\u001b[0;34m,\u001b[0m \u001b[0mprimitive\u001b[0m\u001b[0;34m,\u001b[0m \u001b[0mf\u001b[0m\u001b[0;34m,\u001b[0m \u001b[0mtracers\u001b[0m\u001b[0;34m,\u001b[0m \u001b[0mparams\u001b[0m\u001b[0;34m)\u001b[0m\u001b[0;34m:\u001b[0m\u001b[0;34m\u001b[0m\u001b[0;34m\u001b[0m\u001b[0m\n",
            "\u001b[0;32m/usr/local/lib/python3.7/dist-packages/jax/_src/dispatch.py\u001b[0m in \u001b[0;36mapply_primitive\u001b[0;34m(prim, *args, **params)\u001b[0m\n\u001b[1;32m     99\u001b[0m   compiled_fun = xla_primitive_callable(prim, *unsafe_map(arg_spec, args),\n\u001b[1;32m    100\u001b[0m                                         **params)\n\u001b[0;32m--> 101\u001b[0;31m   \u001b[0;32mreturn\u001b[0m \u001b[0mcompiled_fun\u001b[0m\u001b[0;34m(\u001b[0m\u001b[0;34m*\u001b[0m\u001b[0margs\u001b[0m\u001b[0;34m)\u001b[0m\u001b[0;34m\u001b[0m\u001b[0;34m\u001b[0m\u001b[0m\n\u001b[0m\u001b[1;32m    102\u001b[0m \u001b[0;34m\u001b[0m\u001b[0m\n\u001b[1;32m    103\u001b[0m \u001b[0;31m# TODO(phawkins): update code referring to xla.apply_primitive to point here.\u001b[0m\u001b[0;34m\u001b[0m\u001b[0;34m\u001b[0m\u001b[0;34m\u001b[0m\u001b[0m\n",
            "\u001b[0;32m/usr/local/lib/python3.7/dist-packages/jax/_src/dispatch.py\u001b[0m in \u001b[0;36m<lambda>\u001b[0;34m(*args, **kw)\u001b[0m\n\u001b[1;32m    165\u001b[0m                                     prim.name, donated_invars, False, *arg_specs)\n\u001b[1;32m    166\u001b[0m   \u001b[0;32mif\u001b[0m \u001b[0;32mnot\u001b[0m \u001b[0mprim\u001b[0m\u001b[0;34m.\u001b[0m\u001b[0mmultiple_results\u001b[0m\u001b[0;34m:\u001b[0m\u001b[0;34m\u001b[0m\u001b[0;34m\u001b[0m\u001b[0m\n\u001b[0;32m--> 167\u001b[0;31m     \u001b[0;32mreturn\u001b[0m \u001b[0;32mlambda\u001b[0m \u001b[0;34m*\u001b[0m\u001b[0margs\u001b[0m\u001b[0;34m,\u001b[0m \u001b[0;34m**\u001b[0m\u001b[0mkw\u001b[0m\u001b[0;34m:\u001b[0m \u001b[0mcompiled\u001b[0m\u001b[0;34m(\u001b[0m\u001b[0;34m*\u001b[0m\u001b[0margs\u001b[0m\u001b[0;34m,\u001b[0m \u001b[0;34m**\u001b[0m\u001b[0mkw\u001b[0m\u001b[0;34m)\u001b[0m\u001b[0;34m[\u001b[0m\u001b[0;36m0\u001b[0m\u001b[0;34m]\u001b[0m\u001b[0;34m\u001b[0m\u001b[0;34m\u001b[0m\u001b[0m\n\u001b[0m\u001b[1;32m    168\u001b[0m   \u001b[0;32melse\u001b[0m\u001b[0;34m:\u001b[0m\u001b[0;34m\u001b[0m\u001b[0;34m\u001b[0m\u001b[0m\n\u001b[1;32m    169\u001b[0m     \u001b[0;32mreturn\u001b[0m \u001b[0mcompiled\u001b[0m\u001b[0;34m\u001b[0m\u001b[0;34m\u001b[0m\u001b[0m\n",
            "\u001b[0;32m/usr/local/lib/python3.7/dist-packages/jax/_src/dispatch.py\u001b[0m in \u001b[0;36m_execute_compiled\u001b[0;34m(name, compiled, input_handler, output_buffer_counts, result_handler, has_unordered_effects, ordered_effects, kept_var_idx, *args)\u001b[0m\n\u001b[1;32m    708\u001b[0m                       \u001b[0mordered_effects\u001b[0m\u001b[0;34m:\u001b[0m \u001b[0mList\u001b[0m\u001b[0;34m[\u001b[0m\u001b[0mcore\u001b[0m\u001b[0;34m.\u001b[0m\u001b[0mEffect\u001b[0m\u001b[0;34m]\u001b[0m\u001b[0;34m,\u001b[0m\u001b[0;34m\u001b[0m\u001b[0;34m\u001b[0m\u001b[0m\n\u001b[1;32m    709\u001b[0m                       kept_var_idx, *args):\n\u001b[0;32m--> 710\u001b[0;31m   \u001b[0mdevice\u001b[0m\u001b[0;34m,\u001b[0m \u001b[0;34m=\u001b[0m \u001b[0mcompiled\u001b[0m\u001b[0;34m.\u001b[0m\u001b[0mlocal_devices\u001b[0m\u001b[0;34m(\u001b[0m\u001b[0;34m)\u001b[0m\u001b[0;34m\u001b[0m\u001b[0;34m\u001b[0m\u001b[0m\n\u001b[0m\u001b[1;32m    711\u001b[0m   \u001b[0margs\u001b[0m\u001b[0;34m,\u001b[0m \u001b[0menv\u001b[0m \u001b[0;34m=\u001b[0m \u001b[0minput_handler\u001b[0m\u001b[0;34m(\u001b[0m\u001b[0margs\u001b[0m\u001b[0;34m)\u001b[0m \u001b[0;32mif\u001b[0m \u001b[0minput_handler\u001b[0m \u001b[0;32melse\u001b[0m \u001b[0;34m(\u001b[0m\u001b[0margs\u001b[0m\u001b[0;34m,\u001b[0m \u001b[0;32mNone\u001b[0m\u001b[0;34m)\u001b[0m\u001b[0;34m\u001b[0m\u001b[0;34m\u001b[0m\u001b[0m\n\u001b[1;32m    712\u001b[0m   in_flat = flatten(device_put(x, device) for i, x in enumerate(args)\n",
            "\u001b[0;31mKeyboardInterrupt\u001b[0m: "
          ]
        }
      ]
    },
    {
      "cell_type": "markdown",
      "source": [
        "# previous TN"
      ],
      "metadata": {
        "id": "eljqBP21TDIX"
      }
    },
    {
      "cell_type": "code",
      "source": [
        "x1=xguess\n",
        "f1 = fsq(x1, 1)\n",
        "trust_radius=1.\n",
        "for i in range(100):\n",
        "    hvp=fsq_LO(x=x1, scale=1.)\n",
        "    grad=fsq_grad(x1, scale=1)\n",
        "    dx=bicgstab(hvp, -grad,atol=1e-14)[0]\n",
        "\n",
        "    grad_direction_failed=False\n",
        "    while True:\n",
        "        grad_direction=False\n",
        "        dx_norm=np.linalg.norm(dx)\n",
        "        if dx_norm>trust_radius:\n",
        "            dx=dx*trust_radius/dx_norm\n",
        "\n",
        "        x2=x1+dx\n",
        "        f2=fsq(x2, scale=1.)\n",
        "\n",
        "\n",
        "        exp_deltaf=jnp.dot(grad,dx) + jnp.dot(dx,hvp(dx))/2\n",
        "\n",
        "        rho = (f2-f1)/exp_deltaf\n",
        "\n",
        "        if exp_deltaf<0:\n",
        "            if rho>0.75 and dx_norm>trust_radius:\n",
        "                trust_radius*=2\n",
        "                break\n",
        "            elif rho>0.75:\n",
        "                trust_radius=dx_norm*2\n",
        "                break\n",
        "            elif rho>0.25:\n",
        "                break\n",
        "            trust_radius*=0.5\n",
        "\n",
        "        else:\n",
        "            print('grad')\n",
        "            dx=-grad\n",
        "            for j in range(32):\n",
        "                x2=x1+dx\n",
        "                f2=fsq(x2)\n",
        "                if f2 > f1:\n",
        "                    dx*=0.5\n",
        "                else:\n",
        "                    break\n",
        "            if j==31:\n",
        "                grad_direction_failed=True\n",
        "                break\n",
        "            grad_direction=True\n",
        "            break\n",
        "\n",
        "\n",
        "\n",
        "    print(f'{i:3d}, {jnp.sum(f_orig(x2)**2):8.3e}, {f2:8.3e}, {(f2-f1): 7.3e}, {exp_deltaf: 7.3e}, {rho: 7.2f}, {np.linalg.norm(dx):7.2e}, {trust_radius: 7.3e}',end='')\n",
        "    if grad_direction:\n",
        "        print(f',  grad: {j:3d}',end='')\n",
        "    print('')\n",
        "    x1=x2\n",
        "    f1=f2\n",
        "    if f1<1e-15:\n",
        "        break\n",
        "    \n",
        "\n",
        "# print(x1)\n",
        "# print(func(x1))"
      ],
      "metadata": {
        "id": "md7TmcH6lPQO",
        "colab": {
          "base_uri": "https://localhost:8080/"
        },
        "outputId": "7735e759-394a-4f2d-e9b5-3d688a0d80e9"
      },
      "execution_count": 281,
      "outputs": [
        {
          "output_type": "stream",
          "name": "stdout",
          "text": [
            "  0, 1.245e+02, 1.245e+02, -8.245e+01, -8.108e+01,    1.02, 1.00e+00,  2.000e+00\n",
            "  1, 3.516e+01, 3.516e+01, -8.931e+01, -8.007e+01,    1.12, 2.00e+00,  4.000e+00\n",
            "  2, 6.945e+00, 6.945e+00, -2.822e+01, -2.344e+01,    1.20, 1.79e+00,  3.587e+00\n",
            "  3, 1.372e+00, 1.372e+00, -5.573e+00, -4.630e+00,    1.20, 1.20e+00,  2.391e+00\n",
            "  4, 2.710e-01, 2.710e-01, -1.101e+00, -9.146e-01,    1.20, 7.97e-01,  1.594e+00\n",
            "  5, 5.353e-02, 5.353e-02, -2.175e-01, -1.807e-01,    1.20, 5.31e-01,  1.063e+00\n",
            "  6, 1.057e-02, 1.057e-02, -4.296e-02, -3.569e-02,    1.20, 3.54e-01,  7.087e-01\n",
            "  7, 2.089e-03, 2.089e-03, -8.485e-03, -7.049e-03,    1.20, 2.36e-01,  4.724e-01\n",
            "  8, 4.126e-04, 4.126e-04, -1.676e-03, -1.392e-03,    1.20, 1.57e-01,  3.150e-01\n",
            "  9, 8.150e-05, 8.150e-05, -3.311e-04, -2.750e-04,    1.20, 1.05e-01,  2.100e-01\n",
            " 10, 1.610e-05, 1.610e-05, -6.540e-05, -5.433e-05,    1.20, 7.00e-02,  1.400e-01\n",
            " 11, 3.180e-06, 3.180e-06, -1.292e-05, -1.073e-05,    1.20, 4.67e-02,  9.332e-02\n",
            " 12, 6.281e-07, 6.281e-07, -2.552e-06, -2.120e-06,    1.20, 3.11e-02,  6.222e-02\n",
            " 13, 1.241e-07, 1.241e-07, -5.040e-07, -4.187e-07,    1.20, 2.07e-02,  4.148e-02\n",
            " 14, 2.451e-08, 2.451e-08, -9.956e-08, -8.271e-08,    1.20, 1.38e-02,  2.765e-02\n",
            " 15, 4.841e-09, 4.841e-09, -1.967e-08, -1.634e-08,    1.20, 9.22e-03,  1.843e-02\n",
            " 16, 9.563e-10, 9.563e-10, -3.885e-09, -3.227e-09,    1.20, 6.15e-03,  1.229e-02\n",
            " 17, 1.889e-10, 1.889e-10, -7.674e-10, -6.375e-10,    1.20, 4.10e-03,  8.193e-03\n",
            " 18, 3.731e-11, 3.731e-11, -1.516e-10, -1.259e-10,    1.20, 2.73e-03,  5.462e-03\n",
            " 19, 7.370e-12, 7.370e-12, -2.994e-11, -2.487e-11,    1.20, 1.82e-03,  3.641e-03\n",
            " 20, 1.456e-12, 1.456e-12, -5.914e-12, -4.914e-12,    1.20, 1.21e-03,  2.428e-03\n",
            " 21, 2.876e-13, 2.876e-13, -1.168e-12, -9.706e-13,    1.20, 8.09e-04,  1.618e-03\n",
            " 22, 5.681e-14, 5.681e-14, -2.308e-13, -1.917e-13,    1.20, 5.39e-04,  1.079e-03\n",
            " 23, 1.122e-14, 1.122e-14, -4.558e-14, -3.787e-14,    1.20, 3.60e-04,  7.194e-04\n",
            " 24, 2.216e-15, 2.216e-15, -9.004e-15, -7.481e-15,    1.20, 2.40e-04,  4.793e-04\n",
            " 25, 4.378e-16, 4.378e-16, -1.779e-15, -1.478e-15,    1.20, 1.59e-04,  3.189e-04\n"
          ]
        }
      ]
    },
    {
      "cell_type": "markdown",
      "source": [
        "## Line Search"
      ],
      "metadata": {
        "id": "EwdgTGU8sD5T"
      }
    },
    {
      "cell_type": "code",
      "source": [
        "x1=xguess\n",
        "f1 = fsq(x1, 1)\n",
        "for i in range(100):\n",
        "    gradient_direction=False\n",
        "    hvp=fsq_LO(x=x1, scale=1.)\n",
        "    grad=fsq_grad(x1, scale=1)\n",
        "    dx=bicgstab(hvp, -grad,atol=1e-14)[0]\n",
        "    alpha, fc, f2 = scipy.optimize.linesearch.line_search_armijo(lambda x: fsq(x,scale=1), x1, dx, grad, f1, c1=0.5)\n",
        "    if alpha is None or alpha <1e-10:\n",
        "        dx=-grad\n",
        "        alpha, fc, f2 = scipy.optimize.linesearch.line_search_armijo(lambda x: fsq(x, scale=1), x1, dx, grad, f1, c1=0.5)\n",
        "        gradient_direction=True\n",
        "    x2 = x1 + alpha*dx\n",
        "    f2 = fsq(x2, scale=1)\n",
        "    print(f'{i:3d}, {fc:3d},{f2:9.3e}, {np.linalg.norm(alpha*dx):9.2e}, {alpha: 9.3e}',end='')\n",
        "    if gradient_direction:\n",
        "        print(' gradient direction', end='')\n",
        "    print()\n",
        "    x1=x2\n",
        "    f1=f2\n",
        "    if f1<1e-15:\n",
        "        break"
      ],
      "metadata": {
        "id": "Z29xcRjdsLqD"
      },
      "execution_count": null,
      "outputs": []
    }
  ]
}