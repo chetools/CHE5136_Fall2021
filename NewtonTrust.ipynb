{
  "nbformat": 4,
  "nbformat_minor": 0,
  "metadata": {
    "colab": {
      "provenance": [],
      "collapsed_sections": [],
      "authorship_tag": "ABX9TyPkXstK1jZFxdfSoy1tQ0h1",
      "include_colab_link": true
    },
    "kernelspec": {
      "name": "python3",
      "display_name": "Python 3"
    },
    "language_info": {
      "name": "python"
    }
  },
  "cells": [
    {
      "cell_type": "markdown",
      "metadata": {
        "id": "view-in-github",
        "colab_type": "text"
      },
      "source": [
        "<a href=\"https://colab.research.google.com/github/profteachkids/CHE5136_Fall2021/blob/main/NewtonTrust.ipynb\" target=\"_parent\"><img src=\"https://colab.research.google.com/assets/colab-badge.svg\" alt=\"Open In Colab\"/></a>"
      ]
    },
    {
      "cell_type": "code",
      "source": [
        "import jax\n",
        "import jax.numpy as jnp\n",
        "from jax.config import config\n",
        "config.update(\"jax_enable_x64\", True)\n",
        "import numpy as np\n",
        "from functools import partial\n",
        "from scipy.optimize._lsq import common\n",
        "import scipy\n",
        "from scipy.optimize import root,minimize\n",
        "from scipy.sparse.linalg import spsolve, bicgstab, LinearOperator"
      ],
      "metadata": {
        "id": "5Hrw3OIilD4J"
      },
      "execution_count": 1,
      "outputs": []
    },
    {
      "cell_type": "code",
      "source": [
        "def get_J(f):\n",
        "    def J(x,v):\n",
        "        return jax.jvp(f, (x,),(v,))[1]\n",
        "    return jax.jit(J)\n",
        "\n",
        "def get_line_f(func):\n",
        "    def line_f(t,x,dx):\n",
        "        return func(x+t*dx)\n",
        "    return jax.jit(line_f)\n",
        "\n",
        "def getLO(f):\n",
        "    def mv(x,v):\n",
        "        return jax.jvp(f,(x,),(jnp.squeeze(v),))[1]\n",
        "\n",
        "    def rmv(x,v):\n",
        "        return jax.vjp(f,x)[1](v)\n",
        "\n",
        "    jit_mv = jax.jit(mv)\n",
        "    jit_rmv = jax.jit(rmv)\n",
        "\n",
        "    def LO(x):\n",
        "        # return LinearOperator((x.size,x.size), matvec = partial(jit_mv,x), rmatvec=partial(jit_rmv, x))\n",
        "        return LinearOperator((x.size,x.size), matvec = partial(jit_mv,x))\n",
        "\n",
        "    return LO"
      ],
      "metadata": {
        "id": "KBrucEQzoXM_"
      },
      "execution_count": 2,
      "outputs": []
    },
    {
      "cell_type": "code",
      "source": [
        "def get_scaled(f):\n",
        "    def scaled(x,scale):\n",
        "        return jnp.sum((f(x)/scale)**2)\n",
        "\n",
        "    return jax.jit(scaled)"
      ],
      "metadata": {
        "id": "4PRCzCHZl3Wf"
      },
      "execution_count": 354,
      "outputs": []
    },
    {
      "cell_type": "code",
      "execution_count": 365,
      "metadata": {
        "id": "VRAPWDmZk99k"
      },
      "outputs": [],
      "source": [
        "rng=np.random.RandomState(123)\n",
        "N=100\n",
        "N_offdiagonal = int(3*N)\n",
        "xguess=jnp.asarray(np.random.uniform(size=N))\n",
        "triples = rng.randint(0,N,size=(N_offdiagonal,3))\n",
        "eq = rng.randint(0,N,N_offdiagonal)\n",
        "coeff = rng.uniform(-1,1,size=N)\n",
        "mult = np.c_[1e12*(1+rng.uniform(size=N)),np.ones(N)][np.arange(N),rng.choice([0,1],size=N,p=[0.1,0.9])]\n",
        "\n",
        "def f_orig(x):\n",
        "    x=jnp.asarray(x)+coeff\n",
        "    res=x**2\n",
        "    res=res.at[eq].add(-x[triples[:,0]]*x[triples[:,1]])\n",
        "    return res*mult\n",
        "\n",
        "fsq=get_scaled(f_orig)\n",
        "fsq_grad = jax.jit(jax.grad(fsq))\n",
        "def fsq_hvp(x,scale,v):\n",
        "    return jax.grad(lambda x: jnp.vdot(jax.grad(fsq)(x,scale), v))(x)\n",
        "\n",
        "fsq_hvp_jit=jax.jit(fsq_hvp)\n",
        "\n",
        "def fsq_LO(x, scale):\n",
        "    return LinearOperator((N,N), matvec=lambda v: fsq_hvp_jit(x=x,v=v,scale=scale))"
      ]
    },
    {
      "cell_type": "markdown",
      "source": [
        "## Dog Leg"
      ],
      "metadata": {
        "id": "O3neDRzzuJ5-"
      }
    },
    {
      "cell_type": "code",
      "source": [
        "x1=xguess\n",
        "f1 = fsq(x1, 1)\n",
        "trust_radius=1.\n",
        "scale=np.ones_like(x1)\n",
        "for i in range(500):\n",
        "    lr=0.1\n",
        "    scale=(1-lr)*scale+lr*jnp.abs(f_orig(x1))\n",
        "    hvp=fsq_LO(x=x1, scale=scale)\n",
        "    grad=fsq_grad(x1, scale=scale)\n",
        "    newton=bicgstab(hvp, -grad,atol=1e-15)[0]\n",
        "\n",
        "    grad_direction_failed=False\n",
        "    for j in range(32):\n",
        "        grad_direction=False\n",
        "        newton_norm=np.linalg.norm(newton)\n",
        "        grad_norm=np.linalg.norm(grad)\n",
        "        cauchy = jnp.sum(grad**2)/jnp.sum(((hvp(-grad))**2))\n",
        "\n",
        "        if newton_norm<trust_radius:\n",
        "            x2=x1+newton\n",
        "\n",
        "\n",
        "        elif newton_norm>trust_radius and cauchy*grad_norm > trust_radius:\n",
        "            x2=x1+grad*trust_radius/grad_norm\n",
        "\n",
        "        else: \n",
        "            sd=cauchy*(-grad)\n",
        "            res=root(lambda s: jnp.linalg.norm(sd+s*(newton-sd))-trust_radius,0.5)\n",
        "            x2=x1+sd+res.x*(newton-sd)\n",
        "\n",
        "        f2=fsq(x2, scale=scale)\n",
        "        dx=x2-x1\n",
        "\n",
        "        exp_deltaf=jnp.dot(grad,dx) + jnp.dot(dx,hvp(dx))/2\n",
        "        rho = (f2-f1)/exp_deltaf\n",
        "\n",
        "        if newton_norm>=trust_radius and rho>0.75:\n",
        "            trust_radius*=2\n",
        "        elif rho<0.25:\n",
        "            trust_radius*=0.25\n",
        "\n",
        "        if f2<f1:\n",
        "            break\n",
        "        \n",
        "\n",
        "    print(f'{i:3d}, {j:3d}, {f2:8.3e}, {exp_deltaf: 7.3e}, {rho: 7.2f}, {np.linalg.norm(x2-x1):7.2e}, {trust_radius: 7.3e}')\n",
        "    x1=x2\n",
        "    f1=f2\n",
        "    if f1<1e-24:\n",
        "        break\n",
        "    \n",
        "\n",
        "# print(x1)\n",
        "# print(func(x1))"
      ],
      "metadata": {
        "id": "W9rzMo2fTBH0"
      },
      "execution_count": null,
      "outputs": []
    },
    {
      "cell_type": "code",
      "source": [
        "print(f_orig(x1))"
      ],
      "metadata": {
        "colab": {
          "base_uri": "https://localhost:8080/"
        },
        "id": "CjeGTY6A1_XK",
        "outputId": "ede16d6d-f46b-4e7f-f937-1e5cd3f6d441"
      },
      "execution_count": 370,
      "outputs": [
        {
          "output_type": "stream",
          "name": "stdout",
          "text": [
            "[ 6.71391269e-21  8.17575859e-22  1.67483475e-21  3.69561078e-21\n",
            "  1.75946416e-21 -3.12045541e-21  2.84773176e-21 -4.60825143e-21\n",
            "  4.17255915e-21  1.66730256e-21  1.47842972e-23 -5.86337749e-22\n",
            "  1.08259868e-09 -4.16074687e-21  2.26985659e-21 -3.75746249e-21\n",
            "  1.67281598e-21  5.34514072e-21  2.06172100e-09  3.87311650e-21\n",
            "  2.03293252e-20 -8.45846485e-22  7.15515545e-21 -5.33008718e-21\n",
            " -3.18837178e-21  4.31256253e-21 -4.29809524e-22  2.88825457e-21\n",
            " -1.32336411e-10  1.93200777e-21  1.12537970e-20 -9.64669604e-21\n",
            "  2.38210397e-21  3.97339326e-21  3.18044355e-21  6.26043369e-21\n",
            "  6.94344088e-22 -6.15286699e-22 -4.14388476e-21  4.49229596e-21\n",
            "  4.76720991e-21  3.25149528e-21 -8.49207357e-21  5.98024401e-22\n",
            "  1.18738819e-21  7.48388193e-22 -1.30409733e-21  4.04691881e-21\n",
            "  7.50236848e-10  2.84381740e-21 -6.77503170e-21  2.79472115e-21\n",
            " -5.25715920e-25  1.11183306e-23 -6.45301773e-10  4.86261513e-21\n",
            " -3.77359330e-22  1.37259858e-22 -4.45395322e-21  4.10281872e-21\n",
            "  4.97302106e-21  7.98537228e-22  2.36981543e-21  1.48748529e-21\n",
            "  9.88111393e-22 -3.47080818e-21  2.35184324e-21 -1.85097625e-23\n",
            "  5.15595849e-21  1.16718284e-20  2.57827638e-21  9.70216292e-21\n",
            " -6.96404942e-21  1.01205890e-20  4.98236267e-22  5.88963648e-22\n",
            "  1.60635924e-09  5.30648463e-21  3.27337290e-21  2.01128741e-21\n",
            "  9.89354969e-21  1.09664648e-11  6.75571811e-22 -2.81730018e-21\n",
            " -1.51825676e-21  6.67481700e-21 -5.32202894e-21  5.34160318e-21\n",
            " -8.71043469e-23 -1.22755304e-21  2.77808989e-21  3.72163794e-21\n",
            "  8.03952873e-22  5.95131102e-10  4.73636124e-21 -8.10416735e-22\n",
            " -6.26595669e-23  4.96472909e-22  2.41435470e-21  3.98993495e-21]\n"
          ]
        }
      ]
    },
    {
      "cell_type": "markdown",
      "source": [
        "## Line Search"
      ],
      "metadata": {
        "id": "EwdgTGU8sD5T"
      }
    },
    {
      "cell_type": "code",
      "source": [
        "x1=xguess\n",
        "f1 = fsq(x1, 1)\n",
        "for i in range(100):\n",
        "    gradient_direction=False\n",
        "    hvp=fsq_LO(x=x1, scale=1.)\n",
        "    grad=fsq_grad(x1, scale=1)\n",
        "    dx=bicgstab(hvp, -grad,atol=1e-14)[0]\n",
        "    alpha, fc, f2 = scipy.optimize.linesearch.line_search_armijo(lambda x: fsq(x,scale=1), x1, dx, grad, f1, c1=0.5)\n",
        "    if alpha is None or alpha <1e-10:\n",
        "        dx=-grad\n",
        "        alpha, fc, f2 = scipy.optimize.linesearch.line_search_armijo(lambda x: fsq(x, scale=1), x1, dx, grad, f1, c1=0.5)\n",
        "        gradient_direction=True\n",
        "    x2 = x1 + alpha*dx\n",
        "    f2 = fsq(x2, scale=1)\n",
        "    print(f'{i:3d}, {fc:3d},{f2:9.3e}, {np.linalg.norm(alpha*dx):9.2e}, {alpha: 9.3e}',end='')\n",
        "    if gradient_direction:\n",
        "        print(' gradient direction', end='')\n",
        "    print()\n",
        "    x1=x2\n",
        "    f1=f2\n",
        "    if f1<1e-15:\n",
        "        break"
      ],
      "metadata": {
        "id": "Z29xcRjdsLqD"
      },
      "execution_count": null,
      "outputs": []
    }
  ]
}