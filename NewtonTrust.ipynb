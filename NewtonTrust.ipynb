{
  "nbformat": 4,
  "nbformat_minor": 0,
  "metadata": {
    "colab": {
      "provenance": [],
      "collapsed_sections": [],
      "authorship_tag": "ABX9TyOlko2+eeoqh8qXPYCM5rN7",
      "include_colab_link": true
    },
    "kernelspec": {
      "name": "python3",
      "display_name": "Python 3"
    },
    "language_info": {
      "name": "python"
    }
  },
  "cells": [
    {
      "cell_type": "markdown",
      "metadata": {
        "id": "view-in-github",
        "colab_type": "text"
      },
      "source": [
        "<a href=\"https://colab.research.google.com/github/profteachkids/CHE5136_Fall2021/blob/main/NewtonTrust.ipynb\" target=\"_parent\"><img src=\"https://colab.research.google.com/assets/colab-badge.svg\" alt=\"Open In Colab\"/></a>"
      ]
    },
    {
      "cell_type": "code",
      "source": [
        "import jax\n",
        "import jax.numpy as jnp\n",
        "from jax.config import config\n",
        "config.update(\"jax_enable_x64\", True)\n",
        "import numpy as np\n",
        "from functools import partial\n",
        "from scipy.optimize._lsq import common\n",
        "import scipy\n",
        "from scipy.optimize import root,minimize\n",
        "from scipy.sparse.linalg import spsolve, bicgstab, LinearOperator"
      ],
      "metadata": {
        "id": "5Hrw3OIilD4J"
      },
      "execution_count": 1,
      "outputs": []
    },
    {
      "cell_type": "code",
      "source": [
        "def get_J(f):\n",
        "    def J(x,v):\n",
        "        return jax.jvp(f, (x,),(v,))[1]\n",
        "    return jax.jit(J)\n",
        "\n",
        "def get_line_f(func):\n",
        "    def line_f(t,x,dx):\n",
        "        return func(x+t*dx)\n",
        "    return jax.jit(line_f)\n",
        "\n",
        "def getLO(f):\n",
        "    def mv(x,v):\n",
        "        return jax.jvp(f,(x,),(jnp.squeeze(v),))[1]\n",
        "\n",
        "    def rmv(x,v):\n",
        "        return jax.vjp(f,x)[1](v)\n",
        "\n",
        "    jit_mv = jax.jit(mv)\n",
        "    jit_rmv = jax.jit(rmv)\n",
        "\n",
        "    def LO(x):\n",
        "        # return LinearOperator((x.size,x.size), matvec = partial(jit_mv,x), rmatvec=partial(jit_rmv, x))\n",
        "        return LinearOperator((x.size,x.size), matvec = partial(jit_mv,x))\n",
        "\n",
        "    return LO"
      ],
      "metadata": {
        "id": "KBrucEQzoXM_"
      },
      "execution_count": 2,
      "outputs": []
    },
    {
      "cell_type": "code",
      "source": [
        "def get_scaled(f):\n",
        "    def scaled(x,scale):\n",
        "        return jnp.sum((f(x)/scale)**2)\n",
        "\n",
        "    return jax.jit(scaled)"
      ],
      "metadata": {
        "id": "4PRCzCHZl3Wf"
      },
      "execution_count": 315,
      "outputs": []
    },
    {
      "cell_type": "code",
      "execution_count": 330,
      "metadata": {
        "id": "VRAPWDmZk99k"
      },
      "outputs": [],
      "source": [
        "rng=np.random.RandomState(123)\n",
        "N=1000\n",
        "N_offdiagonal = int(3*N)\n",
        "xguess=jnp.asarray(np.random.uniform(size=N))\n",
        "triples = rng.randint(0,N,size=(N_offdiagonal,3))\n",
        "eq = rng.randint(0,N,N_offdiagonal)\n",
        "coeff = rng.uniform(-1,1,size=N)\n",
        "mult = np.c_[1*(1+rng.uniform(size=N)),np.ones(N)][np.arange(N),rng.choice([0,1],size=N,p=[0.1,0.9])]\n",
        "\n",
        "def f_orig(x):\n",
        "    x=jnp.asarray(x)+coeff\n",
        "    res=x**2\n",
        "    res=res.at[eq].add(-x[triples[:,0]]*x[triples[:,1]])\n",
        "    return res*mult\n",
        "\n",
        "fsq=get_scaled(f_orig)\n",
        "fsq_grad = jax.jit(jax.grad(fsq))\n",
        "def fsq_hvp(x,scale,v):\n",
        "    return jax.grad(lambda x: jnp.vdot(jax.grad(fsq)(x,scale), v))(x)\n",
        "\n",
        "fsq_hvp_jit=jax.jit(fsq_hvp)\n",
        "\n",
        "def fsq_LO(x, scale):\n",
        "    return LinearOperator((N,N), matvec=lambda v: fsq_hvp_jit(x=x,v=v,scale=scale))"
      ]
    },
    {
      "cell_type": "markdown",
      "source": [
        "## Dog Leg"
      ],
      "metadata": {
        "id": "O3neDRzzuJ5-"
      }
    },
    {
      "cell_type": "code",
      "source": [
        "x1=xguess\n",
        "f1 = fsq(x1, 1)\n",
        "trust_radius=1.\n",
        "for i in range(500):\n",
        "    hvp=fsq_LO(x=x1, scale=1.)\n",
        "    grad=fsq_grad(x1, scale=1)\n",
        "    newton=bicgstab(hvp, -grad,atol=1e-14)[0]\n",
        "\n",
        "    grad_direction_failed=False\n",
        "    while True:\n",
        "        grad_direction=False\n",
        "        newton_norm=np.linalg.norm(newton)\n",
        "        grad_norm=np.linalg.norm(grad)\n",
        "        cauchy = jnp.sum(grad**2)/jnp.sum(((hvp(-grad))**2))\n",
        "\n",
        "        if newton_norm<trust_radius:\n",
        "            x2=x1+newton\n",
        "\n",
        "\n",
        "        elif newton_norm>trust_radius and cauchy*grad_norm > trust_radius:\n",
        "            x2=x1+grad*trust_radius/grad_norm\n",
        "\n",
        "        else: \n",
        "            sd=cauchy*(-grad)\n",
        "            res=root(lambda s: jnp.linalg.norm(sd+s*(newton-sd))-trust_radius,0.5)\n",
        "            x2=x1+sd+res.x*(newton-sd)\n",
        "\n",
        "        f2=fsq(x2, scale=1.)\n",
        "        dx=x2-x1\n",
        "\n",
        "        exp_deltaf=jnp.dot(grad,dx) + jnp.dot(dx,hvp(dx))/2\n",
        "        rho = (f2-f1)/exp_deltaf\n",
        "\n",
        "        if newton_norm>=trust_radius and rho>0.75:\n",
        "            trust_radius*=2\n",
        "        elif rho<0.25:\n",
        "            trust_radius*=0.25\n",
        "\n",
        "        if f2<f1:\n",
        "            break\n",
        "        \n",
        "\n",
        "    print(f'{i:3d}, {f2:8.3e}, {exp_deltaf: 7.3e}, {rho: 7.2f}, {np.linalg.norm(x2-x1):7.2e}, {trust_radius: 7.3e}')\n",
        "    x1=x2\n",
        "    f1=f2\n",
        "    if f1<1e-15:\n",
        "        break\n",
        "    \n",
        "\n",
        "# print(x1)\n",
        "# print(func(x1))"
      ],
      "metadata": {
        "colab": {
          "base_uri": "https://localhost:8080/"
        },
        "id": "W9rzMo2fTBH0",
        "outputId": "e91d0c92-d6b5-477e-8aee-faf47a4b586b"
      },
      "execution_count": 331,
      "outputs": [
        {
          "output_type": "stream",
          "name": "stdout",
          "text": [
            "  0, 1.845e+03, -3.246e+02,    1.00, 1.00e+00,  2.000e+00\n",
            "  1, 1.314e+03, -5.270e+02,    1.01, 2.00e+00,  4.000e+00\n",
            "  2, 6.081e+02, -6.789e+02,    1.04, 4.00e+00,  8.000e+00\n",
            "  3, 1.201e+02, -4.054e+02,    1.20, 6.32e+00,  8.000e+00\n",
            "  4, 2.373e+01, -8.008e+01,    1.20, 4.21e+00,  8.000e+00\n",
            "  5, 4.687e+00, -1.582e+01,    1.20, 2.81e+00,  8.000e+00\n",
            "  6, 9.259e-01, -3.125e+00,    1.20, 1.88e+00,  8.000e+00\n",
            "  7, 1.829e-01, -6.172e-01,    1.20, 1.25e+00,  8.000e+00\n",
            "  8, 3.613e-02, -1.219e-01,    1.20, 8.34e-01,  8.000e+00\n",
            "  9, 7.136e-03, -2.408e-02,    1.20, 5.56e-01,  8.000e+00\n",
            " 10, 1.410e-03, -4.757e-03,    1.20, 3.71e-01,  8.000e+00\n",
            " 11, 2.784e-04, -9.397e-04,    1.20, 2.47e-01,  8.000e+00\n",
            " 12, 5.500e-05, -1.856e-04,    1.20, 1.65e-01,  8.000e+00\n",
            " 13, 1.086e-05, -3.667e-05,    1.20, 1.10e-01,  8.000e+00\n",
            " 14, 2.146e-06, -7.243e-06,    1.20, 7.35e-02,  8.000e+00\n",
            " 15, 4.239e-07, -1.431e-06,    1.20, 4.90e-02,  8.000e+00\n",
            " 16, 8.373e-08, -2.826e-07,    1.20, 3.27e-02,  8.000e+00\n",
            " 17, 1.654e-08, -5.582e-08,    1.20, 2.18e-02,  8.000e+00\n",
            " 18, 3.267e-09, -1.103e-08,    1.20, 1.45e-02,  8.000e+00\n",
            " 19, 6.454e-10, -2.178e-09,    1.20, 9.69e-03,  8.000e+00\n",
            " 20, 1.275e-10, -4.302e-10,    1.20, 6.46e-03,  8.000e+00\n",
            " 21, 2.518e-11, -8.499e-11,    1.20, 4.31e-03,  8.000e+00\n",
            " 22, 4.974e-12, -1.679e-11,    1.20, 2.87e-03,  8.000e+00\n",
            " 23, 9.825e-13, -3.316e-12,    1.20, 1.91e-03,  8.000e+00\n",
            " 24, 1.941e-13, -6.550e-13,    1.20, 1.28e-03,  8.000e+00\n",
            " 25, 3.833e-14, -1.294e-13,    1.20, 8.81e-04,  8.000e+00\n",
            " 26, 7.571e-15, -2.555e-14,    1.20, 5.73e-04,  8.000e+00\n",
            " 27, 1.497e-15, -5.047e-15,    1.20, 3.80e-04,  8.000e+00\n",
            " 28, 2.968e-16, -9.975e-16,    1.20, 2.53e-04,  8.000e+00\n"
          ]
        }
      ]
    },
    {
      "cell_type": "markdown",
      "source": [
        "# previous TN"
      ],
      "metadata": {
        "id": "eljqBP21TDIX"
      }
    },
    {
      "cell_type": "code",
      "source": [
        "x1=xguess\n",
        "f1 = fsq(x1, 1)\n",
        "trust_radius=1.\n",
        "for i in range(100):\n",
        "    hvp=fsq_LO(x=x1, scale=1.)\n",
        "    grad=fsq_grad(x1, scale=1)\n",
        "    dx=bicgstab(hvp, -grad,atol=1e-14)[0]\n",
        "\n",
        "    grad_direction_failed=False\n",
        "    while True:\n",
        "        grad_direction=False\n",
        "        dx_norm=np.linalg.norm(dx)\n",
        "        if dx_norm>trust_radius:\n",
        "            dx=dx*trust_radius/dx_norm\n",
        "\n",
        "        x2=x1+dx\n",
        "        f2=fsq(x2, scale=1.)\n",
        "\n",
        "\n",
        "        exp_deltaf=jnp.dot(grad,dx) + jnp.dot(dx,hvp(dx))/2\n",
        "\n",
        "        rho = (f2-f1)/exp_deltaf\n",
        "\n",
        "        if exp_deltaf<0:\n",
        "            if rho>0.75 and dx_norm>trust_radius:\n",
        "                trust_radius*=2\n",
        "                break\n",
        "            elif rho>0.75:\n",
        "                trust_radius=dx_norm*2\n",
        "                break\n",
        "            elif rho>0.25:\n",
        "                break\n",
        "            trust_radius*=0.5\n",
        "\n",
        "        else:\n",
        "            print('grad')\n",
        "            dx=-grad\n",
        "            for j in range(32):\n",
        "                x2=x1+dx\n",
        "                f2=fsq(x2)\n",
        "                if f2 > f1:\n",
        "                    dx*=0.5\n",
        "                else:\n",
        "                    break\n",
        "            if j==31:\n",
        "                grad_direction_failed=True\n",
        "                break\n",
        "            grad_direction=True\n",
        "            break\n",
        "\n",
        "\n",
        "\n",
        "    print(f'{i:3d}, {jnp.sum(f_orig(x2)**2):8.3e}, {f2:8.3e}, {(f2-f1): 7.3e}, {exp_deltaf: 7.3e}, {rho: 7.2f}, {np.linalg.norm(dx):7.2e}, {trust_radius: 7.3e}',end='')\n",
        "    if grad_direction:\n",
        "        print(f',  grad: {j:3d}',end='')\n",
        "    print('')\n",
        "    x1=x2\n",
        "    f1=f2\n",
        "    if f1<1e-15:\n",
        "        break\n",
        "    \n",
        "\n",
        "# print(x1)\n",
        "# print(func(x1))"
      ],
      "metadata": {
        "id": "md7TmcH6lPQO",
        "colab": {
          "base_uri": "https://localhost:8080/"
        },
        "outputId": "7735e759-394a-4f2d-e9b5-3d688a0d80e9"
      },
      "execution_count": 281,
      "outputs": [
        {
          "output_type": "stream",
          "name": "stdout",
          "text": [
            "  0, 1.245e+02, 1.245e+02, -8.245e+01, -8.108e+01,    1.02, 1.00e+00,  2.000e+00\n",
            "  1, 3.516e+01, 3.516e+01, -8.931e+01, -8.007e+01,    1.12, 2.00e+00,  4.000e+00\n",
            "  2, 6.945e+00, 6.945e+00, -2.822e+01, -2.344e+01,    1.20, 1.79e+00,  3.587e+00\n",
            "  3, 1.372e+00, 1.372e+00, -5.573e+00, -4.630e+00,    1.20, 1.20e+00,  2.391e+00\n",
            "  4, 2.710e-01, 2.710e-01, -1.101e+00, -9.146e-01,    1.20, 7.97e-01,  1.594e+00\n",
            "  5, 5.353e-02, 5.353e-02, -2.175e-01, -1.807e-01,    1.20, 5.31e-01,  1.063e+00\n",
            "  6, 1.057e-02, 1.057e-02, -4.296e-02, -3.569e-02,    1.20, 3.54e-01,  7.087e-01\n",
            "  7, 2.089e-03, 2.089e-03, -8.485e-03, -7.049e-03,    1.20, 2.36e-01,  4.724e-01\n",
            "  8, 4.126e-04, 4.126e-04, -1.676e-03, -1.392e-03,    1.20, 1.57e-01,  3.150e-01\n",
            "  9, 8.150e-05, 8.150e-05, -3.311e-04, -2.750e-04,    1.20, 1.05e-01,  2.100e-01\n",
            " 10, 1.610e-05, 1.610e-05, -6.540e-05, -5.433e-05,    1.20, 7.00e-02,  1.400e-01\n",
            " 11, 3.180e-06, 3.180e-06, -1.292e-05, -1.073e-05,    1.20, 4.67e-02,  9.332e-02\n",
            " 12, 6.281e-07, 6.281e-07, -2.552e-06, -2.120e-06,    1.20, 3.11e-02,  6.222e-02\n",
            " 13, 1.241e-07, 1.241e-07, -5.040e-07, -4.187e-07,    1.20, 2.07e-02,  4.148e-02\n",
            " 14, 2.451e-08, 2.451e-08, -9.956e-08, -8.271e-08,    1.20, 1.38e-02,  2.765e-02\n",
            " 15, 4.841e-09, 4.841e-09, -1.967e-08, -1.634e-08,    1.20, 9.22e-03,  1.843e-02\n",
            " 16, 9.563e-10, 9.563e-10, -3.885e-09, -3.227e-09,    1.20, 6.15e-03,  1.229e-02\n",
            " 17, 1.889e-10, 1.889e-10, -7.674e-10, -6.375e-10,    1.20, 4.10e-03,  8.193e-03\n",
            " 18, 3.731e-11, 3.731e-11, -1.516e-10, -1.259e-10,    1.20, 2.73e-03,  5.462e-03\n",
            " 19, 7.370e-12, 7.370e-12, -2.994e-11, -2.487e-11,    1.20, 1.82e-03,  3.641e-03\n",
            " 20, 1.456e-12, 1.456e-12, -5.914e-12, -4.914e-12,    1.20, 1.21e-03,  2.428e-03\n",
            " 21, 2.876e-13, 2.876e-13, -1.168e-12, -9.706e-13,    1.20, 8.09e-04,  1.618e-03\n",
            " 22, 5.681e-14, 5.681e-14, -2.308e-13, -1.917e-13,    1.20, 5.39e-04,  1.079e-03\n",
            " 23, 1.122e-14, 1.122e-14, -4.558e-14, -3.787e-14,    1.20, 3.60e-04,  7.194e-04\n",
            " 24, 2.216e-15, 2.216e-15, -9.004e-15, -7.481e-15,    1.20, 2.40e-04,  4.793e-04\n",
            " 25, 4.378e-16, 4.378e-16, -1.779e-15, -1.478e-15,    1.20, 1.59e-04,  3.189e-04\n"
          ]
        }
      ]
    },
    {
      "cell_type": "markdown",
      "source": [
        "## Line Search"
      ],
      "metadata": {
        "id": "EwdgTGU8sD5T"
      }
    },
    {
      "cell_type": "code",
      "source": [
        "x1=xguess\n",
        "f1 = fsq(x1, 1)\n",
        "for i in range(100):\n",
        "    gradient_direction=False\n",
        "    hvp=fsq_LO(x=x1, scale=1.)\n",
        "    grad=fsq_grad(x1, scale=1)\n",
        "    dx=bicgstab(hvp, -grad,atol=1e-14)[0]\n",
        "    alpha, fc, f2 = scipy.optimize.linesearch.line_search_armijo(lambda x: fsq(x,scale=1), x1, dx, grad, f1, c1=0.5)\n",
        "    if alpha is None or alpha <1e-10:\n",
        "        dx=-grad\n",
        "        alpha, fc, f2 = scipy.optimize.linesearch.line_search_armijo(lambda x: fsq(x, scale=1), x1, dx, grad, f1, c1=0.5)\n",
        "        gradient_direction=True\n",
        "    x2 = x1 + alpha*dx\n",
        "    f2 = fsq(x2, scale=1)\n",
        "    print(f'{i:3d}, {fc:3d},{f2:9.3e}, {np.linalg.norm(alpha*dx):9.2e}, {alpha: 9.3e}',end='')\n",
        "    if gradient_direction:\n",
        "        print(' gradient direction', end='')\n",
        "    print()\n",
        "    x1=x2\n",
        "    f1=f2\n",
        "    if f1<1e-15:\n",
        "        break"
      ],
      "metadata": {
        "id": "Z29xcRjdsLqD"
      },
      "execution_count": null,
      "outputs": []
    }
  ]
}