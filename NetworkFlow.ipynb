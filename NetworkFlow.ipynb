{
  "nbformat": 4,
  "nbformat_minor": 0,
  "metadata": {
    "colab": {
      "name": "NetworkFlow.ipynb",
      "provenance": [],
      "authorship_tag": "ABX9TyOPB7c4UraGcvWPq6k4pzf2",
      "include_colab_link": true
    },
    "kernelspec": {
      "name": "python3",
      "display_name": "Python 3"
    },
    "language_info": {
      "name": "python"
    }
  },
  "cells": [
    {
      "cell_type": "markdown",
      "metadata": {
        "id": "view-in-github",
        "colab_type": "text"
      },
      "source": [
        "<a href=\"https://colab.research.google.com/github/profteachkids/CHE5136_Fall2021/blob/main/NetworkFlow.ipynb\" target=\"_parent\"><img src=\"https://colab.research.google.com/assets/colab-badge.svg\" alt=\"Open In Colab\"/></a>"
      ]
    },
    {
      "cell_type": "code",
      "metadata": {
        "id": "-cpcsYGBgUdF"
      },
      "source": [
        "import numpy as np\n",
        "from scipy.optimize import newton, root"
      ],
      "execution_count": 1,
      "outputs": []
    },
    {
      "cell_type": "code",
      "metadata": {
        "id": "dXAGuPMHjozQ"
      },
      "source": [
        "g=9.81\n",
        "rho=1e3\n",
        "mu=1e-3\n",
        "D=0.1\n",
        "eD=1e-3"
      ],
      "execution_count": 2,
      "outputs": []
    },
    {
      "cell_type": "code",
      "metadata": {
        "id": "iAzfhLJBgdii"
      },
      "source": [
        "# Calculates the friction factor using Churchill correlation \n",
        "def f(Re,eD):\n",
        "    A=(2.457*np.log(1/((7./Re)**0.9+0.27*eD)))**16\n",
        "    B=(37530/Re)**16\n",
        "    return 2*((8/Re)**12 + 1/(A+B)**(1.5))**(1/12)"
      ],
      "execution_count": 5,
      "outputs": []
    },
    {
      "cell_type": "code",
      "metadata": {
        "id": "jLtFtZT1WxTN"
      },
      "source": [
        "# Given a flow Q, calculates delta Head  (head at ToNode) - (head at FromNode)\n",
        "def dHead(Q,L,K,D,eD):\n",
        "    v=np.abs(Q/(np.pi*D**2/4))  #ensures that we do not end up with negative Reynolds numbers\n",
        "    Re= rho*v*D/mu\n",
        "    return -np.sign(Q)*(K+4*f(Re,eD)*L/D)*(v**2/2)/g  #incorporate back in sign (directionality) of Q (flow)"
      ],
      "execution_count": 6,
      "outputs": []
    },
    {
      "cell_type": "code",
      "metadata": {
        "id": "qKwSojsBhY7t"
      },
      "source": [
        "# Given deltaHead, it calculates the flow (with proper signage)\n",
        "def flow(deltaHead, L, K, D, eD):\n",
        "    dH_abs=np.abs(deltaHead)  #ensures no negative Re\n",
        "    if dH_abs<1e-10: #takes care of situation where deltaHead is extremely small, for which\n",
        "    # the numerical solver (newton) has difficulty converging\n",
        "        return 0.0\n",
        "\n",
        "    Qguess=np.pi*D**2/4*np.sqrt(dH_abs/(K+4*0.01*L/D)*2*g)  #Initial guess for flow rate, assuming a reasonable\n",
        "    #guess of 0.01 for the Fanning friction factor\n",
        "\n",
        "    #function to zero - Calculated deltahead based on the iterated flow rate (Q) must be equal to the deltaHead\n",
        "    #given.\n",
        "    def f_to_zero(Q):\n",
        "        return dHead(Q,L,K,D,eD)-dH_abs\n",
        "\n",
        "    resulting_flow_rate=newton(f_to_zero,Qguess)\n",
        "\n",
        "    return np.sign(deltaHead)*resulting_flow_rate  #Correct for directionality of deltaHead"
      ],
      "execution_count": 7,
      "outputs": []
    },
    {
      "cell_type": "code",
      "metadata": {
        "id": "LmJSJTIxEG2F"
      },
      "source": [
        "#fromNode, toNode, L, K\n",
        "pipes = np.array([[0, 1, 60., 1.5],\n",
        "                  [0, 2, 70., 2.],\n",
        "                  [1,2, 100., 0],\n",
        "                  [1, 3, 50., 0],\n",
        "                  [2,4, 5., 0],\n",
        "                  [3,4, 5., 2]])\n",
        "\n",
        "z=np.array([30.,0,0,0,0 ])\n",
        "externalP=np.array([2e5, 0.])\n",
        "externalNodes=[0, 4]\n",
        "fromNodes=(pipes[:,0]).astype(np.int32)\n",
        "toNodes=(pipes[:,1]).astype(np.int32)\n",
        "lengths=pipes[:,2]\n",
        "K = pipes[:,3]\n",
        "\n",
        "nPipes = pipes.shape[0]\n",
        "pipeD = np.full(nPipes, D)\n",
        "pipe_eD = np.full(nPipes,eD)\n",
        "\n",
        "# number of nodes will the maximum in the column for ToNodes because numbering of pipes is always\n",
        "# from nodes of lower index to a node of higher index.  Add 1, because indexing starts at 0.\n",
        "nNodes = (np.max(pipes[:,1])).astype(np.int32)+1\n",
        "heads=np.zeros(nNodes)\n",
        "heads[externalNodes]=externalP/rho/g + z[externalNodes]"
      ],
      "execution_count": 4,
      "outputs": []
    },
    {
      "cell_type": "code",
      "metadata": {
        "id": "n2J_jHCMoCly"
      },
      "source": [
        "internalNodes=list(set(range(nNodes))-set(externalNodes))"
      ],
      "execution_count": 8,
      "outputs": []
    },
    {
      "cell_type": "code",
      "metadata": {
        "id": "xuZ-x1tQaGji"
      },
      "source": [
        "# from iterated values of heads, calculate flows through each pipe\n",
        "def calc_flows(heads):\n",
        "    flows=np.zeros(nPipes)\n",
        "    for i in range(nPipes):\n",
        "        deltaHead = heads[toNodes[i]] - heads[fromNodes[i]]\n",
        "        flows[i]=flow(deltaHead, lengths[i], K[i], pipeD[i], pipe_eD[i])\n",
        "    return flows\n",
        "\n",
        "# from flows through each pipe, calculates net flows for all nodes (internal and external)\n",
        "def calc_netQ(flows):\n",
        "    netQ=np.zeros(nNodes)\n",
        "    np.add.at(netQ,toNodes,flows)\n",
        "    np.add.at(netQ,fromNodes,-flows)  # flows leaving a node are negative\n",
        "    return netQ"
      ],
      "execution_count": 13,
      "outputs": []
    },
    {
      "cell_type": "code",
      "metadata": {
        "id": "vs3tEBhWcZ-3"
      },
      "source": [
        "# function to find the roots (zeros) of.  The net flow for all internal nodes must be zero\n",
        "# achieved by iterating through the unknown internal node pressures\n",
        "def netQ_internal(internalP):\n",
        "    heads[internalNodes]=internalP/rho/g + z[internalNodes]\n",
        "    return calc_netQ(calc_flows(heads))[internalNodes]\n"
      ],
      "execution_count": 14,
      "outputs": []
    },
    {
      "cell_type": "code",
      "metadata": {
        "id": "ycYBTdTQp7Tt"
      },
      "source": [
        "# to obtain initial guess for internal pressures, reasonable to say that the internal heads are the average\n",
        "# of the known external heads.\n",
        "internalHeadGuess=np.mean(heads[externalNodes])\n",
        "\n",
        "# H = P/(rho*g) + z : calculate internal P guess from internal H guesses\n",
        "internalPGuess = (internalHeadGuess - z[internalNodes])*rho*g "
      ],
      "execution_count": 15,
      "outputs": []
    },
    {
      "cell_type": "code",
      "metadata": {
        "id": "5PECBbKycbtZ",
        "colab": {
          "base_uri": "https://localhost:8080/"
        },
        "outputId": "fc804c0e-2637-4708-d501-b33659230b4e"
      },
      "source": [
        "# solve for unknown internal node pressures\n",
        "result=root(netQ_internal, internalPGuess)\n",
        "result.x"
      ],
      "execution_count": 16,
      "outputs": [
        {
          "output_type": "execute_result",
          "data": {
            "text/plain": [
              "array([133464.41021246,  52135.14844791,  30474.73355369])"
            ]
          },
          "metadata": {},
          "execution_count": 16
        }
      ]
    },
    {
      "cell_type": "code",
      "metadata": {
        "colab": {
          "base_uri": "https://localhost:8080/"
        },
        "id": "LsCyD-hejy_9",
        "outputId": "c8fb53d2-adfd-493a-d0c3-7a6d8b1057c8"
      },
      "source": [
        "# flows through each pipe\n",
        "calculated_flows = calc_flows(heads)\n",
        "for i in range(nPipes):\n",
        "    print(f'from: {int(pipes[i,0])}    to: {int(pipes[i,1])}    flow: {calculated_flows[i]}')"
      ],
      "execution_count": 17,
      "outputs": [
        {
          "output_type": "stream",
          "name": "stdout",
          "text": [
            "from: 0    to: 1    flow: 0.05723605519195981\n",
            "from: 0    to: 2    flow: 0.058211401929411016\n",
            "from: 1    to: 2    flow: 0.021957978758436632\n",
            "from: 1    to: 3    flow: 0.035278076425850534\n",
            "from: 2    to: 4    flow: 0.0801693807290536\n",
            "from: 3    to: 4    flow: 0.03527807640245728\n"
          ]
        }
      ]
    },
    {
      "cell_type": "code",
      "metadata": {
        "id": "gUKMV6Mijzln",
        "colab": {
          "base_uri": "https://localhost:8080/"
        },
        "outputId": "a9916348-8ad0-42d9-f0eb-2e8739c44a39"
      },
      "source": [
        "# net flow, pressure, and elevation for each node\n",
        "calculated_netQ = calc_netQ(calc_flows(heads))\n",
        "\n",
        "pressure = np.zeros(nNodes)\n",
        "pressure[externalNodes]= externalP\n",
        "pressure[internalNodes]= result.x\n",
        "for i in range(nNodes):\n",
        "    print(f'Node {i}   Pressure: {pressure[i]}   z: {z[i]}    NetQ: {calculated_netQ[i]}')"
      ],
      "execution_count": 18,
      "outputs": [
        {
          "output_type": "stream",
          "name": "stdout",
          "text": [
            "Node 0   Pressure: 200000.0   z: 30.0    NetQ: -0.11544745712137083\n",
            "Node 1   Pressure: 133464.41021246117   z: 0.0    NetQ: 7.672647239775898e-12\n",
            "Node 2   Pressure: 52135.1484479133   z: 0.0    NetQ: -4.120594143675049e-11\n",
            "Node 3   Pressure: 30474.73355368875   z: 0.0    NetQ: 2.339325261280223e-11\n",
            "Node 4   Pressure: 0.0   z: 0.0    NetQ: 0.11544745713151087\n"
          ]
        }
      ]
    },
    {
      "cell_type": "code",
      "metadata": {
        "id": "UzmOZC0zrm21"
      },
      "source": [
        ""
      ],
      "execution_count": null,
      "outputs": []
    }
  ]
}