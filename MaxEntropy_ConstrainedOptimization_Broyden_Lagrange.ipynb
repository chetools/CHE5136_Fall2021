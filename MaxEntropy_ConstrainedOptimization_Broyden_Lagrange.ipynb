{
  "nbformat": 4,
  "nbformat_minor": 0,
  "metadata": {
    "colab": {
      "name": "MaxEntropy_ConstrainedOptimization_Broyden_Lagrange.ipynb",
      "provenance": [],
      "collapsed_sections": [],
      "include_colab_link": true
    },
    "kernelspec": {
      "name": "python3",
      "display_name": "Python 3"
    }
  },
  "cells": [
    {
      "cell_type": "markdown",
      "metadata": {
        "id": "view-in-github",
        "colab_type": "text"
      },
      "source": [
        "<a href=\"https://colab.research.google.com/github/profteachkids/CHE5136_Fall2021/blob/main/MaxEntropy_ConstrainedOptimization_Broyden_Lagrange.ipynb\" target=\"_parent\"><img src=\"https://colab.research.google.com/assets/colab-badge.svg\" alt=\"Open In Colab\"/></a>"
      ]
    },
    {
      "cell_type": "markdown",
      "metadata": {
        "id": "r7erlT8BeFG0"
      },
      "source": [
        "N students take an exam scored out of 50 points.  The most probable distribution would be a uniform one where $n_i = \\frac{N}{n_{grades}} = 50$.  The number of combinations in which N students can be distributed over $n_{grades}$ grades is\n",
        "\n",
        "$$\\Omega = \\dfrac{N!}{\\prod\\limits_{i=0}^{n_{grades}} n_i}$$\n",
        "\n",
        "Taking the logarithm of both sides then applying Stirling's approximation $\\ln n! = n \\ln n - n$ and noting that $N = \\sum\\limits_{i=0}^{n_{grades}} n_i $ yields the Shannon entropy of the system:\n",
        "\n",
        "$$\\ln \\Omega = N \\ln N - \\sum\\limits_{i=0}^{n_{grades}}  n_i \\ln n_i = -N\\sum\\limits_{i=0}^{n_{grades}}p_i \\ln p_i$$\n",
        "\n",
        "\n"
      ]
    },
    {
      "cell_type": "code",
      "metadata": {
        "id": "pSn9gFjtaOHl"
      },
      "source": [
        "import jax\n",
        "import jax.numpy as jnp\n",
        "from scipy.optimize import root\n",
        "from jax.config import config\n",
        "config.update(\"jax_enable_x64\", True)\n",
        "from plotly.subplots import make_subplots\n",
        "import plotly.io as pio\n",
        "pio.templates.default='plotly_dark'\n",
        "eps=1e-12"
      ],
      "execution_count": 53,
      "outputs": []
    },
    {
      "cell_type": "code",
      "metadata": {
        "id": "zWHrG88Whssf"
      },
      "source": [
        "def broyden3(func, x, J=None, tol=1e-10, max_iter=100, verbose=0, xmax=jnp.inf, xmin=-jnp.inf):\n",
        "    Jf = jax.jacobian(func) if J is None else J\n",
        "    J = Jf(x)\n",
        "    Jinv = jnp.linalg.inv(J)\n",
        "    f = func(x)\n",
        "\n",
        "    for i in range(max_iter):\n",
        "\n",
        "        dx = - Jinv @ f\n",
        "        if verbose>0:\n",
        "            print(f\"\\nIter: {i}  dx: {dx}\")\n",
        "\n",
        "        alpha_max_limits = jnp.min(jnp.where(x + dx > xmax, (xmax - x) / (dx), 1))\n",
        "        alpha_min_limits = jnp.min(jnp.where(x + dx < xmin, (xmin - x) / (dx), 1))\n",
        "        alpha = min(alpha_max_limits, alpha_min_limits)\n",
        "\n",
        "        while alpha > 0.01:\n",
        "            dx_try = alpha*dx\n",
        "            xp = x + dx_try\n",
        "            fp = func(xp)\n",
        "            dnorm = jnp.linalg.norm(fp)-jnp.linalg.norm(f)\n",
        "            if verbose>1:\n",
        "                print(f\"Alpha {alpha}   dnorm {dnorm}  dx_try {dx_try}   f {f}    fp {fp}\")\n",
        "            if dnorm > 0:\n",
        "                alpha *= 0.5\n",
        "            else:\n",
        "                break\n",
        "        if alpha <= 0.01:\n",
        "            if verbose>0:\n",
        "                print(\"reevaluate J\")\n",
        "            Jinv = jnp.linalg.inv(Jf(x))\n",
        "            continue\n",
        "\n",
        "        dx=dx_try\n",
        "        f= fp\n",
        "        x= xp\n",
        "        if verbose>0:\n",
        "          print(x, f)\n",
        "        if jnp.all(jnp.abs(f)<tol):\n",
        "          break\n",
        "\n",
        "        u = jnp.expand_dims(fp,1)\n",
        "        v = jnp.expand_dims(dx,1)/jnp.linalg.norm(dx)**2\n",
        "        Jinv = Jinv - Jinv @ u @ v.T @ Jinv / (1 + v.T @ Jinv @ u)  #Sherman-Morrison\n",
        "    return x, f, i"
      ],
      "execution_count": 99,
      "outputs": []
    },
    {
      "cell_type": "code",
      "metadata": {
        "id": "iO1a-37IaSut"
      },
      "source": [
        "n_grades = 50\n",
        "p_guess = jnp.full(n_grades, 1/n_grades)\n",
        "grades = jnp.arange(n_grades)\n",
        "\n",
        "p_min = jnp.full(n_grades, -20.)\n",
        "p_max = -p_min\n",
        "\n",
        "def entropy(p):\n",
        "    return jnp.sum(p[:n_grades]*jnp.log(p[:n_grades]))\n",
        "\n",
        "def p_constraint(p):\n",
        "    return jnp.sum(p[:n_grades])-1.\n",
        "\n",
        "def avg_constraint(p):\n",
        "    return jnp.sum(p[:n_grades]*grades)-25.\n",
        "\n",
        "def std_constraint(p):\n",
        "    avg = jnp.sum(p[:n_grades]*grades)\n",
        "    std= jnp.sqrt(jnp.sum(p[:n_grades]*(grades - avg)**2 )) - 5.\n",
        "    return std"
      ],
      "execution_count": 143,
      "outputs": []
    },
    {
      "cell_type": "code",
      "metadata": {
        "id": "FYik3wnKhvyD"
      },
      "source": [
        "def L(p):\n",
        "    pp = jax.scipy.special.expit(p[:n_grades])\n",
        "    return entropy(pp)+p[-1]*p_constraint(pp)+p[-2]*avg_constraint(pp)+p[-3]*std_constraint(pp)\n",
        "\n",
        "dL = jax.jit(jax.grad(L))"
      ],
      "execution_count": 144,
      "outputs": []
    },
    {
      "cell_type": "code",
      "metadata": {
        "id": "l_gTgxjFtPDh"
      },
      "source": [
        "dL_guess = jnp.concatenate([jax.scipy.special.logit(p_guess), jnp.full(3,1.)])"
      ],
      "execution_count": 145,
      "outputs": []
    },
    {
      "cell_type": "code",
      "metadata": {
        "id": "8kdO9fSvh0C8",
        "colab": {
          "base_uri": "https://localhost:8080/"
        },
        "outputId": "77dd36d5-81a8-4371-9c0f-1d5253bfef50"
      },
      "source": [
        "p,f, i =broyden3(dL, dL_guess, tol=1e-10, xmin=jnp.concatenate([p_min, jnp.full(3,-jnp.inf)]),\n",
        "              xmax=jnp.concatenate([p_max, jnp.full(3,jnp.inf)]), max_iter=500)\n",
        "print(i)"
      ],
      "execution_count": 146,
      "outputs": [
        {
          "output_type": "stream",
          "name": "stdout",
          "text": [
            "67\n"
          ]
        }
      ]
    },
    {
      "cell_type": "code",
      "metadata": {
        "colab": {
          "base_uri": "https://localhost:8080/"
        },
        "id": "It0Nigo0LJTi",
        "outputId": "5b8b01b3-fc08-4214-91f9-6b47a33a6456"
      },
      "source": [
        "pp = jax.scipy.special.expit(p[:n_grades])\n",
        "pp"
      ],
      "execution_count": 147,
      "outputs": [
        {
          "output_type": "execute_result",
          "data": {
            "text/plain": [
              "DeviceArray([2.97398593e-07, 7.92393859e-07, 2.02848386e-06,\n",
              "             4.98919509e-06, 1.17901115e-05, 2.67691042e-05,\n",
              "             5.83953494e-05, 1.22391479e-04, 2.46463493e-04,\n",
              "             4.76850801e-04, 8.86422824e-04, 1.58317106e-03,\n",
              "             2.71670981e-03, 4.47906286e-03, 7.09511702e-03,\n",
              "             1.07984262e-02, 1.57902813e-02, 2.21844039e-02,\n",
              "             2.99456787e-02, 3.88373021e-02, 4.83941031e-02,\n",
              "             5.79381114e-02, 6.66445625e-02, 7.36535367e-02,\n",
              "             7.82079655e-02, 7.97878695e-02, 7.82080120e-02,\n",
              "             7.36536244e-02, 6.66446814e-02, 5.79382492e-02,\n",
              "             4.83942470e-02, 3.88374407e-02, 2.99458033e-02,\n",
              "             2.21845095e-02, 1.57903658e-02, 1.07984905e-02,\n",
              "             7.09516344e-03, 4.47909483e-03, 2.71673082e-03,\n",
              "             1.58318424e-03, 8.86430733e-04, 4.76855339e-04,\n",
              "             2.46465986e-04, 1.22392789e-04, 5.83960093e-05,\n",
              "             2.67694227e-05, 1.17902588e-05, 4.98926026e-06,\n",
              "             2.02851296e-06, 7.92405264e-07], dtype=float64)"
            ]
          },
          "metadata": {},
          "execution_count": 147
        }
      ]
    },
    {
      "cell_type": "code",
      "metadata": {
        "colab": {
          "base_uri": "https://localhost:8080/",
          "height": 542
        },
        "id": "VxDlTmEjr5jR",
        "outputId": "223862c4-0eda-485e-8c6c-1a30cfe9f4fe"
      },
      "source": [
        "fig=make_subplots()\n",
        "fig.add_bar(x=grades,y=pp)"
      ],
      "execution_count": 148,
      "outputs": [
        {
          "output_type": "display_data",
          "data": {
            "text/html": [
              "<html>\n",
              "<head><meta charset=\"utf-8\" /></head>\n",
              "<body>\n",
              "    <div>\n",
              "            <script src=\"https://cdnjs.cloudflare.com/ajax/libs/mathjax/2.7.5/MathJax.js?config=TeX-AMS-MML_SVG\"></script><script type=\"text/javascript\">if (window.MathJax) {MathJax.Hub.Config({SVG: {font: \"STIX-Web\"}});}</script>\n",
              "                <script type=\"text/javascript\">window.PlotlyConfig = {MathJaxConfig: 'local'};</script>\n",
              "        <script src=\"https://cdn.plot.ly/plotly-latest.min.js\"></script>    \n",
              "            <div id=\"cbb2fffd-e947-467f-95a8-4515f232be26\" class=\"plotly-graph-div\" style=\"height:525px; width:100%;\"></div>\n",
              "            <script type=\"text/javascript\">\n",
              "                \n",
              "                    window.PLOTLYENV=window.PLOTLYENV || {};\n",
              "                    \n",
              "                if (document.getElementById(\"cbb2fffd-e947-467f-95a8-4515f232be26\")) {\n",
              "                    Plotly.newPlot(\n",
              "                        'cbb2fffd-e947-467f-95a8-4515f232be26',\n",
              "                        [{\"type\": \"bar\", \"x\": [0, 1, 2, 3, 4, 5, 6, 7, 8, 9, 10, 11, 12, 13, 14, 15, 16, 17, 18, 19, 20, 21, 22, 23, 24, 25, 26, 27, 28, 29, 30, 31, 32, 33, 34, 35, 36, 37, 38, 39, 40, 41, 42, 43, 44, 45, 46, 47, 48, 49], \"y\": [2.973985931100178e-07, 7.923938594727859e-07, 2.0284838621972793e-06, 4.989195091658392e-06, 1.17901115366132e-05, 2.6769104222516248e-05, 5.839534940003712e-05, 0.00012239147869323415, 0.0002464634934893648, 0.0004768508005898724, 0.0008864228239524253, 0.0015831710563558483, 0.0027167098087909733, 0.004479062864431292, 0.007095117020942638, 0.010798426221074154, 0.015790281257336353, 0.02218440391479363, 0.029945678650509948, 0.03883730212139675, 0.04839410305301876, 0.05793811136109188, 0.06664456247720084, 0.07365353674105701, 0.07820796551835806, 0.07978786950271752, 0.07820801203650703, 0.0736536243594266, 0.06664468139795941, 0.057938249207720775, 0.04839424697741052, 0.03883744072431888, 0.02994580333269699, 0.022184509477396943, 0.015790365786163937, 0.010798490450355788, 0.007095163443063327, 0.0044790948343301044, 0.0027167308155759463, 0.0015831842398033162, 0.0008864307326584773, 0.0004768553387088034, 0.0002464659856442247, 0.0001223927890735936, 5.839600934219848e-05, 2.6769422669987007e-05, 1.1790258805567621e-05, 4.989260256143298e-06, 2.028512963270365e-06, 7.924052641984481e-07]}],\n",
              "                        {\"template\": {\"data\": {\"bar\": [{\"error_x\": {\"color\": \"#f2f5fa\"}, \"error_y\": {\"color\": \"#f2f5fa\"}, \"marker\": {\"line\": {\"color\": \"rgb(17,17,17)\", \"width\": 0.5}}, \"type\": \"bar\"}], \"barpolar\": [{\"marker\": {\"line\": {\"color\": \"rgb(17,17,17)\", \"width\": 0.5}}, \"type\": \"barpolar\"}], \"carpet\": [{\"aaxis\": {\"endlinecolor\": \"#A2B1C6\", \"gridcolor\": \"#506784\", \"linecolor\": \"#506784\", \"minorgridcolor\": \"#506784\", \"startlinecolor\": \"#A2B1C6\"}, \"baxis\": {\"endlinecolor\": \"#A2B1C6\", \"gridcolor\": \"#506784\", \"linecolor\": \"#506784\", \"minorgridcolor\": \"#506784\", \"startlinecolor\": \"#A2B1C6\"}, \"type\": \"carpet\"}], \"choropleth\": [{\"colorbar\": {\"outlinewidth\": 0, \"ticks\": \"\"}, \"type\": \"choropleth\"}], \"contour\": [{\"colorbar\": {\"outlinewidth\": 0, \"ticks\": \"\"}, \"colorscale\": [[0.0, \"#0d0887\"], [0.1111111111111111, \"#46039f\"], [0.2222222222222222, \"#7201a8\"], [0.3333333333333333, \"#9c179e\"], [0.4444444444444444, \"#bd3786\"], [0.5555555555555556, \"#d8576b\"], [0.6666666666666666, \"#ed7953\"], [0.7777777777777778, \"#fb9f3a\"], [0.8888888888888888, \"#fdca26\"], [1.0, \"#f0f921\"]], \"type\": \"contour\"}], \"contourcarpet\": [{\"colorbar\": {\"outlinewidth\": 0, \"ticks\": \"\"}, \"type\": \"contourcarpet\"}], \"heatmap\": [{\"colorbar\": {\"outlinewidth\": 0, \"ticks\": \"\"}, \"colorscale\": [[0.0, \"#0d0887\"], [0.1111111111111111, \"#46039f\"], [0.2222222222222222, \"#7201a8\"], [0.3333333333333333, \"#9c179e\"], [0.4444444444444444, \"#bd3786\"], [0.5555555555555556, \"#d8576b\"], [0.6666666666666666, \"#ed7953\"], [0.7777777777777778, \"#fb9f3a\"], [0.8888888888888888, \"#fdca26\"], [1.0, \"#f0f921\"]], \"type\": \"heatmap\"}], \"heatmapgl\": [{\"colorbar\": {\"outlinewidth\": 0, \"ticks\": \"\"}, \"colorscale\": [[0.0, \"#0d0887\"], [0.1111111111111111, \"#46039f\"], [0.2222222222222222, \"#7201a8\"], [0.3333333333333333, \"#9c179e\"], [0.4444444444444444, \"#bd3786\"], [0.5555555555555556, \"#d8576b\"], [0.6666666666666666, \"#ed7953\"], [0.7777777777777778, \"#fb9f3a\"], [0.8888888888888888, \"#fdca26\"], [1.0, \"#f0f921\"]], \"type\": \"heatmapgl\"}], \"histogram\": [{\"marker\": {\"colorbar\": {\"outlinewidth\": 0, \"ticks\": \"\"}}, \"type\": \"histogram\"}], \"histogram2d\": [{\"colorbar\": {\"outlinewidth\": 0, \"ticks\": \"\"}, \"colorscale\": [[0.0, \"#0d0887\"], [0.1111111111111111, \"#46039f\"], [0.2222222222222222, \"#7201a8\"], [0.3333333333333333, \"#9c179e\"], [0.4444444444444444, \"#bd3786\"], [0.5555555555555556, \"#d8576b\"], [0.6666666666666666, \"#ed7953\"], [0.7777777777777778, \"#fb9f3a\"], [0.8888888888888888, \"#fdca26\"], [1.0, \"#f0f921\"]], \"type\": \"histogram2d\"}], \"histogram2dcontour\": [{\"colorbar\": {\"outlinewidth\": 0, \"ticks\": \"\"}, \"colorscale\": [[0.0, \"#0d0887\"], [0.1111111111111111, \"#46039f\"], [0.2222222222222222, \"#7201a8\"], [0.3333333333333333, \"#9c179e\"], [0.4444444444444444, \"#bd3786\"], [0.5555555555555556, \"#d8576b\"], [0.6666666666666666, \"#ed7953\"], [0.7777777777777778, \"#fb9f3a\"], [0.8888888888888888, \"#fdca26\"], [1.0, \"#f0f921\"]], \"type\": \"histogram2dcontour\"}], \"mesh3d\": [{\"colorbar\": {\"outlinewidth\": 0, \"ticks\": \"\"}, \"type\": \"mesh3d\"}], \"parcoords\": [{\"line\": {\"colorbar\": {\"outlinewidth\": 0, \"ticks\": \"\"}}, \"type\": \"parcoords\"}], \"pie\": [{\"automargin\": true, \"type\": \"pie\"}], \"scatter\": [{\"marker\": {\"line\": {\"color\": \"#283442\"}}, \"type\": \"scatter\"}], \"scatter3d\": [{\"line\": {\"colorbar\": {\"outlinewidth\": 0, \"ticks\": \"\"}}, \"marker\": {\"colorbar\": {\"outlinewidth\": 0, \"ticks\": \"\"}}, \"type\": \"scatter3d\"}], \"scattercarpet\": [{\"marker\": {\"colorbar\": {\"outlinewidth\": 0, \"ticks\": \"\"}}, \"type\": \"scattercarpet\"}], \"scattergeo\": [{\"marker\": {\"colorbar\": {\"outlinewidth\": 0, \"ticks\": \"\"}}, \"type\": \"scattergeo\"}], \"scattergl\": [{\"marker\": {\"line\": {\"color\": \"#283442\"}}, \"type\": \"scattergl\"}], \"scattermapbox\": [{\"marker\": {\"colorbar\": {\"outlinewidth\": 0, \"ticks\": \"\"}}, \"type\": \"scattermapbox\"}], \"scatterpolar\": [{\"marker\": {\"colorbar\": {\"outlinewidth\": 0, \"ticks\": \"\"}}, \"type\": \"scatterpolar\"}], \"scatterpolargl\": [{\"marker\": {\"colorbar\": {\"outlinewidth\": 0, \"ticks\": \"\"}}, \"type\": \"scatterpolargl\"}], \"scatterternary\": [{\"marker\": {\"colorbar\": {\"outlinewidth\": 0, \"ticks\": \"\"}}, \"type\": \"scatterternary\"}], \"surface\": [{\"colorbar\": {\"outlinewidth\": 0, \"ticks\": \"\"}, \"colorscale\": [[0.0, \"#0d0887\"], [0.1111111111111111, \"#46039f\"], [0.2222222222222222, \"#7201a8\"], [0.3333333333333333, \"#9c179e\"], [0.4444444444444444, \"#bd3786\"], [0.5555555555555556, \"#d8576b\"], [0.6666666666666666, \"#ed7953\"], [0.7777777777777778, \"#fb9f3a\"], [0.8888888888888888, \"#fdca26\"], [1.0, \"#f0f921\"]], \"type\": \"surface\"}], \"table\": [{\"cells\": {\"fill\": {\"color\": \"#506784\"}, \"line\": {\"color\": \"rgb(17,17,17)\"}}, \"header\": {\"fill\": {\"color\": \"#2a3f5f\"}, \"line\": {\"color\": \"rgb(17,17,17)\"}}, \"type\": \"table\"}]}, \"layout\": {\"annotationdefaults\": {\"arrowcolor\": \"#f2f5fa\", \"arrowhead\": 0, \"arrowwidth\": 1}, \"coloraxis\": {\"colorbar\": {\"outlinewidth\": 0, \"ticks\": \"\"}}, \"colorscale\": {\"diverging\": [[0, \"#8e0152\"], [0.1, \"#c51b7d\"], [0.2, \"#de77ae\"], [0.3, \"#f1b6da\"], [0.4, \"#fde0ef\"], [0.5, \"#f7f7f7\"], [0.6, \"#e6f5d0\"], [0.7, \"#b8e186\"], [0.8, \"#7fbc41\"], [0.9, \"#4d9221\"], [1, \"#276419\"]], \"sequential\": [[0.0, \"#0d0887\"], [0.1111111111111111, \"#46039f\"], [0.2222222222222222, \"#7201a8\"], [0.3333333333333333, \"#9c179e\"], [0.4444444444444444, \"#bd3786\"], [0.5555555555555556, \"#d8576b\"], [0.6666666666666666, \"#ed7953\"], [0.7777777777777778, \"#fb9f3a\"], [0.8888888888888888, \"#fdca26\"], [1.0, \"#f0f921\"]], \"sequentialminus\": [[0.0, \"#0d0887\"], [0.1111111111111111, \"#46039f\"], [0.2222222222222222, \"#7201a8\"], [0.3333333333333333, \"#9c179e\"], [0.4444444444444444, \"#bd3786\"], [0.5555555555555556, \"#d8576b\"], [0.6666666666666666, \"#ed7953\"], [0.7777777777777778, \"#fb9f3a\"], [0.8888888888888888, \"#fdca26\"], [1.0, \"#f0f921\"]]}, \"colorway\": [\"#636efa\", \"#EF553B\", \"#00cc96\", \"#ab63fa\", \"#FFA15A\", \"#19d3f3\", \"#FF6692\", \"#B6E880\", \"#FF97FF\", \"#FECB52\"], \"font\": {\"color\": \"#f2f5fa\"}, \"geo\": {\"bgcolor\": \"rgb(17,17,17)\", \"lakecolor\": \"rgb(17,17,17)\", \"landcolor\": \"rgb(17,17,17)\", \"showlakes\": true, \"showland\": true, \"subunitcolor\": \"#506784\"}, \"hoverlabel\": {\"align\": \"left\"}, \"hovermode\": \"closest\", \"mapbox\": {\"style\": \"dark\"}, \"paper_bgcolor\": \"rgb(17,17,17)\", \"plot_bgcolor\": \"rgb(17,17,17)\", \"polar\": {\"angularaxis\": {\"gridcolor\": \"#506784\", \"linecolor\": \"#506784\", \"ticks\": \"\"}, \"bgcolor\": \"rgb(17,17,17)\", \"radialaxis\": {\"gridcolor\": \"#506784\", \"linecolor\": \"#506784\", \"ticks\": \"\"}}, \"scene\": {\"xaxis\": {\"backgroundcolor\": \"rgb(17,17,17)\", \"gridcolor\": \"#506784\", \"gridwidth\": 2, \"linecolor\": \"#506784\", \"showbackground\": true, \"ticks\": \"\", \"zerolinecolor\": \"#C8D4E3\"}, \"yaxis\": {\"backgroundcolor\": \"rgb(17,17,17)\", \"gridcolor\": \"#506784\", \"gridwidth\": 2, \"linecolor\": \"#506784\", \"showbackground\": true, \"ticks\": \"\", \"zerolinecolor\": \"#C8D4E3\"}, \"zaxis\": {\"backgroundcolor\": \"rgb(17,17,17)\", \"gridcolor\": \"#506784\", \"gridwidth\": 2, \"linecolor\": \"#506784\", \"showbackground\": true, \"ticks\": \"\", \"zerolinecolor\": \"#C8D4E3\"}}, \"shapedefaults\": {\"line\": {\"color\": \"#f2f5fa\"}}, \"sliderdefaults\": {\"bgcolor\": \"#C8D4E3\", \"bordercolor\": \"rgb(17,17,17)\", \"borderwidth\": 1, \"tickwidth\": 0}, \"ternary\": {\"aaxis\": {\"gridcolor\": \"#506784\", \"linecolor\": \"#506784\", \"ticks\": \"\"}, \"baxis\": {\"gridcolor\": \"#506784\", \"linecolor\": \"#506784\", \"ticks\": \"\"}, \"bgcolor\": \"rgb(17,17,17)\", \"caxis\": {\"gridcolor\": \"#506784\", \"linecolor\": \"#506784\", \"ticks\": \"\"}}, \"title\": {\"x\": 0.05}, \"updatemenudefaults\": {\"bgcolor\": \"#506784\", \"borderwidth\": 0}, \"xaxis\": {\"automargin\": true, \"gridcolor\": \"#283442\", \"linecolor\": \"#506784\", \"ticks\": \"\", \"title\": {\"standoff\": 15}, \"zerolinecolor\": \"#283442\", \"zerolinewidth\": 2}, \"yaxis\": {\"automargin\": true, \"gridcolor\": \"#283442\", \"linecolor\": \"#506784\", \"ticks\": \"\", \"title\": {\"standoff\": 15}, \"zerolinecolor\": \"#283442\", \"zerolinewidth\": 2}}}, \"xaxis\": {\"anchor\": \"y\", \"domain\": [0.0, 1.0]}, \"yaxis\": {\"anchor\": \"x\", \"domain\": [0.0, 1.0]}},\n",
              "                        {\"responsive\": true}\n",
              "                    ).then(function(){\n",
              "                            \n",
              "var gd = document.getElementById('cbb2fffd-e947-467f-95a8-4515f232be26');\n",
              "var x = new MutationObserver(function (mutations, observer) {{\n",
              "        var display = window.getComputedStyle(gd).display;\n",
              "        if (!display || display === 'none') {{\n",
              "            console.log([gd, 'removed!']);\n",
              "            Plotly.purge(gd);\n",
              "            observer.disconnect();\n",
              "        }}\n",
              "}});\n",
              "\n",
              "// Listen for the removal of the full notebook cells\n",
              "var notebookContainer = gd.closest('#notebook-container');\n",
              "if (notebookContainer) {{\n",
              "    x.observe(notebookContainer, {childList: true});\n",
              "}}\n",
              "\n",
              "// Listen for the clearing of the current output cell\n",
              "var outputEl = gd.closest('.output');\n",
              "if (outputEl) {{\n",
              "    x.observe(outputEl, {childList: true});\n",
              "}}\n",
              "\n",
              "                        })\n",
              "                };\n",
              "                \n",
              "            </script>\n",
              "        </div>\n",
              "</body>\n",
              "</html>"
            ]
          },
          "metadata": {}
        }
      ]
    },
    {
      "cell_type": "code",
      "metadata": {
        "id": "SP3bme29uCjv",
        "colab": {
          "base_uri": "https://localhost:8080/"
        },
        "outputId": "ef404e5a-7226-4412-c8aa-e1efa3bbd925"
      },
      "source": [
        "std_constraint(pp)"
      ],
      "execution_count": 149,
      "outputs": [
        {
          "output_type": "execute_result",
          "data": {
            "text/plain": [
              "DeviceArray(2.48920884e-11, dtype=float64)"
            ]
          },
          "metadata": {},
          "execution_count": 149
        }
      ]
    },
    {
      "cell_type": "code",
      "metadata": {
        "colab": {
          "base_uri": "https://localhost:8080/"
        },
        "id": "fybBEidNI2Mc",
        "outputId": "29745f05-1495-4aa4-9996-55affc32d9d4"
      },
      "source": [
        "p_constraint(pp)"
      ],
      "execution_count": 150,
      "outputs": [
        {
          "output_type": "execute_result",
          "data": {
            "text/plain": [
              "DeviceArray(4.82280882e-13, dtype=float64)"
            ]
          },
          "metadata": {},
          "execution_count": 150
        }
      ]
    },
    {
      "cell_type": "code",
      "metadata": {
        "colab": {
          "base_uri": "https://localhost:8080/"
        },
        "id": "XAPUh4YhI3nq",
        "outputId": "1a1525c9-e9ff-4119-b613-6c065071140b"
      },
      "source": [
        "avg_constraint(pp)"
      ],
      "execution_count": 151,
      "outputs": [
        {
          "output_type": "execute_result",
          "data": {
            "text/plain": [
              "DeviceArray(2.85105273e-11, dtype=float64)"
            ]
          },
          "metadata": {},
          "execution_count": 151
        }
      ]
    },
    {
      "cell_type": "code",
      "metadata": {
        "id": "DQRJZGQnLolB"
      },
      "source": [
        ""
      ],
      "execution_count": null,
      "outputs": []
    }
  ]
}