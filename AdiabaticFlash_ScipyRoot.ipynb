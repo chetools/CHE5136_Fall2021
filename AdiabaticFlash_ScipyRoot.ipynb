{
  "nbformat": 4,
  "nbformat_minor": 0,
  "metadata": {
    "colab": {
      "name": "AdiabaticFlash_ScipyRoot.ipynb",
      "provenance": [],
      "authorship_tag": "ABX9TyOCErtJC2j6GjmHKK7VNMht",
      "include_colab_link": true
    },
    "kernelspec": {
      "name": "python3",
      "display_name": "Python 3"
    },
    "language_info": {
      "name": "python"
    }
  },
  "cells": [
    {
      "cell_type": "markdown",
      "metadata": {
        "id": "view-in-github",
        "colab_type": "text"
      },
      "source": [
        "<a href=\"https://colab.research.google.com/github/profteachkids/CHE5136_Fall2021/blob/main/AdiabaticFlash_ScipyRoot.ipynb\" target=\"_parent\"><img src=\"https://colab.research.google.com/assets/colab-badge.svg\" alt=\"Open In Colab\"/></a>"
      ]
    },
    {
      "cell_type": "code",
      "metadata": {
        "id": "DSyAObHh6CLM"
      },
      "source": [
        "!git clone --depth 1 https://github.com/profteachkids/chetools.git &> /dev/null\n",
        "import sys\n",
        "sys.path.insert(1, \"/content/chetools\") #Path to CHE module imports"
      ],
      "execution_count": 10,
      "outputs": []
    },
    {
      "cell_type": "code",
      "metadata": {
        "id": "AQ4v3trm-eLd"
      },
      "source": [
        "import numpy as np\n",
        "from scipy.optimize import root"
      ],
      "execution_count": 32,
      "outputs": []
    },
    {
      "cell_type": "code",
      "metadata": {
        "id": "TSwWgIw--H_W"
      },
      "source": [
        "import tools.che as che\n",
        "R=8.314 # J/(mol K)"
      ],
      "execution_count": 11,
      "outputs": []
    },
    {
      "cell_type": "code",
      "metadata": {
        "colab": {
          "base_uri": "https://localhost:8080/"
        },
        "id": "xdON37yL-Lxb",
        "outputId": "0f8ec334-07d5-4e3e-8c5f-1351bf5063e2"
      },
      "source": [
        "p = che.Props(['Ethanol','Isopropanol', 'Water'])"
      ],
      "execution_count": 12,
      "outputs": [
        {
          "output_type": "stream",
          "name": "stderr",
          "text": [
            "WARNING:absl:No GPU/TPU found, falling back to CPU. (Set TF_CPP_MIN_LOG_LEVEL=0 and rerun for more info.)\n"
          ]
        }
      ]
    },
    {
      "cell_type": "code",
      "metadata": {
        "id": "grBK619J-UYM"
      },
      "source": [
        "def xtov(x):\n",
        "    return np.log(x[:-1]) - np.log(x[-1])\n",
        "\n",
        "def vtox(v):\n",
        "    x = np.empty(v.size+1)\n",
        "    x[:-1]=np.exp(v)/(1+np.sum(np.exp(v)))\n",
        "    x[-1]=1-np.sum(x[:-1])\n",
        "    return x"
      ],
      "execution_count": 26,
      "outputs": []
    },
    {
      "cell_type": "code",
      "metadata": {
        "id": "h0R59lVw-Qnc"
      },
      "source": [
        "Ftot=10 # Total Feed moles\n",
        "Fz = np.array([1/3, 1/3, 1/3]) # Equimolar feed composition\n",
        "ncomp = Fz.size\n",
        "FT = 450 # Feed temperature\n",
        "flashP= 101325 # Flash drum pressure\n",
        "\n",
        "Vyv = xtov(Fz) # Guess vapor/liquid composition equal to feed\n",
        "Lxv = xtov(Fz) # Comp - constrains mole fractions to behave like mole fractions!\n",
        "flashT = np.array([360.])  # Guess and bounds for flash temperature\n",
        "Vtot = np.array([Ftot/2])  # Guess half of feed in vapor\n",
        "Ltot = np.array([Ftot/2])\n",
        "\n",
        "x_guess = jnp.concatenate([Vyv, Lxv, flashT, Vtot, Ltot])"
      ],
      "execution_count": 29,
      "outputs": []
    },
    {
      "cell_type": "code",
      "metadata": {
        "id": "FqtH8Mc2-s-U"
      },
      "source": [
        "def model(x):\n",
        "  Vy = vtox(x[0:ncomp-1])\n",
        "  Lx = vtox(x[ncomp-1:2*(ncomp-1)])\n",
        "  flashT, Vtot, Ltot = x[-3:]\n",
        "\n",
        "  V = Vy * Vtot\n",
        "  L = Lx * Ltot\n",
        "  F = Fz * Ftot\n",
        "  mass_balance = F-V-L\n",
        "\n",
        "  FH = p.Hl(nL=F, T=FT)\n",
        "  VH = p.Hv(nV=V, T=flashT)\n",
        "  LH = p.Hl(nL=L, T=flashT)\n",
        "  energy_balance = jnp.array([FH - VH - LH])\n",
        "\n",
        "  fugL = Lx  * p.NRTL_gamma(Lx,flashT)* p.Pvap(flashT)\n",
        "  fugV = Vy*flashP\n",
        "  VLE = fugL - fugV\n",
        "  return jnp.concatenate([mass_balance, energy_balance, VLE])"
      ],
      "execution_count": 30,
      "outputs": []
    },
    {
      "cell_type": "code",
      "metadata": {
        "id": "66LMwm7N6DGq"
      },
      "source": [
        "sol=root(model,x_guess).x\n",
        "Vy = vtox(sol[0:ncomp-1])\n",
        "Lx = vtox(sol[ncomp-1:2*(ncomp-1)])\n",
        "flashT, Vtot, Ltot = sol[-3:]"
      ],
      "execution_count": 36,
      "outputs": []
    },
    {
      "cell_type": "code",
      "metadata": {
        "colab": {
          "base_uri": "https://localhost:8080/"
        },
        "id": "Y7UtT5Fw_PGs",
        "outputId": "af25e97c-4fc8-4347-da84-02e7db38022d"
      },
      "source": [
        "print(Vy)\n",
        "print(Lx)\n",
        "print(flashT, Vtot, Ltot)"
      ],
      "execution_count": 37,
      "outputs": [
        {
          "output_type": "stream",
          "name": "stdout",
          "text": [
            "[0.35170977 0.3396212  0.30866903]\n",
            "[0.32122647 0.32919072 0.34958281]\n",
            "352.8549750577987 3.9716387833198716 6.028361216680128\n"
          ]
        }
      ]
    },
    {
      "cell_type": "code",
      "metadata": {
        "id": "oizKDHWf6HQR"
      },
      "source": [
        "v = np.log(x[:-1]) - np.log(x[-1])"
      ],
      "execution_count": 4,
      "outputs": []
    },
    {
      "cell_type": "code",
      "metadata": {
        "colab": {
          "base_uri": "https://localhost:8080/"
        },
        "id": "UHvYXoMe7ZhR",
        "outputId": "8ef71505-04d3-4289-f586-ca6014e2c30b"
      },
      "source": [
        "v"
      ],
      "execution_count": 5,
      "outputs": [
        {
          "output_type": "execute_result",
          "data": {
            "text/plain": [
              "array([-1.38629436, -0.69314718, -0.28768207])"
            ]
          },
          "metadata": {},
          "execution_count": 5
        }
      ]
    },
    {
      "cell_type": "code",
      "metadata": {
        "id": "xd95TF027cXP"
      },
      "source": [
        "xx = np.exp(v)/(1+np.sum(np.exp(v)))"
      ],
      "execution_count": 8,
      "outputs": []
    },
    {
      "cell_type": "code",
      "metadata": {
        "colab": {
          "base_uri": "https://localhost:8080/"
        },
        "id": "A9ajm_mH7go_",
        "outputId": "281fb804-8bfd-484e-a629-ce6f4d130944"
      },
      "source": [
        "xx"
      ],
      "execution_count": 9,
      "outputs": [
        {
          "output_type": "execute_result",
          "data": {
            "text/plain": [
              "array([0.1, 0.2, 0.3])"
            ]
          },
          "metadata": {},
          "execution_count": 9
        }
      ]
    },
    {
      "cell_type": "code",
      "metadata": {
        "id": "Ywsvo-SC7hFP"
      },
      "source": [
        ""
      ],
      "execution_count": null,
      "outputs": []
    }
  ]
}