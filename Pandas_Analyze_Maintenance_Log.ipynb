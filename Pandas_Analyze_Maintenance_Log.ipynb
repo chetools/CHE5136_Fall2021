{
  "nbformat": 4,
  "nbformat_minor": 0,
  "metadata": {
    "colab": {
      "name": "Pandas_Analyze_Maintenance_Log.ipynb",
      "provenance": [],
      "collapsed_sections": [],
      "authorship_tag": "ABX9TyNsbZ5EZtMl5FuQBgpVqbar",
      "include_colab_link": true
    },
    "kernelspec": {
      "name": "python3",
      "display_name": "Python 3"
    }
  },
  "cells": [
    {
      "cell_type": "markdown",
      "metadata": {
        "id": "view-in-github",
        "colab_type": "text"
      },
      "source": [
        "<a href=\"https://colab.research.google.com/github/profteachkids/CHE5136_Fall2021/blob/main/Pandas_Analyze_Maintenance_Log.ipynb\" target=\"_parent\"><img src=\"https://colab.research.google.com/assets/colab-badge.svg\" alt=\"Open In Colab\"/></a>"
      ]
    },
    {
      "cell_type": "code",
      "metadata": {
        "colab": {
          "base_uri": "https://localhost:8080/"
        },
        "id": "6CmDPtWJGyVU",
        "outputId": "d80332f0-dd76-4ce6-f2e6-1afdb6709559"
      },
      "source": [
        "!wget https://raw.githubusercontent.com/profteachkids/CHE5136_Fall2021/main/maintenance_log.txt"
      ],
      "execution_count": 1,
      "outputs": [
        {
          "output_type": "stream",
          "text": [
            "--2021-08-28 18:27:48--  https://raw.githubusercontent.com/profteachkids/CHE5136_Fall2021/main/maintenance_log.txt\n",
            "Resolving raw.githubusercontent.com (raw.githubusercontent.com)... 185.199.108.133, 185.199.109.133, 185.199.110.133, ...\n",
            "Connecting to raw.githubusercontent.com (raw.githubusercontent.com)|185.199.108.133|:443... connected.\n",
            "HTTP request sent, awaiting response... 200 OK\n",
            "Length: 26025250 (25M) [text/plain]\n",
            "Saving to: ‘maintenance_log.txt’\n",
            "\n",
            "maintenance_log.txt 100%[===================>]  24.82M   141MB/s    in 0.2s    \n",
            "\n",
            "2021-08-28 18:27:50 (141 MB/s) - ‘maintenance_log.txt’ saved [26025250/26025250]\n",
            "\n"
          ],
          "name": "stdout"
        }
      ]
    },
    {
      "cell_type": "code",
      "metadata": {
        "id": "CNM8feHqHDqy"
      },
      "source": [
        "import pandas as pd\n",
        "import numpy as np"
      ],
      "execution_count": 50,
      "outputs": []
    },
    {
      "cell_type": "code",
      "metadata": {
        "colab": {
          "base_uri": "https://localhost:8080/",
          "height": 206
        },
        "id": "HuMbeSFPHLqP",
        "outputId": "1b554489-366d-433b-9fc2-827bb17fabdc"
      },
      "source": [
        "df=pd.read_csv('/content/maintenance_log.txt')\n",
        "df.head()"
      ],
      "execution_count": 3,
      "outputs": [
        {
          "output_type": "execute_result",
          "data": {
            "text/html": [
              "<div>\n",
              "<style scoped>\n",
              "    .dataframe tbody tr th:only-of-type {\n",
              "        vertical-align: middle;\n",
              "    }\n",
              "\n",
              "    .dataframe tbody tr th {\n",
              "        vertical-align: top;\n",
              "    }\n",
              "\n",
              "    .dataframe thead th {\n",
              "        text-align: right;\n",
              "    }\n",
              "</style>\n",
              "<table border=\"1\" class=\"dataframe\">\n",
              "  <thead>\n",
              "    <tr style=\"text-align: right;\">\n",
              "      <th></th>\n",
              "      <th>start</th>\n",
              "      <th>end</th>\n",
              "      <th>equipment</th>\n",
              "      <th>task</th>\n",
              "      <th>name</th>\n",
              "      <th>cost</th>\n",
              "    </tr>\n",
              "  </thead>\n",
              "  <tbody>\n",
              "    <tr>\n",
              "      <th>0</th>\n",
              "      <td>2018-10-26</td>\n",
              "      <td>2018-11-09</td>\n",
              "      <td>ReactorA</td>\n",
              "      <td>Overhaul</td>\n",
              "      <td>Corrine</td>\n",
              "      <td>791158.32</td>\n",
              "    </tr>\n",
              "    <tr>\n",
              "      <th>1</th>\n",
              "      <td>2018-02-19</td>\n",
              "      <td>2018-03-03</td>\n",
              "      <td>TankE</td>\n",
              "      <td>Inspect</td>\n",
              "      <td>Corrine</td>\n",
              "      <td>88.50</td>\n",
              "    </tr>\n",
              "    <tr>\n",
              "      <th>2</th>\n",
              "      <td>2020-04-05</td>\n",
              "      <td>2020-04-09</td>\n",
              "      <td>HeaterC</td>\n",
              "      <td>Inspect</td>\n",
              "      <td>Garek</td>\n",
              "      <td>42.78</td>\n",
              "    </tr>\n",
              "    <tr>\n",
              "      <th>3</th>\n",
              "      <td>2019-07-15</td>\n",
              "      <td>2019-07-24</td>\n",
              "      <td>ReactorD</td>\n",
              "      <td>Overhaul</td>\n",
              "      <td>George</td>\n",
              "      <td>570538.03</td>\n",
              "    </tr>\n",
              "    <tr>\n",
              "      <th>4</th>\n",
              "      <td>2020-07-29</td>\n",
              "      <td>2020-08-02</td>\n",
              "      <td>ReactorE</td>\n",
              "      <td>Overhaul</td>\n",
              "      <td>Corrine</td>\n",
              "      <td>925844.80</td>\n",
              "    </tr>\n",
              "  </tbody>\n",
              "</table>\n",
              "</div>"
            ],
            "text/plain": [
              "        start         end equipment      task     name       cost\n",
              "0  2018-10-26  2018-11-09  ReactorA  Overhaul  Corrine  791158.32\n",
              "1  2018-02-19  2018-03-03     TankE   Inspect  Corrine      88.50\n",
              "2  2020-04-05  2020-04-09   HeaterC   Inspect    Garek      42.78\n",
              "3  2019-07-15  2019-07-24  ReactorD  Overhaul   George  570538.03\n",
              "4  2020-07-29  2020-08-02  ReactorE  Overhaul  Corrine  925844.80"
            ]
          },
          "metadata": {},
          "execution_count": 3
        }
      ]
    },
    {
      "cell_type": "code",
      "metadata": {
        "colab": {
          "base_uri": "https://localhost:8080/"
        },
        "id": "7ZagFkU9HbhH",
        "outputId": "9fc55098-fc55-46f7-a4c3-35820bb542db"
      },
      "source": [
        "df=df.astype({'equipment':'category','name':'category','cost':'float64','start':'datetime64[ns]', 'end':'datetime64[ns]'})\n",
        "df.dtypes\n"
      ],
      "execution_count": 4,
      "outputs": [
        {
          "output_type": "execute_result",
          "data": {
            "text/plain": [
              "start        datetime64[ns]\n",
              "end          datetime64[ns]\n",
              "equipment          category\n",
              "task                 object\n",
              "name               category\n",
              "cost                float64\n",
              "dtype: object"
            ]
          },
          "metadata": {},
          "execution_count": 4
        }
      ]
    },
    {
      "cell_type": "code",
      "metadata": {
        "id": "3r5BkJbqUrOG"
      },
      "source": [
        "df['days']=(df['end']-df['start']).dt.days"
      ],
      "execution_count": 5,
      "outputs": []
    },
    {
      "cell_type": "code",
      "metadata": {
        "id": "ecBLIy_RAVjy"
      },
      "source": [
        ""
      ],
      "execution_count": 23,
      "outputs": []
    },
    {
      "cell_type": "code",
      "metadata": {
        "id": "BXqrvJvbJPNL"
      },
      "source": [
        "df2=df.set_index(['start','equipment','task','name'])\n",
        "df2.sort_index(inplace=True)\n",
        "idx = pd.IndexSlice"
      ],
      "execution_count": 7,
      "outputs": []
    },
    {
      "cell_type": "code",
      "metadata": {
        "id": "OAj877F-Jr_d"
      },
      "source": [
        "df2.loc[idx['2020-05-30':'2020-06-5',['ColumnA','TankA'],'Inspect',:]]"
      ],
      "execution_count": null,
      "outputs": []
    },
    {
      "cell_type": "code",
      "metadata": {
        "id": "ZXL5AtIBcVeL"
      },
      "source": [
        "df3=pd.pivot_table(data=df,values=['cost','days'],columns=['equipment','task','name'],aggfunc=['mean','min','max'])"
      ],
      "execution_count": 9,
      "outputs": []
    },
    {
      "cell_type": "code",
      "metadata": {
        "colab": {
          "base_uri": "https://localhost:8080/",
          "height": 255
        },
        "id": "DlmwGhhO0J4l",
        "outputId": "735768cd-740f-47c8-ff39-a6a4e5bf5797"
      },
      "source": [
        "df3"
      ],
      "execution_count": 10,
      "outputs": [
        {
          "output_type": "execute_result",
          "data": {
            "text/html": [
              "<div>\n",
              "<style scoped>\n",
              "    .dataframe tbody tr th:only-of-type {\n",
              "        vertical-align: middle;\n",
              "    }\n",
              "\n",
              "    .dataframe tbody tr th {\n",
              "        vertical-align: top;\n",
              "    }\n",
              "\n",
              "    .dataframe thead tr th {\n",
              "        text-align: left;\n",
              "    }\n",
              "</style>\n",
              "<table border=\"1\" class=\"dataframe\">\n",
              "  <thead>\n",
              "    <tr>\n",
              "      <th></th>\n",
              "      <th colspan=\"40\" halign=\"left\">mean</th>\n",
              "      <th>...</th>\n",
              "      <th colspan=\"40\" halign=\"left\">max</th>\n",
              "    </tr>\n",
              "    <tr>\n",
              "      <th>equipment</th>\n",
              "      <th colspan=\"12\" halign=\"left\">ColumnA</th>\n",
              "      <th colspan=\"12\" halign=\"left\">ColumnB</th>\n",
              "      <th colspan=\"12\" halign=\"left\">ColumnC</th>\n",
              "      <th colspan=\"4\" halign=\"left\">ColumnD</th>\n",
              "      <th>...</th>\n",
              "      <th colspan=\"4\" halign=\"left\">TankB</th>\n",
              "      <th colspan=\"12\" halign=\"left\">TankC</th>\n",
              "      <th colspan=\"12\" halign=\"left\">TankD</th>\n",
              "      <th colspan=\"12\" halign=\"left\">TankE</th>\n",
              "    </tr>\n",
              "    <tr>\n",
              "      <th>task</th>\n",
              "      <th colspan=\"4\" halign=\"left\">Clean</th>\n",
              "      <th colspan=\"4\" halign=\"left\">Inspect</th>\n",
              "      <th colspan=\"4\" halign=\"left\">Overhaul</th>\n",
              "      <th colspan=\"4\" halign=\"left\">Clean</th>\n",
              "      <th colspan=\"4\" halign=\"left\">Inspect</th>\n",
              "      <th colspan=\"4\" halign=\"left\">Overhaul</th>\n",
              "      <th colspan=\"4\" halign=\"left\">Clean</th>\n",
              "      <th colspan=\"4\" halign=\"left\">Inspect</th>\n",
              "      <th colspan=\"4\" halign=\"left\">Overhaul</th>\n",
              "      <th colspan=\"4\" halign=\"left\">Clean</th>\n",
              "      <th>...</th>\n",
              "      <th colspan=\"4\" halign=\"left\">Overhaul</th>\n",
              "      <th colspan=\"4\" halign=\"left\">Clean</th>\n",
              "      <th colspan=\"4\" halign=\"left\">Inspect</th>\n",
              "      <th colspan=\"4\" halign=\"left\">Overhaul</th>\n",
              "      <th colspan=\"4\" halign=\"left\">Clean</th>\n",
              "      <th colspan=\"4\" halign=\"left\">Inspect</th>\n",
              "      <th colspan=\"4\" halign=\"left\">Overhaul</th>\n",
              "      <th colspan=\"4\" halign=\"left\">Clean</th>\n",
              "      <th colspan=\"4\" halign=\"left\">Inspect</th>\n",
              "      <th colspan=\"4\" halign=\"left\">Overhaul</th>\n",
              "    </tr>\n",
              "    <tr>\n",
              "      <th>name</th>\n",
              "      <th>Carlos</th>\n",
              "      <th>Corrine</th>\n",
              "      <th>Garek</th>\n",
              "      <th>George</th>\n",
              "      <th>Carlos</th>\n",
              "      <th>Corrine</th>\n",
              "      <th>Garek</th>\n",
              "      <th>George</th>\n",
              "      <th>Carlos</th>\n",
              "      <th>Corrine</th>\n",
              "      <th>Garek</th>\n",
              "      <th>George</th>\n",
              "      <th>Carlos</th>\n",
              "      <th>Corrine</th>\n",
              "      <th>Garek</th>\n",
              "      <th>George</th>\n",
              "      <th>Carlos</th>\n",
              "      <th>Corrine</th>\n",
              "      <th>Garek</th>\n",
              "      <th>George</th>\n",
              "      <th>Carlos</th>\n",
              "      <th>Corrine</th>\n",
              "      <th>Garek</th>\n",
              "      <th>George</th>\n",
              "      <th>Carlos</th>\n",
              "      <th>Corrine</th>\n",
              "      <th>Garek</th>\n",
              "      <th>George</th>\n",
              "      <th>Carlos</th>\n",
              "      <th>Corrine</th>\n",
              "      <th>Garek</th>\n",
              "      <th>George</th>\n",
              "      <th>Carlos</th>\n",
              "      <th>Corrine</th>\n",
              "      <th>Garek</th>\n",
              "      <th>George</th>\n",
              "      <th>Carlos</th>\n",
              "      <th>Corrine</th>\n",
              "      <th>Garek</th>\n",
              "      <th>George</th>\n",
              "      <th>...</th>\n",
              "      <th>Carlos</th>\n",
              "      <th>Corrine</th>\n",
              "      <th>Garek</th>\n",
              "      <th>George</th>\n",
              "      <th>Carlos</th>\n",
              "      <th>Corrine</th>\n",
              "      <th>Garek</th>\n",
              "      <th>George</th>\n",
              "      <th>Carlos</th>\n",
              "      <th>Corrine</th>\n",
              "      <th>Garek</th>\n",
              "      <th>George</th>\n",
              "      <th>Carlos</th>\n",
              "      <th>Corrine</th>\n",
              "      <th>Garek</th>\n",
              "      <th>George</th>\n",
              "      <th>Carlos</th>\n",
              "      <th>Corrine</th>\n",
              "      <th>Garek</th>\n",
              "      <th>George</th>\n",
              "      <th>Carlos</th>\n",
              "      <th>Corrine</th>\n",
              "      <th>Garek</th>\n",
              "      <th>George</th>\n",
              "      <th>Carlos</th>\n",
              "      <th>Corrine</th>\n",
              "      <th>Garek</th>\n",
              "      <th>George</th>\n",
              "      <th>Carlos</th>\n",
              "      <th>Corrine</th>\n",
              "      <th>Garek</th>\n",
              "      <th>George</th>\n",
              "      <th>Carlos</th>\n",
              "      <th>Corrine</th>\n",
              "      <th>Garek</th>\n",
              "      <th>George</th>\n",
              "      <th>Carlos</th>\n",
              "      <th>Corrine</th>\n",
              "      <th>Garek</th>\n",
              "      <th>George</th>\n",
              "    </tr>\n",
              "  </thead>\n",
              "  <tbody>\n",
              "    <tr>\n",
              "      <th>cost</th>\n",
              "      <td>60144.905952</td>\n",
              "      <td>32009.036082</td>\n",
              "      <td>36155.856258</td>\n",
              "      <td>44057.145121</td>\n",
              "      <td>6020.869453</td>\n",
              "      <td>3196.571422</td>\n",
              "      <td>3601.287970</td>\n",
              "      <td>4386.648900</td>\n",
              "      <td>603459.148713</td>\n",
              "      <td>320695.457017</td>\n",
              "      <td>360755.717385</td>\n",
              "      <td>438865.50705</td>\n",
              "      <td>90017.183808</td>\n",
              "      <td>48059.470918</td>\n",
              "      <td>53918.838292</td>\n",
              "      <td>65937.423151</td>\n",
              "      <td>8969.709205</td>\n",
              "      <td>4805.540510</td>\n",
              "      <td>5398.621674</td>\n",
              "      <td>6565.555520</td>\n",
              "      <td>901394.413479</td>\n",
              "      <td>480068.779096</td>\n",
              "      <td>540867.920047</td>\n",
              "      <td>663677.507063</td>\n",
              "      <td>120277.773092</td>\n",
              "      <td>63814.777652</td>\n",
              "      <td>72071.083928</td>\n",
              "      <td>87710.574948</td>\n",
              "      <td>12004.109318</td>\n",
              "      <td>6403.116452</td>\n",
              "      <td>7207.561426</td>\n",
              "      <td>8775.196552</td>\n",
              "      <td>1.195861e+06</td>\n",
              "      <td>640741.179484</td>\n",
              "      <td>720862.564281</td>\n",
              "      <td>882337.994721</td>\n",
              "      <td>29950.308769</td>\n",
              "      <td>16006.007909</td>\n",
              "      <td>17924.617773</td>\n",
              "      <td>22056.736382</td>\n",
              "      <td>...</td>\n",
              "      <td>30819.13</td>\n",
              "      <td>15609.16</td>\n",
              "      <td>17725.01</td>\n",
              "      <td>22270.16</td>\n",
              "      <td>4006.07</td>\n",
              "      <td>2191.02</td>\n",
              "      <td>2455.26</td>\n",
              "      <td>2905.45</td>\n",
              "      <td>393.41</td>\n",
              "      <td>225.68</td>\n",
              "      <td>256.99</td>\n",
              "      <td>284.42</td>\n",
              "      <td>40165.65</td>\n",
              "      <td>20672.3</td>\n",
              "      <td>23826.93</td>\n",
              "      <td>28522.64</td>\n",
              "      <td>1046.42</td>\n",
              "      <td>541.06</td>\n",
              "      <td>603.56</td>\n",
              "      <td>708.22</td>\n",
              "      <td>98.49</td>\n",
              "      <td>55.56</td>\n",
              "      <td>58.69</td>\n",
              "      <td>71.63</td>\n",
              "      <td>9605.51</td>\n",
              "      <td>5192.03</td>\n",
              "      <td>6197.51</td>\n",
              "      <td>7243.91</td>\n",
              "      <td>2505.68</td>\n",
              "      <td>1295.77</td>\n",
              "      <td>1490.77</td>\n",
              "      <td>1734.47</td>\n",
              "      <td>235.92</td>\n",
              "      <td>126.81</td>\n",
              "      <td>142.31</td>\n",
              "      <td>175.38</td>\n",
              "      <td>23693.26</td>\n",
              "      <td>12993.15</td>\n",
              "      <td>14033.56</td>\n",
              "      <td>18094.94</td>\n",
              "    </tr>\n",
              "    <tr>\n",
              "      <th>days</th>\n",
              "      <td>15.264848</td>\n",
              "      <td>14.986998</td>\n",
              "      <td>14.701637</td>\n",
              "      <td>15.068598</td>\n",
              "      <td>14.975639</td>\n",
              "      <td>14.909673</td>\n",
              "      <td>15.103549</td>\n",
              "      <td>14.392664</td>\n",
              "      <td>14.602633</td>\n",
              "      <td>15.152672</td>\n",
              "      <td>14.909538</td>\n",
              "      <td>15.00590</td>\n",
              "      <td>14.961071</td>\n",
              "      <td>15.125882</td>\n",
              "      <td>15.047677</td>\n",
              "      <td>14.904901</td>\n",
              "      <td>14.933014</td>\n",
              "      <td>14.849188</td>\n",
              "      <td>14.742487</td>\n",
              "      <td>14.556299</td>\n",
              "      <td>15.002300</td>\n",
              "      <td>15.089806</td>\n",
              "      <td>14.850030</td>\n",
              "      <td>15.110908</td>\n",
              "      <td>14.941718</td>\n",
              "      <td>14.755556</td>\n",
              "      <td>15.006024</td>\n",
              "      <td>15.097471</td>\n",
              "      <td>15.123643</td>\n",
              "      <td>14.870595</td>\n",
              "      <td>14.721302</td>\n",
              "      <td>14.964242</td>\n",
              "      <td>1.500000e+01</td>\n",
              "      <td>14.692754</td>\n",
              "      <td>14.813559</td>\n",
              "      <td>15.280340</td>\n",
              "      <td>15.058423</td>\n",
              "      <td>14.862720</td>\n",
              "      <td>15.016383</td>\n",
              "      <td>15.082889</td>\n",
              "      <td>...</td>\n",
              "      <td>29.00</td>\n",
              "      <td>29.00</td>\n",
              "      <td>29.00</td>\n",
              "      <td>29.00</td>\n",
              "      <td>29.00</td>\n",
              "      <td>29.00</td>\n",
              "      <td>29.00</td>\n",
              "      <td>29.00</td>\n",
              "      <td>29.00</td>\n",
              "      <td>29.00</td>\n",
              "      <td>29.00</td>\n",
              "      <td>29.00</td>\n",
              "      <td>29.00</td>\n",
              "      <td>29.0</td>\n",
              "      <td>29.00</td>\n",
              "      <td>29.00</td>\n",
              "      <td>29.00</td>\n",
              "      <td>29.00</td>\n",
              "      <td>29.00</td>\n",
              "      <td>29.00</td>\n",
              "      <td>29.00</td>\n",
              "      <td>29.00</td>\n",
              "      <td>29.00</td>\n",
              "      <td>29.00</td>\n",
              "      <td>29.00</td>\n",
              "      <td>29.00</td>\n",
              "      <td>29.00</td>\n",
              "      <td>29.00</td>\n",
              "      <td>29.00</td>\n",
              "      <td>29.00</td>\n",
              "      <td>29.00</td>\n",
              "      <td>29.00</td>\n",
              "      <td>29.00</td>\n",
              "      <td>29.00</td>\n",
              "      <td>29.00</td>\n",
              "      <td>29.00</td>\n",
              "      <td>29.00</td>\n",
              "      <td>29.00</td>\n",
              "      <td>29.00</td>\n",
              "      <td>29.00</td>\n",
              "    </tr>\n",
              "  </tbody>\n",
              "</table>\n",
              "<p>2 rows × 900 columns</p>\n",
              "</div>"
            ],
            "text/plain": [
              "                   mean                ...       max          \n",
              "equipment       ColumnA                ...     TankE          \n",
              "task              Clean                ...  Overhaul          \n",
              "name             Carlos       Corrine  ...     Garek    George\n",
              "cost       60144.905952  32009.036082  ...  14033.56  18094.94\n",
              "days          15.264848     14.986998  ...     29.00     29.00\n",
              "\n",
              "[2 rows x 900 columns]"
            ]
          },
          "metadata": {},
          "execution_count": 10
        }
      ]
    },
    {
      "cell_type": "code",
      "metadata": {
        "id": "4tCmIbAkR-_J"
      },
      "source": [
        "df4=df3.stack([1,2,3])"
      ],
      "execution_count": 11,
      "outputs": []
    },
    {
      "cell_type": "code",
      "metadata": {
        "id": "Jpk-SafjSjdB"
      },
      "source": [
        "df5=df4[['mean','max','min']]\n",
        "df5['mean']=df5['mean'].round(2)"
      ],
      "execution_count": 12,
      "outputs": []
    },
    {
      "cell_type": "code",
      "metadata": {
        "id": "b0-507tJxKhg"
      },
      "source": [
        "with pd.option_context('display.max_rows', None, 'display.max_columns', None): \n",
        "    print(df5.loc[idx['cost']])"
      ],
      "execution_count": null,
      "outputs": []
    },
    {
      "cell_type": "code",
      "metadata": {
        "id": "vu5KHocWMf-S"
      },
      "source": [
        "def f(x):\n",
        "    return x.startswith('Column')\n",
        "\n",
        "df5[df5.index.get_level_values('equipment').map(f)].loc[idx['cost']]"
      ],
      "execution_count": null,
      "outputs": []
    },
    {
      "cell_type": "code",
      "metadata": {
        "id": "Ger-7-_zrwc8"
      },
      "source": [
        "df_Mondays=df2[df2.index.get_level_values('start').dayofweek==0]"
      ],
      "execution_count": 15,
      "outputs": []
    },
    {
      "cell_type": "code",
      "metadata": {
        "id": "pDnolVM_sCf7"
      },
      "source": [
        "df_Monday_pivot=pd.pivot_table(data=df_Mondays,values=['cost'],columns=['equipment','task','name'],aggfunc=['mean'])"
      ],
      "execution_count": 16,
      "outputs": []
    },
    {
      "cell_type": "code",
      "metadata": {
        "colab": {
          "base_uri": "https://localhost:8080/",
          "height": 455
        },
        "id": "d7SQK1iEwlVf",
        "outputId": "82628b26-2514-4f3c-fd41-6249477936ba"
      },
      "source": [
        "df_Monday_pivot.stack([1,2,3])"
      ],
      "execution_count": 17,
      "outputs": [
        {
          "output_type": "execute_result",
          "data": {
            "text/html": [
              "<div>\n",
              "<style scoped>\n",
              "    .dataframe tbody tr th:only-of-type {\n",
              "        vertical-align: middle;\n",
              "    }\n",
              "\n",
              "    .dataframe tbody tr th {\n",
              "        vertical-align: top;\n",
              "    }\n",
              "\n",
              "    .dataframe thead th {\n",
              "        text-align: right;\n",
              "    }\n",
              "</style>\n",
              "<table border=\"1\" class=\"dataframe\">\n",
              "  <thead>\n",
              "    <tr style=\"text-align: right;\">\n",
              "      <th></th>\n",
              "      <th></th>\n",
              "      <th></th>\n",
              "      <th></th>\n",
              "      <th>mean</th>\n",
              "    </tr>\n",
              "    <tr>\n",
              "      <th></th>\n",
              "      <th>equipment</th>\n",
              "      <th>task</th>\n",
              "      <th>name</th>\n",
              "      <th></th>\n",
              "    </tr>\n",
              "  </thead>\n",
              "  <tbody>\n",
              "    <tr>\n",
              "      <th rowspan=\"11\" valign=\"top\">cost</th>\n",
              "      <th rowspan=\"5\" valign=\"top\">ColumnA</th>\n",
              "      <th rowspan=\"4\" valign=\"top\">Clean</th>\n",
              "      <th>Carlos</th>\n",
              "      <td>60781.905240</td>\n",
              "    </tr>\n",
              "    <tr>\n",
              "      <th>Corrine</th>\n",
              "      <td>32140.053096</td>\n",
              "    </tr>\n",
              "    <tr>\n",
              "      <th>Garek</th>\n",
              "      <td>36110.569150</td>\n",
              "    </tr>\n",
              "    <tr>\n",
              "      <th>George</th>\n",
              "      <td>44223.958755</td>\n",
              "    </tr>\n",
              "    <tr>\n",
              "      <th>Inspect</th>\n",
              "      <th>Carlos</th>\n",
              "      <td>6040.615880</td>\n",
              "    </tr>\n",
              "    <tr>\n",
              "      <th>...</th>\n",
              "      <th>...</th>\n",
              "      <th>...</th>\n",
              "      <td>...</td>\n",
              "    </tr>\n",
              "    <tr>\n",
              "      <th rowspan=\"5\" valign=\"top\">TankE</th>\n",
              "      <th>Inspect</th>\n",
              "      <th>George</th>\n",
              "      <td>132.085153</td>\n",
              "    </tr>\n",
              "    <tr>\n",
              "      <th rowspan=\"4\" valign=\"top\">Overhaul</th>\n",
              "      <th>Carlos</th>\n",
              "      <td>18083.666206</td>\n",
              "    </tr>\n",
              "    <tr>\n",
              "      <th>Corrine</th>\n",
              "      <td>9652.829244</td>\n",
              "    </tr>\n",
              "    <tr>\n",
              "      <th>Garek</th>\n",
              "      <td>10820.031441</td>\n",
              "    </tr>\n",
              "    <tr>\n",
              "      <th>George</th>\n",
              "      <td>13157.748299</td>\n",
              "    </tr>\n",
              "  </tbody>\n",
              "</table>\n",
              "<p>300 rows × 1 columns</p>\n",
              "</div>"
            ],
            "text/plain": [
              "                                         mean\n",
              "     equipment task     name                 \n",
              "cost ColumnA   Clean    Carlos   60781.905240\n",
              "                        Corrine  32140.053096\n",
              "                        Garek    36110.569150\n",
              "                        George   44223.958755\n",
              "               Inspect  Carlos    6040.615880\n",
              "...                                       ...\n",
              "     TankE     Inspect  George     132.085153\n",
              "               Overhaul Carlos   18083.666206\n",
              "                        Corrine   9652.829244\n",
              "                        Garek    10820.031441\n",
              "                        George   13157.748299\n",
              "\n",
              "[300 rows x 1 columns]"
            ]
          },
          "metadata": {},
          "execution_count": 17
        }
      ]
    },
    {
      "cell_type": "code",
      "metadata": {
        "id": "Oz0pE7jyxXG3"
      },
      "source": [
        "dates=pd.date_range(start='28 Aug 2019', end='28 Aug 2021')"
      ],
      "execution_count": 20,
      "outputs": []
    },
    {
      "cell_type": "code",
      "metadata": {
        "id": "QOkv8XTLypP2"
      },
      "source": [
        "intervals = pd.arrays.IntervalArray.from_tuples(list(zip(df['start'],df['end'])))"
      ],
      "execution_count": 26,
      "outputs": []
    },
    {
      "cell_type": "code",
      "metadata": {
        "colab": {
          "base_uri": "https://localhost:8080/"
        },
        "id": "jcg2HziNCGt5",
        "outputId": "759c5b84-4e76-4026-b537-07d37359adda"
      },
      "source": [
        "for date in dates[:3]:\n",
        "    print(df.loc[intervals.contains(date)])\n"
      ],
      "execution_count": 57,
      "outputs": [
        {
          "output_type": "stream",
          "text": [
            "            start        end  ... days             date_interval\n",
            "35     2019-08-24 2019-09-17  ...   24  (2019-08-24, 2019-09-17]\n",
            "68     2019-08-24 2019-09-11  ...   18  (2019-08-24, 2019-09-11]\n",
            "177    2019-08-24 2019-09-15  ...   22  (2019-08-24, 2019-09-15]\n",
            "262    2019-08-18 2019-09-10  ...   23  (2019-08-18, 2019-09-10]\n",
            "354    2019-08-23 2019-09-05  ...   13  (2019-08-23, 2019-09-05]\n",
            "...           ...        ...  ...  ...                       ...\n",
            "499163 2019-08-14 2019-09-01  ...   18  (2019-08-14, 2019-09-01]\n",
            "499171 2019-08-27 2019-09-13  ...   17  (2019-08-27, 2019-09-13]\n",
            "499177 2019-08-24 2019-09-13  ...   20  (2019-08-24, 2019-09-13]\n",
            "499722 2019-08-27 2019-08-30  ...    3  (2019-08-27, 2019-08-30]\n",
            "499740 2019-08-27 2019-09-21  ...   25  (2019-08-27, 2019-09-21]\n",
            "\n",
            "[4060 rows x 8 columns]\n",
            "            start        end  ... days             date_interval\n",
            "35     2019-08-24 2019-09-17  ...   24  (2019-08-24, 2019-09-17]\n",
            "68     2019-08-24 2019-09-11  ...   18  (2019-08-24, 2019-09-11]\n",
            "177    2019-08-24 2019-09-15  ...   22  (2019-08-24, 2019-09-15]\n",
            "262    2019-08-18 2019-09-10  ...   23  (2019-08-18, 2019-09-10]\n",
            "354    2019-08-23 2019-09-05  ...   13  (2019-08-23, 2019-09-05]\n",
            "...           ...        ...  ...  ...                       ...\n",
            "499177 2019-08-24 2019-09-13  ...   20  (2019-08-24, 2019-09-13]\n",
            "499200 2019-08-28 2019-08-30  ...    2  (2019-08-28, 2019-08-30]\n",
            "499467 2019-08-28 2019-09-04  ...    7  (2019-08-28, 2019-09-04]\n",
            "499722 2019-08-27 2019-08-30  ...    3  (2019-08-27, 2019-08-30]\n",
            "499740 2019-08-27 2019-09-21  ...   25  (2019-08-27, 2019-09-21]\n",
            "\n",
            "[4029 rows x 8 columns]\n",
            "            start        end  ... days             date_interval\n",
            "35     2019-08-24 2019-09-17  ...   24  (2019-08-24, 2019-09-17]\n",
            "68     2019-08-24 2019-09-11  ...   18  (2019-08-24, 2019-09-11]\n",
            "177    2019-08-24 2019-09-15  ...   22  (2019-08-24, 2019-09-15]\n",
            "262    2019-08-18 2019-09-10  ...   23  (2019-08-18, 2019-09-10]\n",
            "354    2019-08-23 2019-09-05  ...   13  (2019-08-23, 2019-09-05]\n",
            "...           ...        ...  ...  ...                       ...\n",
            "499177 2019-08-24 2019-09-13  ...   20  (2019-08-24, 2019-09-13]\n",
            "499200 2019-08-28 2019-08-30  ...    2  (2019-08-28, 2019-08-30]\n",
            "499467 2019-08-28 2019-09-04  ...    7  (2019-08-28, 2019-09-04]\n",
            "499722 2019-08-27 2019-08-30  ...    3  (2019-08-27, 2019-08-30]\n",
            "499740 2019-08-27 2019-09-21  ...   25  (2019-08-27, 2019-09-21]\n",
            "\n",
            "[4008 rows x 8 columns]\n"
          ],
          "name": "stdout"
        }
      ]
    },
    {
      "cell_type": "code",
      "metadata": {
        "id": "-DF1zH0JCWzR"
      },
      "source": [
        ""
      ],
      "execution_count": null,
      "outputs": []
    }
  ]
}