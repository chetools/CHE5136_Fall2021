{
  "nbformat": 4,
  "nbformat_minor": 0,
  "metadata": {
    "colab": {
      "name": "Pandas_Generate_Maintenance_Log.ipynb",
      "provenance": [],
      "authorship_tag": "ABX9TyNrLDveIyvh79eTWusS4Ass",
      "include_colab_link": true
    },
    "kernelspec": {
      "name": "python3",
      "display_name": "Python 3"
    },
    "language_info": {
      "name": "python"
    }
  },
  "cells": [
    {
      "cell_type": "markdown",
      "metadata": {
        "id": "view-in-github",
        "colab_type": "text"
      },
      "source": [
        "<a href=\"https://colab.research.google.com/github/profteachkids/CHE5136_Fall2021/blob/main/Pandas_Generate_Maintenance_Log.ipynb\" target=\"_parent\"><img src=\"https://colab.research.google.com/assets/colab-badge.svg\" alt=\"Open In Colab\"/></a>"
      ]
    },
    {
      "cell_type": "code",
      "metadata": {
        "id": "e7aYaDfU7Bfu"
      },
      "source": [
        "import numpy as np\n",
        "import itertools as it\n",
        "import string"
      ],
      "execution_count": 24,
      "outputs": []
    },
    {
      "cell_type": "code",
      "metadata": {
        "id": "hQilD3Xi7Cdu"
      },
      "source": [
        "N=int(1e6)\n",
        "startdate=np.datetime64('2021-08-28','D')\n",
        "daysback = np.arange(5*365)"
      ],
      "execution_count": 20,
      "outputs": []
    },
    {
      "cell_type": "code",
      "metadata": {
        "id": "oHo_YHnh7Rjm"
      },
      "source": [
        "start=startdate-np.random.choice(daysback, size=N)\n",
        "end = start+np.random.randint(1,30,size=N)"
      ],
      "execution_count": 50,
      "outputs": []
    },
    {
      "cell_type": "code",
      "metadata": {
        "id": "H8PTyzvp7z5r"
      },
      "source": [
        "equipment_combos=list(it.product(['Reactor','Tank','Column','Pump','HeatExchanger'],string.ascii_uppercase[:5]))\n",
        "equipment_combos = [''.join(combo) for combo in equipment_combos]"
      ],
      "execution_count": 36,
      "outputs": []
    },
    {
      "cell_type": "code",
      "metadata": {
        "id": "pTKcR5308iry"
      },
      "source": [
        "equipment=np.random.choice(equipment_combos,size=N)"
      ],
      "execution_count": 37,
      "outputs": []
    },
    {
      "cell_type": "code",
      "metadata": {
        "id": "sX1cIv3I9UHa"
      },
      "source": [
        "name = np.random.choice(['Carlos','Garek','Corrine','Lia','Nhat','George'],size=N)"
      ],
      "execution_count": 39,
      "outputs": []
    },
    {
      "cell_type": "code",
      "metadata": {
        "id": "DoT89zmK-Fuh"
      },
      "source": [
        "cost = np.round(10**np.random.uniform(2,6,size=N),2)\n"
      ],
      "execution_count": 48,
      "outputs": []
    },
    {
      "cell_type": "code",
      "metadata": {
        "colab": {
          "base_uri": "https://localhost:8080/"
        },
        "id": "olJov1TA-XSY",
        "outputId": "6417b779-2088-438f-f37f-65cab88229fe"
      },
      "source": [
        ""
      ],
      "execution_count": 49,
      "outputs": [
        {
          "output_type": "execute_result",
          "data": {
            "text/plain": [
              "array(['2021-08-17', '2019-08-09', '2017-02-28', ..., '2019-01-31',\n",
              "       '2018-03-23', '2016-10-15'], dtype='datetime64[D]')"
            ]
          },
          "metadata": {},
          "execution_count": 49
        }
      ]
    },
    {
      "cell_type": "code",
      "metadata": {
        "id": "p0pJTDwD-3tA"
      },
      "source": [
        ""
      ],
      "execution_count": null,
      "outputs": []
    }
  ]
}