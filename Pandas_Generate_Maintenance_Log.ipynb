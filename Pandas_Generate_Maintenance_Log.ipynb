{
  "nbformat": 4,
  "nbformat_minor": 0,
  "metadata": {
    "colab": {
      "name": "Pandas_Generate_Maintenance_Log.ipynb",
      "provenance": [],
      "authorship_tag": "ABX9TyPxojlriLUO9rw/JJw98UpD",
      "include_colab_link": true
    },
    "kernelspec": {
      "name": "python3",
      "display_name": "Python 3"
    },
    "language_info": {
      "name": "python"
    }
  },
  "cells": [
    {
      "cell_type": "markdown",
      "metadata": {
        "id": "view-in-github",
        "colab_type": "text"
      },
      "source": [
        "<a href=\"https://colab.research.google.com/github/profteachkids/CHE5136_Fall2021/blob/main/Pandas_Generate_Maintenance_Log.ipynb\" target=\"_parent\"><img src=\"https://colab.research.google.com/assets/colab-badge.svg\" alt=\"Open In Colab\"/></a>"
      ]
    },
    {
      "cell_type": "code",
      "metadata": {
        "id": "e7aYaDfU7Bfu"
      },
      "source": [
        "import numpy as np\n",
        "import itertools as it\n",
        "import string\n",
        "import pandas as pd"
      ],
      "execution_count": 1,
      "outputs": []
    },
    {
      "cell_type": "code",
      "metadata": {
        "id": "hQilD3Xi7Cdu"
      },
      "source": [
        "N=int(500e3)\n",
        "startdate=np.datetime64('2021-08-28','D')\n",
        "daysback = np.arange(5*365)"
      ],
      "execution_count": 2,
      "outputs": []
    },
    {
      "cell_type": "code",
      "metadata": {
        "id": "oHo_YHnh7Rjm"
      },
      "source": [
        "start=startdate-np.random.choice(daysback, size=N)\n",
        "end = start+np.random.randint(1,30,size=N)"
      ],
      "execution_count": 3,
      "outputs": []
    },
    {
      "cell_type": "code",
      "metadata": {
        "id": "H8PTyzvp7z5r"
      },
      "source": [
        "equipment_combos=list(it.product(['Reactor','Tank','Column','Pump','Heater'],string.ascii_uppercase[:5]))\n",
        "equipment_combos = [''.join(combo) for combo in equipment_combos]\n",
        "avg_cost_combos=list(it.product([1e6, 1e4, 4e5, 5e3, 2e3],[1, 1.5, 2, 0.5, 1.2]))\n",
        "avg_equipment_cost = [x[0]*x[1] for x in avg_cost_combos]"
      ],
      "execution_count": 4,
      "outputs": []
    },
    {
      "cell_type": "code",
      "metadata": {
        "id": "3zImpGGnbPAY"
      },
      "source": [
        "equipment_choice = np.random.randint(0,len(equipment_combos),size=N)\n",
        "equipment = [equipment_combos[i] for i in equipment_choice]\n",
        "cost = np.array( [avg_equipment_cost[i] for i in equipment_choice])"
      ],
      "execution_count": 5,
      "outputs": []
    },
    {
      "cell_type": "code",
      "metadata": {
        "id": "sX1cIv3I9UHa"
      },
      "source": [
        "tasks =['Inspect','Overhaul','Clean']\n",
        "task_cost_factor=[0.01, 1.0, 0.1]\n",
        "task_choice =  np.random.randint(0,len(tasks),size=N)\n",
        "task = [tasks[i] for i in task_choice]\n",
        "cost *= np.array([task_cost_factor[i] for i in task_choice])\n"
      ],
      "execution_count": 6,
      "outputs": []
    },
    {
      "cell_type": "code",
      "metadata": {
        "id": "r42dY4cUdNyc"
      },
      "source": [
        "names = ['Carlos','Garek','Corrine','George']\n",
        "name_cost_factor=[1.5, 0.9, 0.8, 1.1]\n",
        "name_choice = np.random.randint(0,len(names),size=N)\n",
        "name = [names[i] for i in name_choice]\n",
        "cost *= np.array([name_cost_factor[i] for i in name_choice])\n"
      ],
      "execution_count": 7,
      "outputs": []
    },
    {
      "cell_type": "code",
      "metadata": {
        "id": "LY1tG6pxd8gV"
      },
      "source": [
        "cost = np.random.normal(loc=cost, scale=0.1*cost)\n",
        "cost = np.round(cost,2)"
      ],
      "execution_count": 8,
      "outputs": []
    },
    {
      "cell_type": "code",
      "metadata": {
        "id": "7-HqLaDy_w5n"
      },
      "source": [
        "df=pd.DataFrame({'start':start, 'end':end, 'equipment':equipment, 'task':task, 'name':name, 'cost':cost})"
      ],
      "execution_count": 9,
      "outputs": []
    },
    {
      "cell_type": "code",
      "metadata": {
        "id": "p0pJTDwD-3tA"
      },
      "source": [
        "df.to_csv('maintenance_log.txt',index=False)"
      ],
      "execution_count": 10,
      "outputs": []
    },
    {
      "cell_type": "code",
      "metadata": {
        "id": "fsZXYkwuC1p1"
      },
      "source": [
        ""
      ],
      "execution_count": 10,
      "outputs": []
    }
  ]
}