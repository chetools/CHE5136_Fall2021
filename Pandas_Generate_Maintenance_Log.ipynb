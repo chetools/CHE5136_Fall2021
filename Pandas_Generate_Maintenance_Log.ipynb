{
  "nbformat": 4,
  "nbformat_minor": 0,
  "metadata": {
    "colab": {
      "name": "Pandas_Generate_Maintenance_Log.ipynb",
      "provenance": [],
      "authorship_tag": "ABX9TyM+TasnEzrhLVR91lLHf9pI",
      "include_colab_link": true
    },
    "kernelspec": {
      "name": "python3",
      "display_name": "Python 3"
    },
    "language_info": {
      "name": "python"
    }
  },
  "cells": [
    {
      "cell_type": "markdown",
      "metadata": {
        "id": "view-in-github",
        "colab_type": "text"
      },
      "source": [
        "<a href=\"https://colab.research.google.com/github/profteachkids/CHE5136_Fall2021/blob/main/Pandas_Generate_Maintenance_Log.ipynb\" target=\"_parent\"><img src=\"https://colab.research.google.com/assets/colab-badge.svg\" alt=\"Open In Colab\"/></a>"
      ]
    },
    {
      "cell_type": "code",
      "metadata": {
        "id": "e7aYaDfU7Bfu"
      },
      "source": [
        "import numpy as np\n",
        "import itertools as it\n",
        "import string\n",
        "import pandas as pd"
      ],
      "execution_count": null,
      "outputs": []
    },
    {
      "cell_type": "code",
      "metadata": {
        "id": "hQilD3Xi7Cdu"
      },
      "source": [
        "N=int(500e3)\n",
        "startdate=np.datetime64('2021-08-28','D')\n",
        "daysback = np.arange(5*365)"
      ],
      "execution_count": null,
      "outputs": []
    },
    {
      "cell_type": "code",
      "metadata": {
        "id": "oHo_YHnh7Rjm"
      },
      "source": [
        "start=startdate-np.random.choice(daysback, size=N)\n",
        "end = start+np.random.randint(1,30,size=N)"
      ],
      "execution_count": null,
      "outputs": []
    },
    {
      "cell_type": "code",
      "metadata": {
        "id": "H8PTyzvp7z5r"
      },
      "source": [
        "equipment_combos=list(it.product(['Reactor','Tank','Column','Pump','Heater'],string.ascii_uppercase[:5]))\n",
        "equipment_combos = [''.join(combo) for combo in equipment_combos]"
      ],
      "execution_count": null,
      "outputs": []
    },
    {
      "cell_type": "code",
      "metadata": {
        "id": "pTKcR5308iry"
      },
      "source": [
        "equipment=np.random.choice(equipment_combos,size=N)"
      ],
      "execution_count": null,
      "outputs": []
    },
    {
      "cell_type": "code",
      "metadata": {
        "id": "sX1cIv3I9UHa"
      },
      "source": [
        "name = np.random.choice(['Carlos','Garek','Corrine','Lia','Nhat','George'],size=N)\n",
        "task = np.random.choice(['Inspect','Overhaul','Clean'],size=N)"
      ],
      "execution_count": null,
      "outputs": []
    },
    {
      "cell_type": "code",
      "metadata": {
        "id": "DoT89zmK-Fuh"
      },
      "source": [
        "cost = np.round(10**np.random.uniform(2,6,size=N),2)\n"
      ],
      "execution_count": null,
      "outputs": []
    },
    {
      "cell_type": "code",
      "metadata": {
        "id": "7-HqLaDy_w5n"
      },
      "source": [
        "df=pd.DataFrame({'start':start, 'end':end, 'equipment':equipment, 'task':task, 'name':name, 'cost':cost})"
      ],
      "execution_count": null,
      "outputs": []
    },
    {
      "cell_type": "code",
      "metadata": {
        "id": "p0pJTDwD-3tA"
      },
      "source": [
        "df.to_csv('maintenance_log.txt',index=False)"
      ],
      "execution_count": null,
      "outputs": []
    },
    {
      "cell_type": "code",
      "metadata": {
        "id": "fsZXYkwuC1p1"
      },
      "source": [
        ""
      ],
      "execution_count": null,
      "outputs": []
    }
  ]
}