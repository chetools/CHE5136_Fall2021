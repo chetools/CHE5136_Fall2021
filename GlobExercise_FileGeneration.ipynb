{
  "nbformat": 4,
  "nbformat_minor": 0,
  "metadata": {
    "colab": {
      "name": "GlobExercise_FileGeneration.ipynb",
      "provenance": [],
      "collapsed_sections": [],
      "authorship_tag": "ABX9TyOjLRrHFS8Wa8k18y+ARq7L",
      "include_colab_link": true
    },
    "kernelspec": {
      "name": "python3",
      "display_name": "Python 3"
    }
  },
  "cells": [
    {
      "cell_type": "markdown",
      "metadata": {
        "id": "view-in-github",
        "colab_type": "text"
      },
      "source": [
        "<a href=\"https://colab.research.google.com/github/profteachkids/CHE5136_Fall2021/blob/main/GlobExercise_FileGeneration.ipynb\" target=\"_parent\"><img src=\"https://colab.research.google.com/assets/colab-badge.svg\" alt=\"Open In Colab\"/></a>"
      ]
    },
    {
      "cell_type": "code",
      "metadata": {
        "id": "8WhlNcOH3ars"
      },
      "source": [
        "import numpy as np\n",
        "import datetime\n",
        "import time\n",
        "import os\n",
        "import shutil\n",
        "from pathlib import Path\n",
        "\n"
      ],
      "execution_count": 1,
      "outputs": []
    },
    {
      "cell_type": "code",
      "metadata": {
        "id": "0uxhNNHc52Ze"
      },
      "source": [
        "shutil.rmtree('/content/data', ignore_errors=True)\n",
        "\n",
        "for name in ['SampleA', 'SampleB', 'SampleC', 'SampleD']:\n",
        "    for month in ['Jan', 'Feb', 'Mar']:\n",
        "        path=Path('/content/data', name, month)\n",
        "        path.mkdir(parents=True) \n",
        "        for day in range(1,28,3):\n",
        "            x=np.random.normal(loc=np.linspace(0,10,50), scale=0.5)\n",
        "            y=np.random.randint(-5,5)*x + np.random.randint(-5,5)\n",
        "            y=np.random.normal(loc=y,scale=np.abs(0.1*y))\n",
        "            data = np.stack((x,y),axis=-1)\n",
        "            np.savetxt(f'{path}/Day:{day}',data,delimiter=',',fmt='%10.4f')\n",
        "\n"
      ],
      "execution_count": 3,
      "outputs": []
    },
    {
      "cell_type": "code",
      "metadata": {
        "id": "bwCMHsts3oYk",
        "colab": {
          "base_uri": "https://localhost:8080/",
          "height": 35
        },
        "outputId": "faeb2a7e-b18f-454f-f0d8-1333e174f770"
      },
      "source": [
        "shutil.make_archive('glob_data','zip',Path('/content/data'))"
      ],
      "execution_count": 4,
      "outputs": [
        {
          "output_type": "execute_result",
          "data": {
            "text/plain": [
              "'/content/glob_data.zip'"
            ],
            "application/vnd.google.colaboratory.intrinsic+json": {
              "type": "string"
            }
          },
          "metadata": {},
          "execution_count": 4
        }
      ]
    },
    {
      "cell_type": "code",
      "metadata": {
        "id": "cfr_DAJQ_b_Z"
      },
      "source": [],
      "execution_count": null,
      "outputs": []
    }
  ]
}