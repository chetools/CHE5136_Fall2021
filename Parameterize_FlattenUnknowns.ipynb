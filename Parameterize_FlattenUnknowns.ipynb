{
  "nbformat": 4,
  "nbformat_minor": 0,
  "metadata": {
    "colab": {
      "name": "Parameterize_FlattenUnknowns.ipynb",
      "provenance": [],
      "authorship_tag": "ABX9TyOAzyV7MZgL1JnEI8opHTh4",
      "include_colab_link": true
    },
    "kernelspec": {
      "name": "python3",
      "display_name": "Python 3"
    },
    "language_info": {
      "name": "python"
    }
  },
  "cells": [
    {
      "cell_type": "markdown",
      "metadata": {
        "id": "view-in-github",
        "colab_type": "text"
      },
      "source": [
        "<a href=\"https://colab.research.google.com/github/profteachkids/CHE5136_Fall2021/blob/main/Parameterize_FlattenUnknowns.ipynb\" target=\"_parent\"><img src=\"https://colab.research.google.com/assets/colab-badge.svg\" alt=\"Open In Colab\"/></a>"
      ]
    },
    {
      "cell_type": "code",
      "execution_count": null,
      "metadata": {
        "id": "BIZQ7SetlG7a"
      },
      "outputs": [],
      "source": [
        "import numpy as np\n",
        "import jax.numpy as jnp\n",
        "import jax"
      ]
    },
    {
      "cell_type": "code",
      "source": [
        "def flat(unks):\n",
        "    return np.concatenate([unk.pack() for unk in unks])"
      ],
      "metadata": {
        "id": "m52iEskCCvJ3"
      },
      "execution_count": null,
      "outputs": []
    },
    {
      "cell_type": "code",
      "source": [
        "class Unk():\n",
        "\n",
        "    def __init__(self,x):\n",
        "        self.x=x\n",
        "        if type(x) is np.ndarray:\n",
        "            self.shape=x.shape\n",
        "            self.size = x.size\n",
        "        else:\n",
        "            self.shape=tuple()\n",
        "            self.size=1\n",
        "\n",
        "    def unpack(self,val):\n",
        "        return val.reshape(self.shape)\n",
        "\n",
        "    def pack(self):\n",
        "        return np.ravel(self.x)"
      ],
      "metadata": {
        "id": "wI6Ets4hcRAv"
      },
      "execution_count": null,
      "outputs": []
    },
    {
      "cell_type": "code",
      "source": [
        "def parameterize2(f, **kw):\n",
        "\n",
        "    params={}\n",
        "    vars=[]\n",
        "    unks=[]\n",
        "    for k,v in kw.items():\n",
        "        if isinstance(v,Unk):\n",
        "            vars.append(k)\n",
        "            unks.append(v)\n",
        "        else:\n",
        "            params[k]=v\n",
        "    indices=np.cumsum([unk.size for unk in unks])\n",
        "\n",
        "    def unflat(v):\n",
        "        return {k:unk.unpack(val) for k,unk,val in zip(vars,unks, np.split(v,indices))}\n",
        "\n",
        "    def f_parameterized(v):\n",
        "        var_dict = unflat(v)\n",
        "        params.update(var_dict)\n",
        "        return eqs(**params)\n",
        "\n",
        "\n",
        "    return f_parameterized, unflat, params"
      ],
      "metadata": {
        "id": "dQhsuP7O-XEB"
      },
      "execution_count": null,
      "outputs": []
    },
    {
      "cell_type": "code",
      "source": [
        "def eqs(vtot, mtot, x1, x2, P):\n",
        "    return (x1+3*x2)+2*P\n",
        "\n",
        "x1guess = Unk(np.array([0.1,0.9]))\n",
        "x2guess = Unk(np.array([0.3,0.7]))\n",
        "Pguess = Unk(1e5)\n",
        "\n",
        "v=flat([x1guess, x2guess, Pguess])\n",
        "f, unflat, params = parameterize2(eqs, x1=x1guess, x2=x2guess, P=Pguess, vtot=10., mtot=2.)"
      ],
      "metadata": {
        "id": "VwL5VO8IlbUD"
      },
      "execution_count": null,
      "outputs": []
    },
    {
      "cell_type": "code",
      "source": [
        "unflat(v)"
      ],
      "metadata": {
        "colab": {
          "base_uri": "https://localhost:8080/"
        },
        "id": "-HRe9LNeb4bp",
        "outputId": "b70b52de-d80a-422e-da2f-4fd649e2ed61"
      },
      "execution_count": null,
      "outputs": [
        {
          "output_type": "execute_result",
          "data": {
            "text/plain": [
              "{'P': array(100000.), 'x1': array([0.1, 0.9]), 'x2': array([0.3, 0.7])}"
            ]
          },
          "metadata": {},
          "execution_count": 40
        }
      ]
    },
    {
      "cell_type": "code",
      "source": [
        "jax_f=jax.jit(f)"
      ],
      "metadata": {
        "id": "q14LyZeYldCS"
      },
      "execution_count": null,
      "outputs": []
    },
    {
      "cell_type": "code",
      "source": [
        "jax_f(v)"
      ],
      "metadata": {
        "colab": {
          "base_uri": "https://localhost:8080/"
        },
        "id": "unsUjB1QZt6d",
        "outputId": "5bc4c714-3827-4710-b89f-a6f0d5e781e8"
      },
      "execution_count": null,
      "outputs": [
        {
          "output_type": "execute_result",
          "data": {
            "text/plain": [
              "DeviceArray([200001., 200003.], dtype=float32)"
            ]
          },
          "metadata": {},
          "execution_count": 42
        }
      ]
    },
    {
      "cell_type": "code",
      "source": [
        "jax.jacobian(f)(v)"
      ],
      "metadata": {
        "id": "9-lqQQ6Fb3vk",
        "colab": {
          "base_uri": "https://localhost:8080/"
        },
        "outputId": "8ba36ed2-97bb-42cb-c33b-1dade9749717"
      },
      "execution_count": null,
      "outputs": [
        {
          "output_type": "execute_result",
          "data": {
            "text/plain": [
              "DeviceArray([[1., 0., 3., 0., 2.],\n",
              "             [0., 1., 0., 3., 2.]], dtype=float32)"
            ]
          },
          "metadata": {},
          "execution_count": 43
        }
      ]
    },
    {
      "cell_type": "code",
      "source": [
        ""
      ],
      "metadata": {
        "id": "NbtArIBPYqr3"
      },
      "execution_count": null,
      "outputs": []
    }
  ]
}